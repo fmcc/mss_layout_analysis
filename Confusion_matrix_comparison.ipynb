{
 "cells": [
  {
   "cell_type": "code",
   "execution_count": 1,
   "metadata": {
    "collapsed": true
   },
   "outputs": [],
   "source": [
    "%matplotlib inline"
   ]
  },
  {
   "cell_type": "code",
   "execution_count": 2,
   "metadata": {
    "collapsed": true
   },
   "outputs": [],
   "source": [
    "import numpy as np\n",
    "\n",
    "from msslib.utils import *\n",
    "from msslib.labels import mss_labels\n",
    "import matplotlib.pyplot as plt\n",
    "import matplotlib as mpl\n",
    "\n",
    "from sklearn import metrics"
   ]
  },
  {
   "cell_type": "code",
   "execution_count": 3,
   "metadata": {
    "collapsed": false
   },
   "outputs": [
    {
     "data": {
      "text/plain": [
       "['/home/finlay/Dropbox/test_runs/block_centroid_runs/A_labels_and_results.npy',\n",
       " '/home/finlay/Dropbox/test_runs/block_centroid_runs/B_labels_and_results.npy',\n",
       " '/home/finlay/Dropbox/test_runs/block_centroid_runs/C_labels_and_results.npy']"
      ]
     },
     "execution_count": 3,
     "metadata": {},
     "output_type": "execute_result"
    }
   ],
   "source": [
    "base_path = \"/home/finlay/Dropbox/test_runs/block_centroid_runs/\"\n",
    "results_paths = sorted(list(filter(lambda x: 'results' in x, listpaths(base_path))))\n",
    "results_paths"
   ]
  },
  {
   "cell_type": "code",
   "execution_count": null,
   "metadata": {
    "collapsed": false
   },
   "outputs": [],
   "source": [
    "scores = []\n",
    "for path in results_paths:\n",
    "    results = np.load(path)\n",
    "    p,r,f,_ = metrics.precision_recall_fscore_support(results[0], results[1], average='weighted')\n",
    "    \n",
    "    scores.append({'label': only_basename(path),\n",
    "                    'precision': p,\n",
    "                    'recall': r,\n",
    "                    'fscore': f,\n",
    "                    'c_matrix': metrics.confusion_matrix(results[0], results[1])\n",
    "                  })\n"
   ]
  },
  {
   "cell_type": "code",
   "execution_count": null,
   "metadata": {
    "collapsed": false
   },
   "outputs": [],
   "source": []
  },
  {
   "cell_type": "code",
   "execution_count": null,
   "metadata": {
    "collapsed": false
   },
   "outputs": [],
   "source": [
    "from msslib.evaluate import *"
   ]
  },
  {
   "cell_type": "code",
   "execution_count": null,
   "metadata": {
    "collapsed": false
   },
   "outputs": [],
   "source": [
    "def plot_confusion_matrix(plt, score):\n",
    "    c_m = normalise_confusion_matrix(score['c_matrix'])\n",
    "    plt.imshow(c_m, interpolation='nearest', cmap=plt.cm.YlGn, vmin=0, vmax=1)\n",
    "    #ax.title(score['label'][0])\n",
    "    #tick_marks = np.arange(len(mss_labels))\n",
    "    #ax.xticks(tick_marks, mss_labels)\n",
    "    #ax.yticks(tick_marks, mss_labels)\n",
    "    #ax.tight_layout()\n",
    "    #ax.ylabel('True label')\n",
    "    #ax.xlabel('Predicted label')"
   ]
  },
  {
   "cell_type": "code",
   "execution_count": null,
   "metadata": {
    "collapsed": false
   },
   "outputs": [],
   "source": [
    "plot_confusion_matrix(plt, scores[1])\n"
   ]
  },
  {
   "cell_type": "code",
   "execution_count": null,
   "metadata": {
    "collapsed": false
   },
   "outputs": [],
   "source": [
    "scores[0]"
   ]
  },
  {
   "cell_type": "code",
   "execution_count": null,
   "metadata": {
    "collapsed": false
   },
   "outputs": [],
   "source": [
    "scores[1]"
   ]
  },
  {
   "cell_type": "code",
   "execution_count": null,
   "metadata": {
    "collapsed": false
   },
   "outputs": [],
   "source": [
    "mss_labels = ['background', 'page', 'marginalia', 'note', 'main text']"
   ]
  },
  {
   "cell_type": "code",
   "execution_count": null,
   "metadata": {
    "collapsed": false
   },
   "outputs": [],
   "source": [
    "fig, axes = plt.subplots(4, 3, figsize=(9.2,10),sharex='col', sharey='row')\n",
    "\n",
    "tick_marks = np.arange(len(mss_labels))\n",
    "axes[0][0].set_yticklabels(['']+mss_labels)\n",
    "axes[1][0].set_yticklabels(['']+mss_labels)\n",
    "axes[2][0].set_yticklabels(['']+mss_labels)\n",
    "axes[3][0].set_yticklabels(['']+mss_labels)\n",
    "axes[3][0].set_xticklabels(['']+mss_labels,ha='right', rotation=45)\n",
    "axes[3][1].set_xticklabels(['']+mss_labels,ha='right', rotation=45)\n",
    "axes[3][2].set_xticklabels(['']+mss_labels,ha='right', rotation=45)\n",
    "\n",
    "for a, s in zip(axes.flat, scores):\n",
    "    a.set_title(s['label'][0])\n",
    "    c_m = normalise_confusion_matrix(s['c_matrix'])\n",
    "    im = a.imshow(c_m, interpolation='nearest', cmap=plt.cm.YlGn, vmin=0, vmax=1)\n",
    "    \n",
    "cax,kw = mpl.colorbar.make_axes([ax for ax in axes.flat], aspect=70)\n",
    "plt.colorbar(im, cax=cax, **kw)"
   ]
  },
  {
   "cell_type": "code",
   "execution_count": null,
   "metadata": {
    "collapsed": false
   },
   "outputs": [],
   "source": [
    "fig.savefig('c_matrix.png')"
   ]
  },
  {
   "cell_type": "code",
   "execution_count": null,
   "metadata": {
    "collapsed": false
   },
   "outputs": [],
   "source": [
    "fig = plt.figure()\n",
    "fs = [s['fscore'] for s in scores]\n",
    "labels = [s['label'][0] for s in scores]\n",
    "del fs[6]\n",
    "del labels[6]\n",
    "x = range(len(fs))\n",
    "plt.scatter(np.arange(len(fs)), fs, c='green', marker='D')\n",
    "plt.xticks(x, labels)\n",
    "plt.ylabel('F-score')\n",
    "plt.xlabel('Test runs')\n",
    "\n",
    "fig.savefig('scatter.png')"
   ]
  },
  {
   "cell_type": "code",
   "execution_count": null,
   "metadata": {
    "collapsed": false
   },
   "outputs": [],
   "source": [
    "scores"
   ]
  },
  {
   "cell_type": "code",
   "execution_count": null,
   "metadata": {
    "collapsed": false
   },
   "outputs": [],
   "source": []
  },
  {
   "cell_type": "code",
   "execution_count": null,
   "metadata": {
    "collapsed": false
   },
   "outputs": [],
   "source": []
  },
  {
   "cell_type": "code",
   "execution_count": null,
   "metadata": {
    "collapsed": false
   },
   "outputs": [],
   "source": []
  },
  {
   "cell_type": "code",
   "execution_count": null,
   "metadata": {
    "collapsed": true
   },
   "outputs": [],
   "source": []
  }
 ],
 "metadata": {
  "kernelspec": {
   "display_name": "Python 3",
   "language": "python",
   "name": "python3"
  },
  "language_info": {
   "codemirror_mode": {
    "name": "ipython",
    "version": 3
   },
   "file_extension": ".py",
   "mimetype": "text/x-python",
   "name": "python",
   "nbconvert_exporter": "python",
   "pygments_lexer": "ipython3",
   "version": "3.5.1"
  }
 },
 "nbformat": 4,
 "nbformat_minor": 0
}
