{
 "cells": [
  {
   "cell_type": "code",
   "execution_count": 1,
   "metadata": {
    "collapsed": true
   },
   "outputs": [],
   "source": [
    "%matplotlib inline"
   ]
  },
  {
   "cell_type": "code",
   "execution_count": 2,
   "metadata": {
    "collapsed": true
   },
   "outputs": [],
   "source": [
    "import numpy as np\n",
    "\n",
    "from msslib.utils import *\n",
    "from msslib.labels import mss_labels\n",
    "import matplotlib.pyplot as plt\n",
    "import matplotlib as mpl\n",
    "\n",
    "from sklearn import metrics"
   ]
  },
  {
   "cell_type": "code",
   "execution_count": 3,
   "metadata": {
    "collapsed": false
   },
   "outputs": [],
   "source": [
    "base_path = \"/home/finlay/Dropbox/rewritten_tests/\"\n",
    "results_paths = sorted(list(filter(lambda x: 'results' in x, listpaths(base_path))))"
   ]
  },
  {
   "cell_type": "code",
   "execution_count": 4,
   "metadata": {
    "collapsed": false
   },
   "outputs": [],
   "source": [
    "scores = []\n",
    "for path in results_paths:\n",
    "    results = np.load(path)\n",
    "    p,r,f,_ = metrics.precision_recall_fscore_support(results[0], results[1], average='weighted')\n",
    "    \n",
    "    scores.append({'label': only_basename(path),\n",
    "                    'precision': p,\n",
    "                    'recall': r,\n",
    "                    'fscore': f,\n",
    "                    #'c_matrix': metrics.confusion_matrix(results[0], results[1])\n",
    "                  })\n"
   ]
  },
  {
   "cell_type": "code",
   "execution_count": null,
   "metadata": {
    "collapsed": false
   },
   "outputs": [],
   "source": []
  },
  {
   "cell_type": "code",
   "execution_count": null,
   "metadata": {
    "collapsed": false
   },
   "outputs": [],
   "source": [
    "from msslib.evaluate import *"
   ]
  },
  {
   "cell_type": "code",
   "execution_count": null,
   "metadata": {
    "collapsed": false
   },
   "outputs": [],
   "source": [
    "def plot_confusion_matrix(plt, score):\n",
    "    c_m = normalise_confusion_matrix(score['c_matrix'])\n",
    "    plt.imshow(c_m, interpolation='nearest', cmap=plt.cm.YlGn, vmin=0, vmax=1)\n",
    "    #ax.title(score['label'][0])\n",
    "    #tick_marks = np.arange(len(mss_labels))\n",
    "    #ax.xticks(tick_marks, mss_labels)\n",
    "    #ax.yticks(tick_marks, mss_labels)\n",
    "    #ax.tight_layout()\n",
    "    #ax.ylabel('True label')\n",
    "    #ax.xlabel('Predicted label')"
   ]
  },
  {
   "cell_type": "code",
   "execution_count": null,
   "metadata": {
    "collapsed": false
   },
   "outputs": [],
   "source": []
  },
  {
   "cell_type": "code",
   "execution_count": null,
   "metadata": {
    "collapsed": false
   },
   "outputs": [],
   "source": [
    "plot(scores[0])"
   ]
  },
  {
   "cell_type": "code",
   "execution_count": null,
   "metadata": {
    "collapsed": false
   },
   "outputs": [],
   "source": [
    "mss_labels = ['background', 'page', 'marginalia', 'note', 'main text']"
   ]
  },
  {
   "cell_type": "code",
   "execution_count": null,
   "metadata": {
    "collapsed": false
   },
   "outputs": [],
   "source": [
    "fig, axes = plt.subplots(4, 3, figsize=(9.2,10),sharex='col', sharey='row')\n",
    "\n",
    "tick_marks = np.arange(len(mss_labels))\n",
    "axes[0][0].set_yticklabels(['']+mss_labels)\n",
    "axes[1][0].set_yticklabels(['']+mss_labels)\n",
    "axes[2][0].set_yticklabels(['']+mss_labels)\n",
    "axes[3][0].set_yticklabels(['']+mss_labels)\n",
    "axes[3][0].set_xticklabels(['']+mss_labels,ha='right', rotation=45)\n",
    "axes[3][1].set_xticklabels(['']+mss_labels,ha='right', rotation=45)\n",
    "axes[3][2].set_xticklabels(['']+mss_labels,ha='right', rotation=45)\n",
    "\n",
    "for a, s in zip(axes.flat, scores):\n",
    "    a.set_title(s['label'][0])\n",
    "    c_m = normalise_confusion_matrix(s['c_matrix'])\n",
    "    im = a.imshow(c_m, interpolation='nearest', cmap=plt.cm.YlGn, vmin=0, vmax=1)\n",
    "    \n",
    "cax,kw = mpl.colorbar.make_axes([ax for ax in axes.flat], aspect=70)\n",
    "plt.colorbar(im, cax=cax, **kw)"
   ]
  },
  {
   "cell_type": "code",
   "execution_count": null,
   "metadata": {
    "collapsed": false
   },
   "outputs": [],
   "source": [
    "fig.savefig('c_matrix.png')"
   ]
  },
  {
   "cell_type": "code",
   "execution_count": 29,
   "metadata": {
    "collapsed": false
   },
   "outputs": [
    {
     "data": {
      "image/png": "[encoded data removed]",
      "text/plain": [
       "<matplotlib.figure.Figure at 0x7fc413966d30>"
      ]
     },
     "metadata": {},
     "output_type": "display_data"
    }
   ],
   "source": [
    "fig = plt.figure()\n",
    "fs = [s['fscore'] for s in scores]\n",
    "labels = [s['label'][0] for s in scores]\n",
    "del fs[6]\n",
    "del labels[6]\n",
    "x = range(len(fs))\n",
    "plt.scatter(np.arange(len(fs)), fs, c='green', marker='D')\n",
    "plt.xticks(x, labels)\n",
    "plt.ylabel('F-score')\n",
    "plt.xlabel('Test runs')\n",
    "\n",
    "fig.savefig('scatter.png')"
   ]
  },
  {
   "cell_type": "code",
   "execution_count": 30,
   "metadata": {
    "collapsed": false
   },
   "outputs": [
    {
     "data": {
      "text/plain": [
       "[{'fscore': 0.77211869107065434,\n",
       "  'label': 'A_labels_and_results',\n",
       "  'precision': 0.86181737046866103,\n",
       "  'recall': 0.71927710555791757},\n",
       " {'fscore': 0.79565416629273333,\n",
       "  'label': 'B_labels_and_results',\n",
       "  'precision': 0.87712605890569462,\n",
       "  'recall': 0.74721792628002726},\n",
       " {'fscore': 0.79605138582056734,\n",
       "  'label': 'C_labels_and_results',\n",
       "  'precision': 0.84978144124516208,\n",
       "  'recall': 0.76267173808685929},\n",
       " {'fscore': 0.74021498137174302,\n",
       "  'label': 'D_labels_and_results',\n",
       "  'precision': 0.80138417540139317,\n",
       "  'recall': 0.70332069312504641},\n",
       " {'fscore': 0.67885461692599847,\n",
       "  'label': 'E_labels_and_results',\n",
       "  'precision': 0.7445872814324247,\n",
       "  'recall': 0.63557055973609744},\n",
       " {'fscore': 0.76238637709107027,\n",
       "  'label': 'F_labels_and_results',\n",
       "  'precision': 0.88491595866462591,\n",
       "  'recall': 0.69998865900239371},\n",
       " {'fscore': 0.16847568524110187,\n",
       "  'label': 'G_labels_and_results',\n",
       "  'precision': 0.42699726179353026,\n",
       "  'recall': 0.13361383062358348},\n",
       " {'fscore': 0.6870740307322496,\n",
       "  'label': 'H_labels_and_results',\n",
       "  'precision': 0.77552154689790775,\n",
       "  'recall': 0.63819829298331987},\n",
       " {'fscore': 0.74753929283293574,\n",
       "  'label': 'J_labels_and_results',\n",
       "  'precision': 0.84341975787703372,\n",
       "  'recall': 0.69276026598934282},\n",
       " {'fscore': 0.76546752741131308,\n",
       "  'label': 'K_labels_and_results',\n",
       "  'precision': 0.82085057391642402,\n",
       "  'recall': 0.72888642048895602},\n",
       " {'fscore': 0.76544530316461912,\n",
       "  'label': 'L_labels_and_results',\n",
       "  'precision': 0.81596994794304134,\n",
       "  'recall': 0.73321833058851804},\n",
       " {'fscore': 0.77244233508924542,\n",
       "  'label': 'M_labels_and_results',\n",
       "  'precision': 0.85023660437111659,\n",
       "  'recall': 0.7271695601296756},\n",
       " {'fscore': 0.7663491630278777,\n",
       "  'label': 'N_labels_and_results',\n",
       "  'precision': 0.8389349673981098,\n",
       "  'recall': 0.7202200387337796}]"
      ]
     },
     "execution_count": 30,
     "metadata": {},
     "output_type": "execute_result"
    }
   ],
   "source": [
    "scores"
   ]
  },
  {
   "cell_type": "code",
   "execution_count": null,
   "metadata": {
    "collapsed": false
   },
   "outputs": [],
   "source": []
  },
  {
   "cell_type": "code",
   "execution_count": null,
   "metadata": {
    "collapsed": false
   },
   "outputs": [],
   "source": []
  },
  {
   "cell_type": "code",
   "execution_count": null,
   "metadata": {
    "collapsed": false
   },
   "outputs": [],
   "source": []
  },
  {
   "cell_type": "code",
   "execution_count": null,
   "metadata": {
    "collapsed": true
   },
   "outputs": [],
   "source": []
  }
 ],
 "metadata": {
  "kernelspec": {
   "display_name": "Python 3",
   "language": "python",
   "name": "python3"
  },
  "language_info": {
   "codemirror_mode": {
    "name": "ipython",
    "version": 3
   },
   "file_extension": ".py",
   "mimetype": "text/x-python",
   "name": "python",
   "nbconvert_exporter": "python",
   "pygments_lexer": "ipython3",
   "version": "3.5.1"
  }
 },
 "nbformat": 4,
 "nbformat_minor": 0
}
