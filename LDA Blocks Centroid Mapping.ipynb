{
 "cells": [
  {
   "cell_type": "code",
   "execution_count": 1,
   "metadata": {
    "collapsed": true
   },
   "outputs": [],
   "source": [
    "%matplotlib inline"
   ]
  },
  {
   "cell_type": "code",
   "execution_count": 157,
   "metadata": {
    "collapsed": true
   },
   "outputs": [],
   "source": [
    "import numpy as np\n",
    "from msslib.utils import *\n",
    "from msslib.cluster import *\n",
    "import matplotlib.pyplot as plt\n",
    "import functools as f\n",
    "import random\n",
    "from scipy import misc\n",
    "from scipy.cluster import vq"
   ]
  },
  {
   "cell_type": "code",
   "execution_count": 192,
   "metadata": {
    "collapsed": true
   },
   "outputs": [],
   "source": [
    "data_dir = \"/home/finlay/HMT/data/VenetusA/block_samples/LDA_block_samples/\"\n",
    "label_dir = \"/home/finlay/HMT/data/VenetusA/block_samples/block_labels/\"\n",
    "\n",
    "out_dir = '/home/finlay/test_runs/LDA_centroid_run/A'"
   ]
  },
  {
   "cell_type": "code",
   "execution_count": 141,
   "metadata": {
    "collapsed": false
   },
   "outputs": [],
   "source": [
    "data_paths = sorted(listpaths(data_dir))\n",
    "label_paths = sorted(listpaths(label_dir))"
   ]
  },
  {
   "cell_type": "code",
   "execution_count": 142,
   "metadata": {
    "collapsed": false
   },
   "outputs": [],
   "source": [
    "label_data = [(only_basename(l), np.load(l)/10, np.load(d)) for l, d in zip(label_paths, data_paths)]"
   ]
  },
  {
   "cell_type": "code",
   "execution_count": 160,
   "metadata": {
    "collapsed": true
   },
   "outputs": [],
   "source": [
    "random.shuffle(label_data)\n",
    "\n",
    "training_pages = label_data[:50]\n",
    "test_pages = label_data[50:]"
   ]
  },
  {
   "cell_type": "code",
   "execution_count": 144,
   "metadata": {
    "collapsed": false
   },
   "outputs": [],
   "source": [
    "def block_pair_to_centroids(a):\n",
    "    return labelled_centroids(to_dict_list(zip(flatten_vector_matrix(a[1]).flatten(), flatten_vector_matrix(a[2]))))\n",
    "\n",
    "centroids = labelled_centroids(to_dict_list(it.chain.from_iterable(map(block_pair_to_centroids, training_pages))))"
   ]
  },
  {
   "cell_type": "code",
   "execution_count": 199,
   "metadata": {
    "collapsed": false
   },
   "outputs": [
    {
     "name": "stdout",
     "output_type": "stream",
     "text": [
      "[ 0 10 20 30 40]\n",
      "[ 0 10 20 30 40]\n",
      "[ 0 10 20 30 40]\n",
      "[ 0 10 20 30 40]\n",
      "[ 0 10 20 30 40]\n",
      "[ 0 10 20 30 40]\n",
      "[ 0 10 20 30 40]\n",
      "[ 0 10 20 30 40]\n",
      "[ 0 10 20 30 40]\n",
      "[ 0 10 20 30 40]\n",
      "[ 0 10 20 30 40]\n",
      "[ 0 10 20 30 40]\n",
      "[ 0 10 20 30 40]\n",
      "[ 0 10 20 30 40]\n",
      "[ 0 10 20 30 40]\n",
      "[ 0 10 20 30 40]\n",
      "[ 0 10 20 30 40]\n",
      "[ 0 10 20 30 40]\n",
      "[ 0 10 20 30 40]\n",
      "[ 0 10 20 30 40]\n",
      "[ 0 10 20 30 40]\n",
      "[ 0 10 20 30 40]\n",
      "[ 0 10 20 30 40]\n",
      "[ 0 10 20 30 40]\n",
      "[ 0 10 20 30 40]\n",
      "[ 0 10 20 30 40]\n",
      "[ 0 10 20 30 40]\n",
      "[ 0 10 20 30 40]\n",
      "[ 0 10 20 30 40]\n",
      "[ 0 10 20 30 40]\n",
      "[ 0 10 20 30 40]\n",
      "[ 0 10 20 30 40]\n",
      "[ 0 10 20 30 40]\n",
      "[ 0 10 20 30 40]\n",
      "[ 0 10 20 30 40]\n",
      "[ 0 10 20 30 40]\n",
      "[ 0 10 20 30 40]\n",
      "[ 0 10 20 30 40]\n",
      "[ 0 10 20 30 40]\n",
      "[ 0 10 20 30 40]\n",
      "[ 0 10 20 30 40]\n",
      "[ 0 10 20 30 40]\n",
      "[ 0 10 20 30 40]\n",
      "[ 0 10 20 30 40]\n",
      "[ 0 10 20 30 40]\n",
      "[ 0 10 20 30 40]\n",
      "[ 0 10 20 30 40]\n",
      "[ 0 10 20 30 40]\n",
      "[ 0 10 20 30 40]\n",
      "[ 0 10 20 30 40]\n",
      "[ 0 10 20 30 40]\n",
      "[ 0 10 20 30 40]\n",
      "[ 0 10 20 30 40]\n",
      "[ 0 10 20 30 40]\n",
      "[ 0 10 20 30 40]\n",
      "[ 0 10 20 30 40]\n",
      "[ 0 10 20 30 40]\n",
      "[ 0 10 20 30 40]\n",
      "[ 0 10 20 30 40]\n",
      "[ 0 10 20 30 40]\n",
      "[ 0 10 20 30 40]\n",
      "[ 0 10 20 30 40]\n",
      "[ 0 10 20 30 40]\n",
      "[ 0 10 20 30 40]\n",
      "[ 0 10 20 30 40]\n",
      "[ 0 10 20 30 40]\n",
      "[ 0 10 20 30 40]\n",
      "[ 0 10 20 30 40]\n",
      "[ 0 10 20 30 40]\n",
      "[ 0 10 20 30 40]\n",
      "[ 0 10 20 30 40]\n",
      "[ 0 10 20 30 40]\n",
      "[ 0 10 20 30 40]\n",
      "[ 0 10 20 30 40]\n",
      "[ 0 10 20 30 40]\n",
      "[ 0 10 20 30 40]\n",
      "[ 0 10 20 30 40]\n",
      "[ 0 10 20 30 40]\n",
      "[ 0 10 20 30 40]\n",
      "[ 0 10 20 30 40]\n",
      "[ 0 10 20 30 40]\n",
      "[ 0 10 20 30 40]\n",
      "[ 0 10 20 30 40]\n",
      "[ 0 10 20 30 40]\n",
      "[ 0 10 20 30 40]\n",
      "[ 0 10 20 30 40]\n",
      "[ 0 10 20 30 40]\n",
      "[ 0 10 20 30 40]\n",
      "[ 0 10 20 30 40]\n",
      "[ 0 10 20 30 40]\n",
      "[ 0 10 20 30 40]\n",
      "[ 0 10 20 30 40]\n",
      "[ 0 10 20 30 40]\n",
      "[ 0 10 20 30 40]\n",
      "[ 0 10 20 30 40]\n",
      "[ 0 10 20 30 40]\n",
      "[ 0 10 20 30 40]\n",
      "[ 0 10 20 30 40]\n",
      "[ 0 10 20 30 40]\n",
      "[ 0 10 20 30 40]\n",
      "[ 0 10 20 30 40]\n",
      "[ 0 10 20 30 40]\n",
      "[ 0 10 20 30 40]\n",
      "[ 0 10 20 30 40]\n",
      "[ 0 10 20 30 40]\n",
      "[ 0 10 20 30 40]\n",
      "[ 0 10 20 30 40]\n",
      "[ 0 10 20 30 40]\n",
      "[ 0 10 20 30 40]\n",
      "[ 0 10 20 30 40]\n",
      "[ 0 10 20 30 40]\n",
      "[ 0 10 20 30 40]\n",
      "[ 0 10 20 30 40]\n",
      "[ 0 10 20 30 40]\n",
      "[ 0 10 20 30 40]\n",
      "[ 0 10 20 30 40]\n"
     ]
    }
   ],
   "source": [
    "cs = [c[1] for c in centroids]\n",
    "ls = [c[0] for c in centroids]\n",
    "\n",
    "for p in test_pages:\n",
    "    n_l = np.zeros(p[1].shape[:2])\n",
    "    o = p[2]\n",
    "    for i in range(n_l.shape[0]):\n",
    "        codes, dist = vq.vq(o[i], cs)\n",
    "        n_l[i] = codes\n",
    "    n_image = resize_img(n_l, (1200,900))\n",
    "    n_image[n_image==64] = 10\n",
    "    n_image[n_image==127] = 20\n",
    "    n_image[n_image==191] = 30\n",
    "    n_image[n_image==255] = 40\n",
    "\n",
    "    name = p[0].split(\"_\")[0]\n",
    "    print(np.unique(n_image))\n",
    "    oot= format_path(out_dir, 'png', name)\n",
    "    misc.imsave(oot, n_image)"
   ]
  },
  {
   "cell_type": "code",
   "execution_count": 162,
   "metadata": {
    "collapsed": false
   },
   "outputs": [
    {
     "data": {
      "text/plain": [
       "<matplotlib.image.AxesImage at 0x7f9fc28e92b0>"
      ]
     },
     "execution_count": 162,
     "metadata": {},
     "output_type": "execute_result"
    },
    {
     "data": {
      "image/png": "[encoded data removed]",
      "text/plain": [
       "<matplotlib.figure.Figure at 0x7f9fc29020b8>"
      ]
     },
     "metadata": {},
     "output_type": "display_data"
    }
   ],
   "source": [
    "plt.imshow(n_l, interpolation='nearest')"
   ]
  },
  {
   "cell_type": "code",
   "execution_count": 184,
   "metadata": {
    "collapsed": false
   },
   "outputs": [
    {
     "data": {
      "text/plain": [
       "<matplotlib.image.AxesImage at 0x7f9fc2533f98>"
      ]
     },
     "execution_count": 184,
     "metadata": {},
     "output_type": "execute_result"
    },
    {
     "data": {
      "image/png": "[encoded data removed]",
      "text/plain": [
       "<matplotlib.figure.Figure at 0x7f9fc25ab940>"
      ]
     },
     "metadata": {},
     "output_type": "display_data"
    }
   ],
   "source": [
    "lab_1 = p[1].reshape(60,45)\n",
    "plt.imshow(lab_1, interpolation='nearest')"
   ]
  },
  {
   "cell_type": "code",
   "execution_count": 164,
   "metadata": {
    "collapsed": false
   },
   "outputs": [
    {
     "data": {
      "text/plain": [
       "'VA115RN-0116_label'"
      ]
     },
     "execution_count": 164,
     "metadata": {},
     "output_type": "execute_result"
    }
   ],
   "source": [
    "p[0]"
   ]
  },
  {
   "cell_type": "code",
   "execution_count": 185,
   "metadata": {
    "collapsed": false
   },
   "outputs": [],
   "source": [
    "last_img = misc.imread('/home/finlay/test_runs/block_centroid_runs/B/VA115RN-0116.png')\n",
    "last_img = last_img/10"
   ]
  },
  {
   "cell_type": "code",
   "execution_count": 186,
   "metadata": {
    "collapsed": false
   },
   "outputs": [
    {
     "data": {
      "text/plain": [
       "<matplotlib.image.AxesImage at 0x7f9fc2494518>"
      ]
     },
     "execution_count": 186,
     "metadata": {},
     "output_type": "execute_result"
    },
    {
     "data": {
      "image/png": "[encoded data removed]",
      "text/plain": [
       "<matplotlib.figure.Figure at 0x7f9fc25af2e8>"
      ]
     },
     "metadata": {},
     "output_type": "display_data"
    }
   ],
   "source": [
    "plt.imshow(last_img, interpolation='nearest')"
   ]
  },
  {
   "cell_type": "code",
   "execution_count": 215,
   "metadata": {
    "collapsed": false
   },
   "outputs": [],
   "source": [
    "path = '/home/finlay/test_runs/LDA_SSVM_grid_run/A/VA072RN-0073.png'\n",
    "img = misc.imread(path)"
   ]
  },
  {
   "cell_type": "code",
   "execution_count": 216,
   "metadata": {
    "collapsed": false
   },
   "outputs": [
    {
     "data": {
      "text/plain": [
       "array([30, 30, 30, ..., 30, 30, 30], dtype=uint8)"
      ]
     },
     "execution_count": 216,
     "metadata": {},
     "output_type": "execute_result"
    }
   ],
   "source": [
    "img[img==30]"
   ]
  },
  {
   "cell_type": "code",
   "execution_count": 217,
   "metadata": {
    "collapsed": false
   },
   "outputs": [],
   "source": [
    "misc.imsave(path,img)"
   ]
  },
  {
   "cell_type": "code",
   "execution_count": 208,
   "metadata": {
    "collapsed": false
   },
   "outputs": [
    {
     "data": {
      "text/plain": [
       "20"
      ]
     },
     "execution_count": 208,
     "metadata": {},
     "output_type": "execute_result"
    }
   ],
   "source": [
    "img[400,400]"
   ]
  },
  {
   "cell_type": "code",
   "execution_count": null,
   "metadata": {
    "collapsed": true
   },
   "outputs": [],
   "source": []
  }
 ],
 "metadata": {
  "kernelspec": {
   "display_name": "Python 3",
   "language": "python",
   "name": "python3"
  },
  "language_info": {
   "codemirror_mode": {
    "name": "ipython",
    "version": 3
   },
   "file_extension": ".py",
   "mimetype": "text/x-python",
   "name": "python",
   "nbconvert_exporter": "python",
   "pygments_lexer": "ipython3",
   "version": "3.5.1"
  }
 },
 "nbformat": 4,
 "nbformat_minor": 0
}
