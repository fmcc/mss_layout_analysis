{
 "cells": [
  {
   "cell_type": "code",
   "execution_count": 1,
   "metadata": {
    "collapsed": false
   },
   "outputs": [],
   "source": [
    "%matplotlib inline\n",
    "from msslib.prepare import *\n",
    "from msslib.sample import *\n",
    "from msslib.features import *\n",
    "from msslib.cluster import *\n",
    "import matplotlib.pyplot as plt\n",
    "from scipy.cluster import vq\n",
    "import functools as f"
   ]
  },
  {
   "cell_type": "code",
   "execution_count": 2,
   "metadata": {
    "collapsed": true
   },
   "outputs": [],
   "source": [
    "img_path = \"/home/finlay/HMT/original_images/VenetusA/VA083RN-0255.jpg\"\n",
    "label_path = \"/home/finlay/HMT/data/VenetusA/region_img/VA083RN-0255.png\"\n",
    "page_path = \"/home/finlay/HMT/data/VenetusA/region_xml/VA083RN-0255.xml\""
   ]
  },
  {
   "cell_type": "code",
   "execution_count": 155,
   "metadata": {
    "collapsed": false
   },
   "outputs": [],
   "source": [
    "# Define the size of window for samples\n",
    "window_size = 41\n",
    "# Initialise a weighting function for this window size\n",
    "weighter = gaussian_weighter(window_size)\n",
    "# Initialise a function to get a window of this size from an image\n",
    "windower = f.partial(win_centred_on, window=window_size)\n",
    "# Initialise a function to shift a point to accomodate a border from this window size. \n",
    "shifter = f.partial(point_shift, window=window_size)\n",
    "\n",
    "# Initialise a scaling function for images. \n",
    "scaler = img_scaler((0.2,0.2))\n",
    "\n",
    "# Define the sampling function\n",
    "make_observations = compose(prepare_features, real_fft, weighter, std_dev_contrast_stretch)\n",
    "\n",
    "# Open the two images \n",
    "img, label = open_image_label(page_path, img_path, label_path)\n",
    "# Scale both images down\n",
    "img, label = scaler(img, label)\n",
    "# Create an image for sampling with FFT \n",
    "f_img = prepare_fft_image(img, window_size)\n",
    "\n",
    "#define methods to access images.\n",
    "access_img = img_accessor(img, identity)\n",
    "access_label = img_accessor(label, identity)\n",
    "access_f_img = img_accessor(f_img, compose(windower, shifter))\n",
    "\n",
    "random_coord = random_xy_coord_gen(0,img.shape[0],0,img.shape[1])"
   ]
  },
  {
   "cell_type": "code",
   "execution_count": 156,
   "metadata": {
    "collapsed": false
   },
   "outputs": [
    {
     "data": {
      "text/plain": [
       "<matplotlib.image.AxesImage at 0x7f3ed87d31d0>"
      ]
     },
     "execution_count": 156,
     "metadata": {},
     "output_type": "execute_result"
    },
    {
     "data": {
      "image/png": "[encoded data removed]",
      "text/plain": [
       "<matplotlib.figure.Figure at 0x7f3ed8820518>"
      ]
     },
     "metadata": {},
     "output_type": "display_data"
    }
   ],
   "source": [
    "plt.imshow(label, interpolation='nearest')"
   ]
  },
  {
   "cell_type": "code",
   "execution_count": 157,
   "metadata": {
    "collapsed": false
   },
   "outputs": [],
   "source": [
    "base_path = \"/home/finlay/Dropbox/rewritten_tests/\"\n",
    "dir_paths = sorted(list(filter(lambda x: not 'results' in x, listpaths(base_path))))\n",
    "results_label_paths = [os.path.join(d, os.path.basename(label_path)) for d in dir_paths]\n",
    "overlay_path = \"./overlays/1/\""
   ]
  },
  {
   "cell_type": "code",
   "execution_count": 158,
   "metadata": {
    "collapsed": false
   },
   "outputs": [],
   "source": [
    "results_imgs = [(_overlay_path(p), misc.imread(p)) for p in results_label_paths if os.path.isfile(p)]"
   ]
  },
  {
   "cell_type": "code",
   "execution_count": 159,
   "metadata": {
    "collapsed": false
   },
   "outputs": [],
   "source": [
    "from matplotlib.colors import ColorConverter\n",
    "from PIL import Image\n",
    "conv = ColorConverter()\n",
    "old_c = ['#000000','#FFFFB3','#BEBADA','#FB8072','#80B1D3','#FDB462','#B3DE69','#FCCDE5','#D9D9D9','#BC80BD','#CCEBC5', '#FFED6F']\n",
    "colors = [np.asarray(conv.to_rgb(c))*255 for c in old_c]\n",
    "\n",
    "def _overlay_path(p):\n",
    "    b, n = os.path.split(p)\n",
    "    return b[-1] + \"_\" + n\n",
    "\n",
    "def _overlay_label_path(p):\n",
    "    b, n = os.path.split(p)\n",
    "    return \"label_\" + n\n",
    "\n",
    "def overlay_label(img, label):\n",
    "    overlay = np.zeros_like(img)\n",
    "    for i,n in enumerate(np.unique(label)):\n",
    "        overlay[np.where(label==n)] = colors[i]\n",
    "    return Image.blend(misc.toimage(img), misc.toimage(overlay), 0.4)\n"
   ]
  },
  {
   "cell_type": "code",
   "execution_count": 160,
   "metadata": {
    "collapsed": false
   },
   "outputs": [],
   "source": [
    "for f_name, result_img in results_imgs:\n",
    "    misc.imsave(os.path.join(overlay_path, f_name), overlay_label(img, result_img))\n",
    "\n",
    "misc.imsave(os.path.join(overlay_path, _overlay_label_path(label_path)), overlay_label(img, label))"
   ]
  },
  {
   "cell_type": "code",
   "execution_count": null,
   "metadata": {
    "collapsed": false
   },
   "outputs": [],
   "source": []
  },
  {
   "cell_type": "code",
   "execution_count": 95,
   "metadata": {
    "collapsed": false
   },
   "outputs": [],
   "source": []
  },
  {
   "cell_type": "code",
   "execution_count": null,
   "metadata": {
    "collapsed": false
   },
   "outputs": [],
   "source": []
  },
  {
   "cell_type": "code",
   "execution_count": null,
   "metadata": {
    "collapsed": false
   },
   "outputs": [],
   "source": []
  },
  {
   "cell_type": "code",
   "execution_count": null,
   "metadata": {
    "collapsed": false
   },
   "outputs": [],
   "source": []
  },
  {
   "cell_type": "code",
   "execution_count": null,
   "metadata": {
    "collapsed": false
   },
   "outputs": [],
   "source": []
  },
  {
   "cell_type": "code",
   "execution_count": null,
   "metadata": {
    "collapsed": false
   },
   "outputs": [],
   "source": []
  },
  {
   "cell_type": "code",
   "execution_count": null,
   "metadata": {
    "collapsed": false
   },
   "outputs": [],
   "source": []
  },
  {
   "cell_type": "code",
   "execution_count": null,
   "metadata": {
    "collapsed": false
   },
   "outputs": [],
   "source": []
  },
  {
   "cell_type": "code",
   "execution_count": null,
   "metadata": {
    "collapsed": false
   },
   "outputs": [],
   "source": []
  },
  {
   "cell_type": "code",
   "execution_count": null,
   "metadata": {
    "collapsed": false
   },
   "outputs": [],
   "source": []
  },
  {
   "cell_type": "code",
   "execution_count": null,
   "metadata": {
    "collapsed": false
   },
   "outputs": [],
   "source": []
  },
  {
   "cell_type": "code",
   "execution_count": null,
   "metadata": {
    "collapsed": false
   },
   "outputs": [],
   "source": []
  },
  {
   "cell_type": "code",
   "execution_count": null,
   "metadata": {
    "collapsed": false
   },
   "outputs": [],
   "source": []
  },
  {
   "cell_type": "code",
   "execution_count": null,
   "metadata": {
    "collapsed": false
   },
   "outputs": [],
   "source": []
  },
  {
   "cell_type": "code",
   "execution_count": null,
   "metadata": {
    "collapsed": false
   },
   "outputs": [],
   "source": [
    "\n"
   ]
  },
  {
   "cell_type": "code",
   "execution_count": null,
   "metadata": {
    "collapsed": false
   },
   "outputs": [],
   "source": []
  },
  {
   "cell_type": "code",
   "execution_count": null,
   "metadata": {
    "collapsed": false
   },
   "outputs": [],
   "source": []
  },
  {
   "cell_type": "code",
   "execution_count": null,
   "metadata": {
    "collapsed": false
   },
   "outputs": [],
   "source": [
    "\n"
   ]
  },
  {
   "cell_type": "code",
   "execution_count": null,
   "metadata": {
    "collapsed": false
   },
   "outputs": [],
   "source": []
  },
  {
   "cell_type": "code",
   "execution_count": null,
   "metadata": {
    "collapsed": false
   },
   "outputs": [],
   "source": []
  },
  {
   "cell_type": "code",
   "execution_count": null,
   "metadata": {
    "collapsed": false
   },
   "outputs": [],
   "source": []
  },
  {
   "cell_type": "code",
   "execution_count": null,
   "metadata": {
    "collapsed": false
   },
   "outputs": [],
   "source": []
  },
  {
   "cell_type": "code",
   "execution_count": null,
   "metadata": {
    "collapsed": false
   },
   "outputs": [],
   "source": []
  },
  {
   "cell_type": "code",
   "execution_count": null,
   "metadata": {
    "collapsed": true
   },
   "outputs": [],
   "source": []
  }
 ],
 "metadata": {
  "kernelspec": {
   "display_name": "Python 3",
   "language": "python",
   "name": "python3"
  },
  "language_info": {
   "codemirror_mode": {
    "name": "ipython",
    "version": 3
   },
   "file_extension": ".py",
   "mimetype": "text/x-python",
   "name": "python",
   "nbconvert_exporter": "python",
   "pygments_lexer": "ipython3",
   "version": "3.5.1"
  }
 },
 "nbformat": 4,
 "nbformat_minor": 0
}
