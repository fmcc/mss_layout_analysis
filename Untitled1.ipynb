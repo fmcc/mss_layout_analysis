{
 "cells": [
  {
   "cell_type": "code",
   "execution_count": 1,
   "metadata": {
    "collapsed": false
   },
   "outputs": [],
   "source": [
    "%matplotlib inline\n",
    "from msslib.prepare import *\n",
    "from msslib.sample import *\n",
    "from msslib.features import *\n",
    "from msslib.cluster import *\n",
    "import matplotlib.pyplot as plt\n",
    "from scipy.cluster import vq\n",
    "import functools as f"
   ]
  },
  {
   "cell_type": "code",
   "execution_count": 2,
   "metadata": {
    "collapsed": true
   },
   "outputs": [],
   "source": [
    "img_path = \"/home/finlay/HMT/original_images/VenetusA/VA015RN-0016.jpg\"\n",
    "label_path = \"/home/finlay/HMT/data/VenetusA/region_img/VA015RN-0016.png\"\n",
    "page_path = \"/home/finlay/HMT/data/VenetusA/region_xml/VA015RN-0016.xml\""
   ]
  },
  {
   "cell_type": "code",
   "execution_count": 3,
   "metadata": {
    "collapsed": false
   },
   "outputs": [],
   "source": [
    "# Define the size of window for samples\n",
    "window_size = 41\n",
    "# Initialise a weighting function for this window size\n",
    "weighter = gaussian_weighter(window_size)\n",
    "# Initialise a function to get a window of this size from an image\n",
    "windower = f.partial(win_centred_on, window=window_size)\n",
    "# Initialise a function to shift a point to accomodate a border from this window size. \n",
    "shifter = f.partial(point_shift, window=window_size)\n",
    "\n",
    "# Initialise a scaling function for images. \n",
    "scaler = img_scaler((0.2,0.2))\n",
    "\n",
    "# Define the sampling function\n",
    "make_observations = compose(prepare_features, real_fft, weighter, std_dev_contrast_stretch)\n",
    "\n",
    "# Open the two images \n",
    "img, label = open_image_label(page_path, img_path, label_path)\n",
    "# Scale both images down\n",
    "img, label = scaler(img, label)\n",
    "# Create an image for sampling with FFT \n",
    "f_img = prepare_fft_image(img, window_size)\n",
    "\n",
    "#define methods to access images.\n",
    "access_img = img_accessor(img, identity)\n",
    "access_label = img_accessor(label, identity)\n",
    "access_f_img = img_accessor(f_img, compose(windower, shifter))\n",
    "\n",
    "random_coord = random_xy_coord_gen(0,img.shape[0],0,img.shape[1])"
   ]
  },
  {
   "cell_type": "code",
   "execution_count": 4,
   "metadata": {
    "collapsed": true
   },
   "outputs": [],
   "source": [
    "aye = take_n_samples(10000, random_coord, compose(make_observations, access_f_img))    "
   ]
  },
  {
   "cell_type": "code",
   "execution_count": 5,
   "metadata": {
    "collapsed": false
   },
   "outputs": [
    {
     "data": {
      "text/plain": [
       "array([ 24.33611279,  31.16950627,  19.13308616, ...,   3.69907788,\n",
       "         6.25793159,   6.94539606])"
      ]
     },
     "execution_count": 5,
     "metadata": {},
     "output_type": "execute_result"
    }
   ],
   "source": [
    "aye[0]"
   ]
  },
  {
   "cell_type": "code",
   "execution_count": 10,
   "metadata": {
    "collapsed": false
   },
   "outputs": [
    {
     "ename": "SyntaxError",
     "evalue": "unexpected EOF while parsing (<ipython-input-10-431b34b08e00>, line 1)",
     "output_type": "error",
     "traceback": [
      "\u001b[1;36m  File \u001b[1;32m\"<ipython-input-10-431b34b08e00>\"\u001b[1;36m, line \u001b[1;32m1\u001b[0m\n\u001b[1;33m    def wit(*args):\u001b[0m\n\u001b[1;37m                   ^\u001b[0m\n\u001b[1;31mSyntaxError\u001b[0m\u001b[1;31m:\u001b[0m unexpected EOF while parsing\n"
     ]
    }
   ],
   "source": [
    "def aye(*functions):\n",
    "return tuple([func(1) for func in functions])"
   ]
  },
  {
   "cell_type": "code",
   "execution_count": null,
   "metadata": {
    "collapsed": false
   },
   "outputs": [],
   "source": [
    "observations = label_dict(label)\n",
    "\n",
    "for i in range(4000):\n",
    "    point = random_coord()\n",
    "    fft_point = point_shift(point, window_size)\n",
    "    window = f_img[win_centred_on(fft_point, window_size)]\n",
    "    l = label[point]\n",
    "    observations[l].append(prepare_features(sampler(window)))"
   ]
  },
  {
   "cell_type": "code",
   "execution_count": null,
   "metadata": {
    "collapsed": false
   },
   "outputs": [],
   "source": [
    "centroids = []\n",
    "labels = []\n",
    "for key, val in observations.items():\n",
    "    labels.append(key)\n",
    "    centroids.append(np.asarray(val).mean(axis=0))\n",
    "\n",
    "centroids = np.asarray(centroids)"
   ]
  },
  {
   "cell_type": "code",
   "execution_count": null,
   "metadata": {
    "collapsed": false
   },
   "outputs": [],
   "source": [
    "observations2 = label_dict(label)\n",
    "\n",
    "for i in range(10000):\n",
    "    point = random_coord()\n",
    "    fft_point = point_shift(point, window_size)\n",
    "    window = f_img[win_centred_on(fft_point, window_size)]\n",
    "    l = label[point]\n",
    "    observations2[l].append(prepare_features(sampler(window)))"
   ]
  },
  {
   "cell_type": "code",
   "execution_count": null,
   "metadata": {
    "collapsed": false
   },
   "outputs": [],
   "source": [
    "from collections import Counter\n",
    "for k,v in observations2.items():\n",
    "    codes, dist = vq.vq(np.asarray(v), centroids)\n",
    "    print(k,Counter(np.unique(codes)))"
   ]
  },
  {
   "cell_type": "code",
   "execution_count": null,
   "metadata": {
    "collapsed": false
   },
   "outputs": [],
   "source": [
    "centroids.shape"
   ]
  },
  {
   "cell_type": "code",
   "execution_count": null,
   "metadata": {
    "collapsed": false
   },
   "outputs": [],
   "source": [
    "obse"
   ]
  },
  {
   "cell_type": "code",
   "execution_count": null,
   "metadata": {
    "collapsed": false
   },
   "outputs": [],
   "source": [
    "n = real_fft(gaussian_weight(std_dev_contrast_stretch(i)))\n",
    "plt.imshow(np.fft.fftshift(n), cmap='gray', interpolation='nearest')"
   ]
  },
  {
   "cell_type": "code",
   "execution_count": null,
   "metadata": {
    "collapsed": false
   },
   "outputs": [],
   "source": [
    "plt.imshow(gaussian_weight(n))"
   ]
  },
  {
   "cell_type": "code",
   "execution_count": null,
   "metadata": {
    "collapsed": false
   },
   "outputs": [],
   "source": [
    "plt.imshow(wit[4][1], cmap='gray', interpolation='nearest')"
   ]
  },
  {
   "cell_type": "code",
   "execution_count": null,
   "metadata": {
    "collapsed": false
   },
   "outputs": [],
   "source": [
    "import functools as f"
   ]
  },
  {
   "cell_type": "code",
   "execution_count": null,
   "metadata": {
    "collapsed": false
   },
   "outputs": [],
   "source": [
    "def x(a,b):\n",
    "    return lambda p: a[b(p)]\n",
    "\n",
    "aye = f.partial(point_shift, window=10)\n"
   ]
  },
  {
   "cell_type": "code",
   "execution_count": null,
   "metadata": {
    "collapsed": false
   },
   "outputs": [],
   "source": [
    "img_get = x(img, aye)"
   ]
  },
  {
   "cell_type": "code",
   "execution_count": null,
   "metadata": {
    "collapsed": false
   },
   "outputs": [],
   "source": []
  },
  {
   "cell_type": "code",
   "execution_count": null,
   "metadata": {
    "collapsed": false
   },
   "outputs": [],
   "source": [
    "\n"
   ]
  },
  {
   "cell_type": "code",
   "execution_count": null,
   "metadata": {
    "collapsed": false
   },
   "outputs": [],
   "source": []
  },
  {
   "cell_type": "code",
   "execution_count": null,
   "metadata": {
    "collapsed": false
   },
   "outputs": [],
   "source": []
  },
  {
   "cell_type": "code",
   "execution_count": null,
   "metadata": {
    "collapsed": false
   },
   "outputs": [],
   "source": []
  },
  {
   "cell_type": "code",
   "execution_count": null,
   "metadata": {
    "collapsed": false
   },
   "outputs": [],
   "source": []
  },
  {
   "cell_type": "code",
   "execution_count": null,
   "metadata": {
    "collapsed": false
   },
   "outputs": [],
   "source": []
  },
  {
   "cell_type": "code",
   "execution_count": null,
   "metadata": {
    "collapsed": true
   },
   "outputs": [],
   "source": []
  }
 ],
 "metadata": {
  "kernelspec": {
   "display_name": "Python 3",
   "language": "python",
   "name": "python3"
  },
  "language_info": {
   "codemirror_mode": {
    "name": "ipython",
    "version": 3
   },
   "file_extension": ".py",
   "mimetype": "text/x-python",
   "name": "python",
   "nbconvert_exporter": "python",
   "pygments_lexer": "ipython3",
   "version": "3.5.1"
  }
 },
 "nbformat": 4,
 "nbformat_minor": 0
}
