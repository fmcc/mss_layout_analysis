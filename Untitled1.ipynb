{
 "cells": [
  {
   "cell_type": "code",
   "execution_count": 1,
   "metadata": {
    "collapsed": false
   },
   "outputs": [],
   "source": [
    "%matplotlib inline\n",
    "from msslib.prepare import *\n",
    "from msslib.sample import *\n",
    "from msslib.features import *\n",
    "from msslib.cluster import *\n",
    "import matplotlib.pyplot as plt\n",
    "\n",
    "from scipy.cluster import vq"
   ]
  },
  {
   "cell_type": "code",
   "execution_count": 2,
   "metadata": {
    "collapsed": true
   },
   "outputs": [],
   "source": [
    "img_path = \"/home/finlay/HMT/original_images/VenetusA/VA015RN-0016.jpg\"\n",
    "label_path = \"/home/finlay/HMT/data/VenetusA/region_img/VA015RN-0016.png\"\n",
    "page_path = \"/home/finlay/HMT/data/VenetusA/region_xml/VA015RN-0016.xml\""
   ]
  },
  {
   "cell_type": "code",
   "execution_count": 3,
   "metadata": {
    "collapsed": false
   },
   "outputs": [],
   "source": [
    "window_size = 41\n",
    "scaler = img_scaler((0.2,0.2))\n",
    "weighter = gaussian_weighter(window_size)\n",
    "sampler = lambda img: real_fft(weighter(std_dev_contrast_stretch(img)))\n",
    "img, label = open_image_label(page_path, img_path, label_path)\n",
    "img, label = scaler(img, label)\n",
    "f_img = prepare_fft_image(img, window_size)"
   ]
  },
  {
   "cell_type": "code",
   "execution_count": 4,
   "metadata": {
    "collapsed": true
   },
   "outputs": [],
   "source": [
    "height, width, _ = img.shape\n",
    "random_coord = random_xy_coord_gen(0,height,0,width)"
   ]
  },
  {
   "cell_type": "code",
   "execution_count": 5,
   "metadata": {
    "collapsed": false
   },
   "outputs": [],
   "source": [
    "observations = label_dict(label)\n",
    "\n",
    "for i in range(4000):\n",
    "    point = random_coord()\n",
    "    fft_point = point_shift(point, window_size)\n",
    "    window = f_img[win_centred_on(fft_point, window_size)]\n",
    "    l = label[point]\n",
    "    observations[l].append(prepare_features(sampler(window)))"
   ]
  },
  {
   "cell_type": "code",
   "execution_count": 6,
   "metadata": {
    "collapsed": false
   },
   "outputs": [],
   "source": [
    "centroids = []\n",
    "labels = []\n",
    "for key, val in observations.items():\n",
    "    labels.append(key)\n",
    "    centroids.append(np.asarray(val).mean(axis=0))\n",
    "\n",
    "centroids = np.asarray(centroids)"
   ]
  },
  {
   "cell_type": "code",
   "execution_count": 7,
   "metadata": {
    "collapsed": false
   },
   "outputs": [],
   "source": [
    "observations2 = label_dict(label)\n",
    "\n",
    "for i in range(10000):\n",
    "    point = random_coord()\n",
    "    fft_point = point_shift(point, window_size)\n",
    "    window = f_img[win_centred_on(fft_point, window_size)]\n",
    "    l = label[point]\n",
    "    observations2[l].append(prepare_features(sampler(window)))"
   ]
  },
  {
   "cell_type": "code",
   "execution_count": 11,
   "metadata": {
    "collapsed": false
   },
   "outputs": [
    {
     "name": "stdout",
     "output_type": "stream",
     "text": [
      "0 Counter({0: 1, 2: 1, 3: 1, 4: 1})\n",
      "40 Counter({0: 1, 1: 1, 2: 1, 3: 1, 4: 1})\n",
      "10 Counter({0: 1, 1: 1, 2: 1, 3: 1, 4: 1})\n",
      "20 Counter({0: 1, 1: 1, 2: 1, 3: 1, 4: 1})\n",
      "30 Counter({1: 1, 2: 1, 3: 1, 4: 1})\n"
     ]
    }
   ],
   "source": [
    "from collections import Counter\n",
    "for k,v in observations2.items():\n",
    "    codes, dist = vq.vq(np.asarray(v), centroids)\n",
    "    print(k,Counter(np.unique(codes)))"
   ]
  },
  {
   "cell_type": "code",
   "execution_count": 9,
   "metadata": {
    "collapsed": false
   },
   "outputs": [
    {
     "data": {
      "text/plain": [
       "(5, 1681)"
      ]
     },
     "execution_count": 9,
     "metadata": {},
     "output_type": "execute_result"
    }
   ],
   "source": [
    "centroids.shape"
   ]
  },
  {
   "cell_type": "code",
   "execution_count": null,
   "metadata": {
    "collapsed": false
   },
   "outputs": [],
   "source": [
    "obse"
   ]
  },
  {
   "cell_type": "code",
   "execution_count": null,
   "metadata": {
    "collapsed": false
   },
   "outputs": [],
   "source": [
    "n = real_fft(gaussian_weight(std_dev_contrast_stretch(i)))\n",
    "plt.imshow(np.fft.fftshift(n), cmap='gray', interpolation='nearest')"
   ]
  },
  {
   "cell_type": "code",
   "execution_count": null,
   "metadata": {
    "collapsed": false
   },
   "outputs": [],
   "source": [
    "plt.imshow(gaussian_weight(n))"
   ]
  },
  {
   "cell_type": "code",
   "execution_count": null,
   "metadata": {
    "collapsed": false
   },
   "outputs": [],
   "source": [
    "plt.imshow(wit[4][1], cmap='gray', interpolation='nearest')"
   ]
  },
  {
   "cell_type": "code",
   "execution_count": null,
   "metadata": {
    "collapsed": false
   },
   "outputs": [],
   "source": [
    "wit[8][1][1]"
   ]
  },
  {
   "cell_type": "code",
   "execution_count": null,
   "metadata": {
    "collapsed": false
   },
   "outputs": [],
   "source": [
    "41*41"
   ]
  },
  {
   "cell_type": "code",
   "execution_count": null,
   "metadata": {
    "collapsed": false
   },
   "outputs": [],
   "source": [
    "from msslib.utils import *"
   ]
  },
  {
   "cell_type": "code",
   "execution_count": null,
   "metadata": {
    "collapsed": false
   },
   "outputs": [],
   "source": [
    "split_win(8)"
   ]
  },
  {
   "cell_type": "code",
   "execution_count": null,
   "metadata": {
    "collapsed": false
   },
   "outputs": [],
   "source": []
  },
  {
   "cell_type": "code",
   "execution_count": null,
   "metadata": {
    "collapsed": false
   },
   "outputs": [],
   "source": []
  },
  {
   "cell_type": "code",
   "execution_count": null,
   "metadata": {
    "collapsed": false
   },
   "outputs": [],
   "source": []
  },
  {
   "cell_type": "code",
   "execution_count": null,
   "metadata": {
    "collapsed": false
   },
   "outputs": [],
   "source": []
  },
  {
   "cell_type": "code",
   "execution_count": null,
   "metadata": {
    "collapsed": false
   },
   "outputs": [],
   "source": []
  },
  {
   "cell_type": "code",
   "execution_count": null,
   "metadata": {
    "collapsed": true
   },
   "outputs": [],
   "source": []
  },
  {
   "cell_type": "code",
   "execution_count": null,
   "metadata": {
    "collapsed": true
   },
   "outputs": [],
   "source": []
  }
 ],
 "metadata": {
  "kernelspec": {
   "display_name": "Python 3",
   "language": "python",
   "name": "python3"
  },
  "language_info": {
   "codemirror_mode": {
    "name": "ipython",
    "version": 3
   },
   "file_extension": ".py",
   "mimetype": "text/x-python",
   "name": "python",
   "nbconvert_exporter": "python",
   "pygments_lexer": "ipython3",
   "version": "3.5.1"
  }
 },
 "nbformat": 4,
 "nbformat_minor": 0
}
