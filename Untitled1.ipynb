{
 "cells": [
  {
   "cell_type": "code",
   "execution_count": 30,
   "metadata": {
    "collapsed": false
   },
   "outputs": [],
   "source": [
    "%matplotlib inline\n",
    "from msslib.prepare import *\n",
    "from msslib.sample import *\n",
    "from msslib.features import *\n",
    "from msslib.cluster import *\n",
    "import matplotlib.pyplot as plt\n",
    "from scipy.cluster import vq\n",
    "import functools as f"
   ]
  },
  {
   "cell_type": "code",
   "execution_count": 31,
   "metadata": {
    "collapsed": true
   },
   "outputs": [],
   "source": [
    "img_path = \"/home/finlay/HMT/original_images/VenetusA/VA015RN-0016.jpg\"\n",
    "label_path = \"/home/finlay/HMT/data/VenetusA/region_img/VA015RN-0016.png\"\n",
    "page_path = \"/home/finlay/HMT/data/VenetusA/region_xml/VA015RN-0016.xml\""
   ]
  },
  {
   "cell_type": "code",
   "execution_count": 41,
   "metadata": {
    "collapsed": false
   },
   "outputs": [],
   "source": [
    "window_size = 41\n",
    "scaler = img_scaler((0.2,0.2))\n",
    "weighter = gaussian_weighter(window_size)\n",
    "sampler = lambda img: real_fft(weighter(std_dev_contrast_stretch(img)))\n",
    "img, label = open_image_label(page_path, img_path, label_path)\n",
    "img, label = scaler(img, label)\n",
    "f_img = prepare_fft_image(img, window_size)\n",
    "\n",
    "#define methods to access images.\n",
    "access_img = img_accessor(img, identity)\n",
    "access_label = img_accessor(label, identity)\n",
    "access_f_img = img_accessor(f_img, f.partial(point_shift, window=window_size))\n",
    "\n",
    "take_fourier_sample = lambda point: prepare_features(sampler())"
   ]
  },
  {
   "cell_type": "code",
   "execution_count": 42,
   "metadata": {
    "collapsed": true
   },
   "outputs": [],
   "source": [
    "height, width, _ = img.shape\n",
    "random_coord = random_xy_coord_gen(0,height,0,width)"
   ]
  },
  {
   "cell_type": "code",
   "execution_count": 45,
   "metadata": {
    "collapsed": false
   },
   "outputs": [
    {
     "data": {
      "text/plain": [
       "True"
      ]
     },
     "execution_count": 45,
     "metadata": {},
     "output_type": "execute_result"
    }
   ],
   "source": []
  },
  {
   "cell_type": "code",
   "execution_count": 5,
   "metadata": {
    "collapsed": false
   },
   "outputs": [],
   "source": [
    "observations = label_dict(label)\n",
    "\n",
    "for i in range(4000):\n",
    "    point = random_coord()\n",
    "    fft_point = point_shift(point, window_size)\n",
    "    window = f_img[win_centred_on(fft_point, window_size)]\n",
    "    l = label[point]\n",
    "    observations[l].append(prepare_features(sampler(window)))"
   ]
  },
  {
   "cell_type": "code",
   "execution_count": 6,
   "metadata": {
    "collapsed": false
   },
   "outputs": [],
   "source": [
    "centroids = []\n",
    "labels = []\n",
    "for key, val in observations.items():\n",
    "    labels.append(key)\n",
    "    centroids.append(np.asarray(val).mean(axis=0))\n",
    "\n",
    "centroids = np.asarray(centroids)"
   ]
  },
  {
   "cell_type": "code",
   "execution_count": 7,
   "metadata": {
    "collapsed": false
   },
   "outputs": [],
   "source": [
    "observations2 = label_dict(label)\n",
    "\n",
    "for i in range(10000):\n",
    "    point = random_coord()\n",
    "    fft_point = point_shift(point, window_size)\n",
    "    window = f_img[win_centred_on(fft_point, window_size)]\n",
    "    l = label[point]\n",
    "    observations2[l].append(prepare_features(sampler(window)))"
   ]
  },
  {
   "cell_type": "code",
   "execution_count": 11,
   "metadata": {
    "collapsed": false
   },
   "outputs": [
    {
     "name": "stdout",
     "output_type": "stream",
     "text": [
      "0 Counter({0: 1, 2: 1, 3: 1, 4: 1})\n",
      "40 Counter({0: 1, 1: 1, 2: 1, 3: 1, 4: 1})\n",
      "10 Counter({0: 1, 1: 1, 2: 1, 3: 1, 4: 1})\n",
      "20 Counter({0: 1, 1: 1, 2: 1, 3: 1, 4: 1})\n",
      "30 Counter({1: 1, 2: 1, 3: 1, 4: 1})\n"
     ]
    }
   ],
   "source": [
    "from collections import Counter\n",
    "for k,v in observations2.items():\n",
    "    codes, dist = vq.vq(np.asarray(v), centroids)\n",
    "    print(k,Counter(np.unique(codes)))"
   ]
  },
  {
   "cell_type": "code",
   "execution_count": 9,
   "metadata": {
    "collapsed": false
   },
   "outputs": [
    {
     "data": {
      "text/plain": [
       "(5, 1681)"
      ]
     },
     "execution_count": 9,
     "metadata": {},
     "output_type": "execute_result"
    }
   ],
   "source": [
    "centroids.shape"
   ]
  },
  {
   "cell_type": "code",
   "execution_count": null,
   "metadata": {
    "collapsed": false
   },
   "outputs": [],
   "source": [
    "obse"
   ]
  },
  {
   "cell_type": "code",
   "execution_count": null,
   "metadata": {
    "collapsed": false
   },
   "outputs": [],
   "source": [
    "n = real_fft(gaussian_weight(std_dev_contrast_stretch(i)))\n",
    "plt.imshow(np.fft.fftshift(n), cmap='gray', interpolation='nearest')"
   ]
  },
  {
   "cell_type": "code",
   "execution_count": null,
   "metadata": {
    "collapsed": false
   },
   "outputs": [],
   "source": [
    "plt.imshow(gaussian_weight(n))"
   ]
  },
  {
   "cell_type": "code",
   "execution_count": null,
   "metadata": {
    "collapsed": false
   },
   "outputs": [],
   "source": [
    "plt.imshow(wit[4][1], cmap='gray', interpolation='nearest')"
   ]
  },
  {
   "cell_type": "code",
   "execution_count": 34,
   "metadata": {
    "collapsed": false
   },
   "outputs": [],
   "source": [
    "import functools as f"
   ]
  },
  {
   "cell_type": "code",
   "execution_count": 35,
   "metadata": {
    "collapsed": false
   },
   "outputs": [],
   "source": [
    "def x(a,b):\n",
    "    return lambda p: a[b(p)]\n",
    "\n",
    "aye = f.partial(point_shift, window=10)\n"
   ]
  },
  {
   "cell_type": "code",
   "execution_count": 37,
   "metadata": {
    "collapsed": false
   },
   "outputs": [],
   "source": [
    "img_get = x(img, aye)"
   ]
  },
  {
   "cell_type": "code",
   "execution_count": 39,
   "metadata": {
    "collapsed": false
   },
   "outputs": [
    {
     "data": {
      "text/plain": [
       "array([231, 225, 191], dtype=uint8)"
      ]
     },
     "execution_count": 39,
     "metadata": {},
     "output_type": "execute_result"
    }
   ],
   "source": []
  },
  {
   "cell_type": "code",
   "execution_count": 10,
   "metadata": {
    "collapsed": false
   },
   "outputs": [
    {
     "name": "stdout",
     "output_type": "stream",
     "text": [
      "1 loops, best of 3: 21.2 s per loop\n"
     ]
    }
   ],
   "source": [
    "\n"
   ]
  },
  {
   "cell_type": "code",
   "execution_count": 21,
   "metadata": {
    "collapsed": false
   },
   "outputs": [],
   "source": []
  },
  {
   "cell_type": "code",
   "execution_count": 22,
   "metadata": {
    "collapsed": false
   },
   "outputs": [],
   "source": []
  },
  {
   "cell_type": "code",
   "execution_count": 23,
   "metadata": {
    "collapsed": false
   },
   "outputs": [
    {
     "data": {
      "text/plain": [
       "[1, 2]"
      ]
     },
     "execution_count": 23,
     "metadata": {},
     "output_type": "execute_result"
    }
   ],
   "source": []
  },
  {
   "cell_type": "code",
   "execution_count": 24,
   "metadata": {
    "collapsed": false
   },
   "outputs": [
    {
     "data": {
      "text/plain": [
       "4"
      ]
     },
     "execution_count": 24,
     "metadata": {},
     "output_type": "execute_result"
    }
   ],
   "source": []
  },
  {
   "cell_type": "code",
   "execution_count": 25,
   "metadata": {
    "collapsed": false
   },
   "outputs": [
    {
     "data": {
      "text/plain": [
       "[1, 2]"
      ]
     },
     "execution_count": 25,
     "metadata": {},
     "output_type": "execute_result"
    }
   ],
   "source": []
  },
  {
   "cell_type": "code",
   "execution_count": null,
   "metadata": {
    "collapsed": true
   },
   "outputs": [],
   "source": []
  }
 ],
 "metadata": {
  "kernelspec": {
   "display_name": "Python 3",
   "language": "python",
   "name": "python3"
  },
  "language_info": {
   "codemirror_mode": {
    "name": "ipython",
    "version": 3
   },
   "file_extension": ".py",
   "mimetype": "text/x-python",
   "name": "python",
   "nbconvert_exporter": "python",
   "pygments_lexer": "ipython3",
   "version": "3.5.1"
  }
 },
 "nbformat": 4,
 "nbformat_minor": 0
}
