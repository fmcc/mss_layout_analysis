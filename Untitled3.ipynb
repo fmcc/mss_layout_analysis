{
 "cells": [
  {
   "cell_type": "code",
   "execution_count": 1,
   "metadata": {
    "collapsed": true
   },
   "outputs": [],
   "source": [
    "%matplotlib inline"
   ]
  },
  {
   "cell_type": "code",
   "execution_count": 2,
   "metadata": {
    "collapsed": true
   },
   "outputs": [],
   "source": [
    "import numpy as np\n",
    "import matplotlib.pyplot as plt\n",
    "from msslib.utils import *\n",
    "\n",
    "import random\n",
    "\n",
    "from pystruct.models import GridCRF\n",
    "import pystruct.learners as ssvm\n",
    "\n",
    "\n",
    "crf = GridCRF(neighborhood=4)\n",
    "clf = ssvm.OneSlackSSVM(model=crf,n_jobs=-1, show_loss_every=1)\n"
   ]
  },
  {
   "cell_type": "code",
   "execution_count": 3,
   "metadata": {
    "collapsed": false
   },
   "outputs": [],
   "source": [
    "data_dir = \"/home/finlay/HMT/data/VenetusA/block_samples/\"\n",
    "all_file_paths = listpaths(data_dir)\n",
    "data_paths = sorted(list(filter(lambda x: '_data.npy' in x, all_file_paths)))\n",
    "label_paths = sorted(list(filter(lambda x: '_label.npy' in x, all_file_paths)))\n",
    "\n",
    "train_X = np.asarray([np.load(p) for p in data_paths[:10]])\n",
    "train_Y = np.asarray([np.load(p) for p in label_paths[:10]]) / 10\n",
    "train_Y = train_Y.astype('int')\n"
   ]
  },
  {
   "cell_type": "code",
   "execution_count": 4,
   "metadata": {
    "collapsed": false
   },
   "outputs": [
    {
     "name": "stderr",
     "output_type": "stream",
     "text": [
      "/usr/lib/python3.5/site-packages/pystruct/learners/one_slack_ssvm.py:409: VisibleDeprecationWarning: using a non-integer number instead of an integer will result in an error in the future\n",
      "  self.w = np.zeros(self.model.size_joint_feature)\n",
      "/usr/lib/python3.5/site-packages/pystruct/learners/one_slack_ssvm.py:415: VisibleDeprecationWarning: using a non-integer number instead of an integer will result in an error in the future\n",
      "  constraints.append((np.zeros(self.model.size_joint_feature), 0))\n",
      "/usr/lib/python3.5/site-packages/pystruct/models/base.py:34: VisibleDeprecationWarning: using a non-integer number instead of an integer will result in an error in the future\n",
      "  joint_feature_ = np.zeros(self.size_joint_feature)\n"
     ]
    },
    {
     "data": {
      "text/plain": [
       "OneSlackSSVM(C=1.0, break_on_bad=False, cache_tol='auto',\n",
       "       check_constraints=False, inactive_threshold=1e-05,\n",
       "       inactive_window=50, inference_cache=0, logger=None, max_iter=10000,\n",
       "       model=GridCRF(n_states: 5, inference_method: ad3), n_jobs=-1,\n",
       "       negativity_constraint=None, show_loss_every=1, switch_to=None,\n",
       "       tol=0.001, verbose=0)"
      ]
     },
     "execution_count": 4,
     "metadata": {},
     "output_type": "execute_result"
    }
   ],
   "source": [
    "clf.fit(train_X, train_Y)"
   ]
  },
  {
   "cell_type": "code",
   "execution_count": 1,
   "metadata": {
    "collapsed": false
   },
   "outputs": [
    {
     "ename": "NameError",
     "evalue": "name 'np' is not defined",
     "output_type": "error",
     "traceback": [
      "\u001b[1;31m---------------------------------------------------------------------------\u001b[0m",
      "\u001b[1;31mNameError\u001b[0m                                 Traceback (most recent call last)",
      "\u001b[1;32m<ipython-input-1-1405cb5493ef>\u001b[0m in \u001b[0;36m<module>\u001b[1;34m()\u001b[0m\n\u001b[1;32m----> 1\u001b[1;33m \u001b[0mtest_X\u001b[0m \u001b[1;33m=\u001b[0m \u001b[0mnp\u001b[0m\u001b[1;33m.\u001b[0m\u001b[0masarray\u001b[0m\u001b[1;33m(\u001b[0m\u001b[1;33m[\u001b[0m\u001b[0mnp\u001b[0m\u001b[1;33m.\u001b[0m\u001b[0mload\u001b[0m\u001b[1;33m(\u001b[0m\u001b[0mp\u001b[0m\u001b[1;33m)\u001b[0m \u001b[1;32mfor\u001b[0m \u001b[0mp\u001b[0m \u001b[1;32min\u001b[0m \u001b[0mdata_paths\u001b[0m\u001b[1;33m[\u001b[0m\u001b[1;36m10\u001b[0m\u001b[1;33m:\u001b[0m\u001b[1;33m]\u001b[0m\u001b[1;33m]\u001b[0m\u001b[1;33m)\u001b[0m\u001b[1;33m\u001b[0m\u001b[0m\n\u001b[0m\u001b[0;32m      2\u001b[0m \u001b[0mY_pred\u001b[0m \u001b[1;33m=\u001b[0m \u001b[0mnp\u001b[0m\u001b[1;33m.\u001b[0m\u001b[0marray\u001b[0m\u001b[1;33m(\u001b[0m\u001b[0mclf\u001b[0m\u001b[1;33m.\u001b[0m\u001b[0mpredict\u001b[0m\u001b[1;33m(\u001b[0m\u001b[0mtest_X\u001b[0m\u001b[1;33m)\u001b[0m\u001b[1;33m)\u001b[0m\u001b[1;33m\u001b[0m\u001b[0m\n",
      "\u001b[1;31mNameError\u001b[0m: name 'np' is not defined"
     ]
    }
   ],
   "source": [
    "test_X = np.asarray([np.load(p) for p in data_paths[10:]])\n",
    "Y_pred = np.array(clf.predict(test_X))\n"
   ]
  },
  {
   "cell_type": "code",
   "execution_count": 25,
   "metadata": {
    "collapsed": false
   },
   "outputs": [
    {
     "name": "stdout",
     "output_type": "stream",
     "text": [
      "NameError: name 'test_X' is not defined\n"
     ]
    }
   ],
   "source": [
    "%xdel test_X"
   ]
  },
  {
   "cell_type": "code",
   "execution_count": 19,
   "metadata": {
    "collapsed": false
   },
   "outputs": [
    {
     "data": {
      "text/plain": [
       "<matplotlib.image.AxesImage at 0x7f35d57d9b38>"
      ]
     },
     "execution_count": 19,
     "metadata": {},
     "output_type": "execute_result"
    },
    {
     "data": {
      "image/png": "[encoded data removed]",
      "text/plain": [
       "<matplotlib.figure.Figure at 0x7f35d5858518>"
      ]
     },
     "metadata": {},
     "output_type": "display_data"
    }
   ],
   "source": [
    "plt.imshow(Y_pred[90], interpolation='nearest')"
   ]
  },
  {
   "cell_type": "code",
   "execution_count": null,
   "metadata": {
    "collapsed": true
   },
   "outputs": [],
   "source": []
  }
 ],
 "metadata": {
  "kernelspec": {
   "display_name": "Python 3",
   "language": "python",
   "name": "python3"
  },
  "language_info": {
   "codemirror_mode": {
    "name": "ipython",
    "version": 3
   },
   "file_extension": ".py",
   "mimetype": "text/x-python",
   "name": "python",
   "nbconvert_exporter": "python",
   "pygments_lexer": "ipython3",
   "version": "3.5.1"
  }
 },
 "nbformat": 4,
 "nbformat_minor": 0
}
