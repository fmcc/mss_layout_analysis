{
 "cells": [
  {
   "cell_type": "code",
   "execution_count": 1,
   "metadata": {
    "collapsed": true
   },
   "outputs": [],
   "source": [
    "from msslib.utils import *\n",
    "import os\n",
    "from collections import defaultdict"
   ]
  },
  {
   "cell_type": "code",
   "execution_count": 2,
   "metadata": {
    "collapsed": true
   },
   "outputs": [],
   "source": [
    "def get_page(path):\n",
    "    return only_basename(path).split('-')[0]"
   ]
  },
  {
   "cell_type": "code",
   "execution_count": 4,
   "metadata": {
    "collapsed": true
   },
   "outputs": [],
   "source": []
  },
  {
   "cell_type": "code",
   "execution_count": 29,
   "metadata": {
    "collapsed": false
   },
   "outputs": [],
   "source": [
    "originals = \"/home/finlay/HMT/data/VenetusA/1200Hx900W/images/\"\n",
    "\n",
    "paths = listpaths(originals)\n",
    "\n",
    "ignore = os.path.join(originals, \"other/duplicates\")\n",
    "mkdir(ignore)"
   ]
  },
  {
   "cell_type": "code",
   "execution_count": 30,
   "metadata": {
    "collapsed": false
   },
   "outputs": [],
   "source": [
    "wit = defaultdict(list)"
   ]
  },
  {
   "cell_type": "code",
   "execution_count": 31,
   "metadata": {
    "collapsed": true
   },
   "outputs": [],
   "source": [
    "for p in paths:\n",
    "    wit[get_page(p)].append(p)"
   ]
  },
  {
   "cell_type": "code",
   "execution_count": 32,
   "metadata": {
    "collapsed": false
   },
   "outputs": [
    {
     "name": "stdout",
     "output_type": "stream",
     "text": [
      "['/home/finlay/HMT/data/VenetusA/1200Hx900W/images/VA187RN-0358.jpg', '/home/finlay/HMT/data/VenetusA/1200Hx900W/images/VA187RN-0188.jpg']\n"
     ]
    }
   ],
   "source": [
    "for key, paths in wit.items():\n",
    "    if len(paths) > 1:\n",
    "        print(paths)\n",
    "        #frae = sorted(paths)[1]\n",
    "        #tae = os.path.join(ignore, os.path.basename(frae))\n",
    "        #os.rename(frae, tae)"
   ]
  },
  {
   "cell_type": "code",
   "execution_count": 24,
   "metadata": {
    "collapsed": false
   },
   "outputs": [
    {
     "data": {
      "text/plain": [
       "152"
      ]
     },
     "execution_count": 24,
     "metadata": {},
     "output_type": "execute_result"
    }
   ],
   "source": [
    "label_dir = \"/home/finlay/HMT/data/VenetusA/full_size/labels/\"\n",
    "label_paths = sorted(list(filter(lambda x: \"RN\" in x, listpaths(label_dir))))[6:]\n",
    "len(label_paths)"
   ]
  },
  {
   "cell_type": "code",
   "execution_count": 85,
   "metadata": {
    "collapsed": true
   },
   "outputs": [],
   "source": [
    "x = listpaths(\"/home/finlay/HMT/original_images/VenetusA/other/duplicates/\")\n",
    "y = listpaths(\"/home/finlay/HMT/data/VenetusA/region_xml/\")"
   ]
  },
  {
   "cell_type": "code",
   "execution_count": 86,
   "metadata": {
    "collapsed": true
   },
   "outputs": [],
   "source": [
    "x = set([only_basename(o) for o in x])\n",
    "y = set([only_basename(i) for i in y])"
   ]
  },
  {
   "cell_type": "code",
   "execution_count": 18,
   "metadata": {
    "collapsed": false
   },
   "outputs": [
    {
     "name": "stdout",
     "output_type": "stream",
     "text": [
      "/home/finlay/HMT/original_images/VenetusA/VA216RN-0387.jpg\n",
      "/home/finlay/HMT/original_images/VenetusA/VA151RN-0323.jpg\n",
      "/home/finlay/HMT/original_images/VenetusA/VA245RN-0416.jpg\n",
      "/home/finlay/HMT/original_images/VenetusA/VA190RN-0191.jpg\n",
      "/home/finlay/HMT/original_images/VenetusA/VA173RN-0174.jpg\n",
      "/home/finlay/HMT/original_images/VenetusA/VA144RN-0316.jpg\n",
      "/home/finlay/HMT/original_images/VenetusA/VA187RN-0188.jpg\n",
      "/home/finlay/HMT/original_images/VenetusA/VA109RN-0281.jpg\n",
      "/home/finlay/HMT/original_images/VenetusA/VA235RN-0236.jpg\n",
      "/home/finlay/HMT/original_images/VenetusA/VA186RN-0187.jpg\n",
      "/home/finlay/HMT/original_images/VenetusA/VA164RN-0165.jpg\n",
      "/home/finlay/HMT/original_images/VenetusA/VA138RN-0139.jpg\n",
      "/home/finlay/HMT/original_images/VenetusA/VA241RN-0242.jpg\n",
      "/home/finlay/HMT/original_images/VenetusA/VA110RN-0111.jpg\n",
      "/home/finlay/HMT/original_images/VenetusA/VA133RN-0305.jpg\n",
      "/home/finlay/HMT/original_images/VenetusA/VA167RN-0338.jpg\n",
      "/home/finlay/HMT/original_images/VenetusA/VA246RN-0247.jpg\n",
      "/home/finlay/HMT/original_images/VenetusA/VA169RN-0170.jpg\n",
      "/home/finlay/HMT/original_images/VenetusA/VA116RN-0117.jpg\n",
      "/home/finlay/HMT/original_images/VenetusA/VA108RN-0280.jpg\n",
      "/home/finlay/HMT/original_images/VenetusA/VA213RN-0214.jpg\n",
      "/home/finlay/HMT/original_images/VenetusA/VA212RN-0383.jpg\n",
      "/home/finlay/HMT/original_images/VenetusA/VA183RN-0184.jpg\n",
      "/home/finlay/HMT/original_images/VenetusA/VA130RN-0131.jpg\n",
      "/home/finlay/HMT/original_images/VenetusA/VA252RN-0423.jpg\n",
      "/home/finlay/HMT/original_images/VenetusA/VA214RN-0385.jpg\n",
      "/home/finlay/HMT/original_images/VenetusA/VA145RN-0146.jpg\n",
      "/home/finlay/HMT/original_images/VenetusA/VA135RN-0307.jpg\n",
      "/home/finlay/HMT/original_images/VenetusA/VA156RN-0327.jpg\n",
      "/home/finlay/HMT/original_images/VenetusA/VA148RN-0320.jpg\n",
      "/home/finlay/HMT/original_images/VenetusA/VA209RN-0380.jpg\n",
      "/home/finlay/HMT/original_images/VenetusA/VA163RN-0334.jpg\n",
      "/home/finlay/HMT/original_images/VenetusA/VA247RN-0248.jpg\n",
      "/home/finlay/HMT/original_images/VenetusA/VA121RN-0293.jpg\n",
      "/home/finlay/HMT/original_images/VenetusA/VA154RN-0155.jpg\n",
      "/home/finlay/HMT/original_images/VenetusA/VA087RN-0088.jpg\n",
      "/home/finlay/HMT/original_images/VenetusA/VA131RN-0303.jpg\n",
      "/home/finlay/HMT/original_images/VenetusA/VA093RN-0265.jpg\n",
      "/home/finlay/HMT/original_images/VenetusA/VA211RN-0382.jpg\n",
      "/home/finlay/HMT/original_images/VenetusA/VA240RN-0411.jpg\n",
      "/home/finlay/HMT/original_images/VenetusA/VA226RN-0227.jpg\n",
      "/home/finlay/HMT/original_images/VenetusA/VA176RN-0347.jpg\n",
      "/home/finlay/HMT/original_images/VenetusA/VA104RN-0276.jpg\n",
      "/home/finlay/HMT/original_images/VenetusA/VA142RN-0314.jpg\n",
      "/home/finlay/HMT/original_images/VenetusA/VA205RN-0206.jpg\n",
      "/home/finlay/HMT/original_images/VenetusA/VA107RN-0279.jpg\n",
      "/home/finlay/HMT/original_images/VenetusA/VA244RN-0415.jpg\n",
      "/home/finlay/HMT/original_images/VenetusA/VA223RN-0394.jpg\n",
      "/home/finlay/HMT/original_images/VenetusA/VA215RN-0386.jpg\n",
      "/home/finlay/HMT/original_images/VenetusA/VA197RN-0368.jpg\n",
      "/home/finlay/HMT/original_images/VenetusA/VA159RN-0330.jpg\n",
      "/home/finlay/HMT/original_images/VenetusA/VA112RN-0113.jpg\n",
      "/home/finlay/HMT/original_images/VenetusA/VA128RN-0129.jpg\n",
      "/home/finlay/HMT/original_images/VenetusA/VA089RN-0261.jpg\n",
      "/home/finlay/HMT/original_images/VenetusA/VA171RN-0342.jpg\n",
      "/home/finlay/HMT/original_images/VenetusA/VA194RN-0365.jpg\n",
      "/home/finlay/HMT/original_images/VenetusA/VA202RN-0373.jpg\n",
      "/home/finlay/HMT/original_images/VenetusA/VA175RN-0346.jpg\n",
      "/home/finlay/HMT/original_images/VenetusA/VA170RN-0341.jpg\n",
      "/home/finlay/HMT/original_images/VenetusA/VA250RN-0421.jpg\n",
      "/home/finlay/HMT/original_images/VenetusA/VA239RN-0240.jpg\n",
      "/home/finlay/HMT/original_images/VenetusA/VA161RN-0162.jpg\n",
      "/home/finlay/HMT/original_images/VenetusA/VA118RN-0290.jpg\n",
      "/home/finlay/HMT/original_images/VenetusA/VA228RN-0229.jpg\n",
      "/home/finlay/HMT/original_images/VenetusA/VA090RN-0091.jpg\n",
      "/home/finlay/HMT/original_images/VenetusA/VA195RN-0366.jpg\n",
      "/home/finlay/HMT/original_images/VenetusA/VA248RN-0419.jpg\n",
      "/home/finlay/HMT/original_images/VenetusA/VA143RN-0144.jpg\n",
      "/home/finlay/HMT/original_images/VenetusA/VA180RN-0181.jpg\n",
      "/home/finlay/HMT/original_images/VenetusA/VA185RN-0186.jpg\n",
      "/home/finlay/HMT/original_images/VenetusA/VA230RN-0401.jpg\n",
      "/home/finlay/HMT/original_images/VenetusA/VA139RN-0140.jpg\n",
      "/home/finlay/HMT/original_images/VenetusA/VA233RN-0404.jpg\n",
      "/home/finlay/HMT/original_images/VenetusA/VA220RN-0221.jpg\n",
      "/home/finlay/HMT/original_images/VenetusA/VA196RN-0367.jpg\n",
      "/home/finlay/HMT/original_images/VenetusA/VA160RN-0331.jpg\n",
      "/home/finlay/HMT/original_images/VenetusA/VA084RN-0085.jpg\n",
      "/home/finlay/HMT/original_images/VenetusA/VA086RN-0087.jpg\n",
      "/home/finlay/HMT/original_images/VenetusA/VA096RN-0268.jpg\n",
      "/home/finlay/HMT/original_images/VenetusA/VA102RN-0274.jpg\n",
      "/home/finlay/HMT/original_images/VenetusA/VA115RN-0287.jpg\n",
      "/home/finlay/HMT/original_images/VenetusA/VA150RN-0322.jpg\n",
      "/home/finlay/HMT/original_images/VenetusA/VA210RN-0381.jpg\n",
      "/home/finlay/HMT/original_images/VenetusA/VA095RN-0267.jpg\n",
      "/home/finlay/HMT/original_images/VenetusA/VA166RN-0337.jpg\n",
      "/home/finlay/HMT/original_images/VenetusA/VA125RN-0297.jpg\n",
      "/home/finlay/HMT/original_images/VenetusA/VA114RN-0286.jpg\n",
      "/home/finlay/HMT/original_images/VenetusA/VA106RN-0278.jpg\n",
      "/home/finlay/HMT/original_images/VenetusA/VA117RN-0289.jpg\n",
      "/home/finlay/HMT/original_images/VenetusA/VA157RN-0158.jpg\n",
      "/home/finlay/HMT/original_images/VenetusA/VA124RN-0125.jpg\n",
      "/home/finlay/HMT/original_images/VenetusA/VA153RN-0325.jpg\n",
      "/home/finlay/HMT/original_images/VenetusA/VA188RN-0189.jpg\n",
      "/home/finlay/HMT/original_images/VenetusA/VA191RN-0192.jpg\n",
      "/home/finlay/HMT/original_images/VenetusA/VA098RN-0270.jpg\n",
      "/home/finlay/HMT/original_images/VenetusA/VA203RN-0374.jpg\n",
      "/home/finlay/HMT/original_images/VenetusA/VA123RN-0295.jpg\n",
      "/home/finlay/HMT/original_images/VenetusA/VA141RN-0313.jpg\n",
      "/home/finlay/HMT/original_images/VenetusA/VA206RN-0377.jpg\n",
      "/home/finlay/HMT/original_images/VenetusA/VA172RN-0173.jpg\n",
      "/home/finlay/HMT/original_images/VenetusA/VA184RN-0185.jpg\n",
      "/home/finlay/HMT/original_images/VenetusA/VA113RN-0114.jpg\n",
      "/home/finlay/HMT/original_images/VenetusA/VA111RN-0112.jpg\n",
      "/home/finlay/HMT/original_images/VenetusA/VA146RN-0318.jpg\n",
      "/home/finlay/HMT/original_images/VenetusA/VA155RN-0327.jpg\n",
      "/home/finlay/HMT/original_images/VenetusA/VA208RN-0209.jpg\n",
      "/home/finlay/HMT/original_images/VenetusA/VA217RN-0218.jpg\n",
      "/home/finlay/HMT/original_images/VenetusA/VA201RN-0372.jpg\n",
      "/home/finlay/HMT/original_images/VenetusA/VA200RN-0371.jpg\n",
      "/home/finlay/HMT/original_images/VenetusA/VA132RN-0133.jpg\n",
      "/home/finlay/HMT/original_images/VenetusA/VA165RN-0166.jpg\n",
      "/home/finlay/HMT/original_images/VenetusA/VA207RN-0378.jpg\n",
      "/home/finlay/HMT/original_images/VenetusA/VA177RN-0178.jpg\n",
      "/home/finlay/HMT/original_images/VenetusA/VA234RN-0405.jpg\n",
      "/home/finlay/HMT/original_images/VenetusA/VA091RN-0263.jpg\n",
      "/home/finlay/HMT/original_images/VenetusA/VA198RN-0369.jpg\n",
      "/home/finlay/HMT/original_images/VenetusA/VA182RN-0353.jpg\n",
      "/home/finlay/HMT/original_images/VenetusA/VA103RN-0104.jpg\n",
      "/home/finlay/HMT/original_images/VenetusA/VA134RN-0135.jpg\n",
      "/home/finlay/HMT/original_images/VenetusA/VA105RN-0106.jpg\n",
      "/home/finlay/HMT/original_images/VenetusA/VA088RN-0089.jpg\n",
      "/home/finlay/HMT/original_images/VenetusA/VA232RN-0403.jpg\n",
      "/home/finlay/HMT/original_images/VenetusA/VA085RN-0257.jpg\n",
      "/home/finlay/HMT/original_images/VenetusA/VA193RN-0194.jpg\n",
      "/home/finlay/HMT/original_images/VenetusA/VA199RN-0370.jpg\n",
      "/home/finlay/HMT/original_images/VenetusA/VA099RN-0271.jpg\n",
      "/home/finlay/HMT/original_images/VenetusA/VA127RN-0128.jpg\n",
      "/home/finlay/HMT/original_images/VenetusA/VA129RN-0130.jpg\n",
      "/home/finlay/HMT/original_images/VenetusA/VA227RN-0398.jpg\n",
      "/home/finlay/HMT/original_images/VenetusA/VA225RN-0226.jpg\n",
      "/home/finlay/HMT/original_images/VenetusA/VA174RN-0175.jpg\n",
      "/home/finlay/HMT/original_images/VenetusA/VA120RN-0292.jpg\n",
      "/home/finlay/HMT/original_images/VenetusA/VA097RN-0098.jpg\n",
      "/home/finlay/HMT/original_images/VenetusA/VA137RN-0138.jpg\n",
      "/home/finlay/HMT/original_images/VenetusA/VA152RN-0153.jpg\n",
      "/home/finlay/HMT/original_images/VenetusA/VA158RN-0329.jpg\n",
      "/home/finlay/HMT/original_images/VenetusA/VA082RN-0083.jpg\n",
      "/home/finlay/HMT/original_images/VenetusA/VA126RN-0127.jpg\n",
      "/home/finlay/HMT/original_images/VenetusA/VA168RN-0169.jpg\n",
      "/home/finlay/HMT/original_images/VenetusA/VA221RN-0392.jpg\n",
      "/home/finlay/HMT/original_images/VenetusA/VA189RN-0360.jpg\n",
      "/home/finlay/HMT/original_images/VenetusA/VA122RN-0294.jpg\n",
      "/home/finlay/HMT/original_images/VenetusA/VA218RN-0219.jpg\n",
      "/home/finlay/HMT/original_images/VenetusA/VA119RN-0291.jpg\n",
      "/home/finlay/HMT/original_images/VenetusA/VA231RN-0402.jpg\n",
      "/home/finlay/HMT/original_images/VenetusA/VA136RN-0308.jpg\n",
      "/home/finlay/HMT/original_images/VenetusA/VA149RN-0321.jpg\n",
      "/home/finlay/HMT/original_images/VenetusA/VA092RN-0264.jpg\n",
      "/home/finlay/HMT/original_images/VenetusA/VA147RN-0319.jpg\n",
      "/home/finlay/HMT/original_images/VenetusA/VA229RN-0230.jpg\n",
      "/home/finlay/HMT/original_images/VenetusA/VA100RN-0272.jpg\n",
      "/home/finlay/HMT/original_images/VenetusA/VA140RN-0141.jpg\n",
      "/home/finlay/HMT/original_images/VenetusA/VA224RN-0395.jpg\n",
      "/home/finlay/HMT/original_images/VenetusA/VA249RN-0420.jpg\n",
      "/home/finlay/HMT/original_images/VenetusA/VA094RN-0095.jpg\n",
      "/home/finlay/HMT/original_images/VenetusA/VA179RN-0180.jpg\n",
      "/home/finlay/HMT/original_images/VenetusA/VA162RN-0163.jpg\n",
      "/home/finlay/HMT/original_images/VenetusA/VA238RN-0409.jpg\n",
      "/home/finlay/HMT/original_images/VenetusA/VA237RN-0408.jpg\n",
      "/home/finlay/HMT/original_images/VenetusA/VA219RN-0390.jpg\n",
      "/home/finlay/HMT/original_images/VenetusA/VA204RN-0375.jpg\n",
      "/home/finlay/HMT/original_images/VenetusA/VA243RN-0414.jpg\n",
      "/home/finlay/HMT/original_images/VenetusA/VA222RN-0393.jpg\n",
      "/home/finlay/HMT/original_images/VenetusA/VA083RN-0255.jpg\n",
      "/home/finlay/HMT/original_images/VenetusA/VA251RN-0252.jpg\n",
      "/home/finlay/HMT/original_images/VenetusA/VA178RN-0349.jpg\n",
      "/home/finlay/HMT/original_images/VenetusA/VA181RN-0352.jpg\n",
      "/home/finlay/HMT/original_images/VenetusA/VA242RN-0413.jpg\n",
      "/home/finlay/HMT/original_images/VenetusA/VA101RN-0273.jpg\n",
      "/home/finlay/HMT/original_images/VenetusA/VA236RN-0407.jpg\n"
     ]
    }
   ],
   "source": [
    "for p in no:\n",
    "    print(p)\n",
    "    tae = os.path.join(ignore, os.path.basename(p))\n",
    "    os.rename(p, tae)"
   ]
  },
  {
   "cell_type": "code",
   "execution_count": 17,
   "metadata": {
    "collapsed": false
   },
   "outputs": [
    {
     "data": {
      "text/plain": [
       "'/home/finlay/HMT/original_images/VenetusA/VA236RN-0237.jpg'"
      ]
     },
     "execution_count": 17,
     "metadata": {},
     "output_type": "execute_result"
    }
   ],
   "source": [
    "to_move"
   ]
  },
  {
   "cell_type": "code",
   "execution_count": null,
   "metadata": {
    "collapsed": true
   },
   "outputs": [],
   "source": []
  }
 ],
 "metadata": {
  "kernelspec": {
   "display_name": "Python 3",
   "language": "python",
   "name": "python3"
  },
  "language_info": {
   "codemirror_mode": {
    "name": "ipython",
    "version": 3
   },
   "file_extension": ".py",
   "mimetype": "text/x-python",
   "name": "python",
   "nbconvert_exporter": "python",
   "pygments_lexer": "ipython3",
   "version": "3.5.1"
  }
 },
 "nbformat": 4,
 "nbformat_minor": 0
}
