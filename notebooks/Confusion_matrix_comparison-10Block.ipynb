{
 "cells": [
  {
   "cell_type": "code",
   "execution_count": 1,
   "metadata": {
    "collapsed": true
   },
   "outputs": [],
   "source": [
    "%matplotlib inline"
   ]
  },
  {
   "cell_type": "code",
   "execution_count": 2,
   "metadata": {
    "collapsed": false
   },
   "outputs": [],
   "source": [
    "import numpy as np\n",
    "\n",
    "from msslib.utils import *\n",
    "import matplotlib.pyplot as plt\n",
    "import matplotlib as mpl\n",
    "\n",
    "import functools as f\n",
    "\n",
    "from sklearn import metrics"
   ]
  },
  {
   "cell_type": "code",
   "execution_count": 3,
   "metadata": {
    "collapsed": false
   },
   "outputs": [],
   "source": [
    "def normalise_confusion_matrix(cm: np.ndarray):\n",
    "    return cm.astype('float') / cm.sum(axis=1)[:, np.newaxis]\n",
    "\n",
    "def plot_confusion_matrix(plt, score):\n",
    "    c_m = normalise_confusion_matrix(score['c_matrix'])\n",
    "    plt.imshow(c_m, interpolation='nearest', cmap=plt.cm.YlGn, vmin=0, vmax=1)"
   ]
  },
  {
   "cell_type": "code",
   "execution_count": 4,
   "metadata": {
    "collapsed": true
   },
   "outputs": [],
   "source": [
    "test_runs = [\"A\",\"B\",\"C\",\"D\",\"E\",\"F\"]\n",
    "results_dir = \"/home/finlay/HMT/data/VenetusA/1200Hx900W/10blocks/nearest_centroid/\"\n",
    "label_dir = \"/home/finlay/HMT/data/VenetusA/1200Hx900W/labels/\"\n"
   ]
  },
  {
   "cell_type": "code",
   "execution_count": 5,
   "metadata": {
    "collapsed": false
   },
   "outputs": [
    {
     "name": "stdout",
     "output_type": "stream",
     "text": [
      "0.626019902742 --- 0.758972758571 0.577626104497\n",
      "0.71598368974 --- 0.808766220204 0.688542063492\n",
      "0.738061587575 --- 0.824792379797 0.717057268519\n",
      "0.70384465836 --- 0.833496813563 0.635319265873\n",
      "0.736967939796 --- 0.827887279272 0.694141739418\n",
      "0.733656360883 --- 0.827385154744 0.701208022487\n"
     ]
    }
   ],
   "source": [
    "test_results = []\n",
    "for letter in test_runs:\n",
    "    results_paths = listpaths(os.path.join(results_dir, letter))\n",
    "    label_paths = [format_path(label_dir, 'png', only_basename(p)) for p in results_paths]\n",
    "\n",
    "    load_results = map(lambda x: np.load(x).flatten(), results_paths)\n",
    "    results = f.reduce(lambda x,y: np.append(y, x), load_results)\n",
    "\n",
    "    load_labels = map(lambda x: misc.imread(x).flatten(), label_paths)\n",
    "    labels = f.reduce(lambda x,y: np.append(y, x), load_labels)\n",
    "\n",
    "    p,r,fs,_ = metrics.precision_recall_fscore_support(labels, results, average='weighted')\n",
    "    c_m = metrics.confusion_matrix(labels, results)\n",
    "    print(fs, \"---\", p, r)\n",
    "    test_results.append(\n",
    "        {'label': letter, \n",
    "         'precision': p,\n",
    "         'recall': r,\n",
    "         'fscore': fs,\n",
    "         'c_matrix': c_m\n",
    "        })\n",
    "np.save(os.path.join(results_dir, \"results.npy\"), np.asarray(test_results))"
   ]
  },
  {
   "cell_type": "code",
   "execution_count": 17,
   "metadata": {
    "collapsed": false
   },
   "outputs": [
    {
     "data": {
      "text/plain": [
       "0.72916634846191508"
      ]
     },
     "execution_count": 17,
     "metadata": {},
     "output_type": "execute_result"
    }
   ],
   "source": []
  },
  {
   "cell_type": "code",
   "execution_count": null,
   "metadata": {
    "collapsed": false
   },
   "outputs": [],
   "source": []
  },
  {
   "cell_type": "code",
   "execution_count": null,
   "metadata": {
    "collapsed": false
   },
   "outputs": [],
   "source": []
  },
  {
   "cell_type": "code",
   "execution_count": null,
   "metadata": {
    "collapsed": false
   },
   "outputs": [],
   "source": []
  },
  {
   "cell_type": "code",
   "execution_count": null,
   "metadata": {
    "collapsed": false
   },
   "outputs": [],
   "source": []
  },
  {
   "cell_type": "code",
   "execution_count": null,
   "metadata": {
    "collapsed": false
   },
   "outputs": [],
   "source": []
  },
  {
   "cell_type": "code",
   "execution_count": null,
   "metadata": {
    "collapsed": false
   },
   "outputs": [],
   "source": []
  },
  {
   "cell_type": "code",
   "execution_count": null,
   "metadata": {
    "collapsed": false
   },
   "outputs": [],
   "source": []
  },
  {
   "cell_type": "code",
   "execution_count": null,
   "metadata": {
    "collapsed": false
   },
   "outputs": [],
   "source": []
  },
  {
   "cell_type": "code",
   "execution_count": null,
   "metadata": {
    "collapsed": false
   },
   "outputs": [],
   "source": []
  },
  {
   "cell_type": "code",
   "execution_count": null,
   "metadata": {
    "collapsed": false
   },
   "outputs": [],
   "source": []
  },
  {
   "cell_type": "code",
   "execution_count": null,
   "metadata": {
    "collapsed": false
   },
   "outputs": [],
   "source": []
  },
  {
   "cell_type": "code",
   "execution_count": null,
   "metadata": {
    "collapsed": true
   },
   "outputs": [],
   "source": []
  }
 ],
 "metadata": {
  "kernelspec": {
   "display_name": "Python 3",
   "language": "python",
   "name": "python3"
  },
  "language_info": {
   "codemirror_mode": {
    "name": "ipython",
    "version": 3
   },
   "file_extension": ".py",
   "mimetype": "text/x-python",
   "name": "python",
   "nbconvert_exporter": "python",
   "pygments_lexer": "ipython3",
   "version": "3.5.1"
  }
 },
 "nbformat": 4,
 "nbformat_minor": 0
}
