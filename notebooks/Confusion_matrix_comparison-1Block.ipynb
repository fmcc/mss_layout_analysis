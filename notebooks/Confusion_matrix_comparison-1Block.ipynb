{
 "cells": [
  {
   "cell_type": "code",
   "execution_count": 1,
   "metadata": {
    "collapsed": true
   },
   "outputs": [],
   "source": [
    "%matplotlib inline"
   ]
  },
  {
   "cell_type": "code",
   "execution_count": 2,
   "metadata": {
    "collapsed": false
   },
   "outputs": [],
   "source": [
    "import numpy as np\n",
    "\n",
    "from msslib.utils import *\n",
    "import matplotlib.pyplot as plt\n",
    "import matplotlib as mpl\n",
    "\n",
    "import functools as f\n",
    "\n",
    "from sklearn import metrics"
   ]
  },
  {
   "cell_type": "code",
   "execution_count": 3,
   "metadata": {
    "collapsed": true
   },
   "outputs": [],
   "source": [
    "def normalise_confusion_matrix(cm: np.ndarray):\n",
    "    return cm.astype('float') / cm.sum(axis=1)[:, np.newaxis]\n",
    "\n",
    "def plot_confusion_matrix(plt, score):\n",
    "    c_m = normalise_confusion_matrix(score['c_matrix'])\n",
    "    plt.imshow(c_m, interpolation='nearest', cmap=plt.cm.YlGn, vmin=0, vmax=1)"
   ]
  },
  {
   "cell_type": "code",
   "execution_count": 10,
   "metadata": {
    "collapsed": false
   },
   "outputs": [],
   "source": [
    "label_dir = \"/home/finlay/HMT/data/VenetusA/1200Hx900W/labels/\"\n",
    "comp_dir = \"/home/finlay/HMT/data/VenetusA/1200Hx900W/10blocks/nearest_centroid/C/\"\n",
    "\n",
    "comp_paths = listpaths(comp_dir)\n",
    "label_paths = [format_path(label_dir, 'png', only_basename(p)) for p in comp_paths]\n",
    "\n",
    "load_comps = map(lambda x: np.load(x).flatten(), comp_paths)\n",
    "comps = f.reduce(lambda x,y: np.append(y, x), load_comps)\n",
    "\n",
    "load_labels = map(lambda x: misc.imread(x).flatten(), label_paths)\n",
    "labels = f.reduce(lambda x,y: np.append(y, x), load_labels)\n",
    "\n",
    "p,r,fs,_ = metrics.precision_recall_fscore_support(labels, comps, average='weighted')\n",
    "\n",
    "res1 = {'precision': p,\n",
    "       'recall': r,\n",
    "       'fscore': fs,\n",
    "       'c_matrix': metrics.confusion_matrix(labels, comps)\n",
    "      }"
   ]
  },
  {
   "cell_type": "code",
   "execution_count": 11,
   "metadata": {
    "collapsed": false
   },
   "outputs": [
    {
     "data": {
      "text/plain": [
       "{'c_matrix': array([[ 3235653,   131737,    22366,    63087,   547754],\n",
       "        [ 8793479, 43312891,  3569284, 10643623,  3887982],\n",
       "        [    8737,   620524, 13392557,  5281624,  1114329],\n",
       "        [    3901,    86057,   226378,  1365556,    29801],\n",
       "        [    5130,   462091,  5456215,  7061710, 22437534]]),\n",
       " 'fscore': 0.7021084570082885,\n",
       " 'precision': 0.83305101725987607,\n",
       " 'recall': 0.63558129174256228}"
      ]
     },
     "execution_count": 11,
     "metadata": {},
     "output_type": "execute_result"
    }
   ],
   "source": [
    "res1"
   ]
  },
  {
   "cell_type": "code",
   "execution_count": 12,
   "metadata": {
    "collapsed": false
   },
   "outputs": [
    {
     "data": {
      "image/png": "[encoded data removed]",
      "text/plain": [
       "<matplotlib.figure.Figure at 0x7f080ddd6588>"
      ]
     },
     "metadata": {},
     "output_type": "display_data"
    }
   ],
   "source": [
    "plot_confusion_matrix(plt, res1)"
   ]
  },
  {
   "cell_type": "code",
   "execution_count": null,
   "metadata": {
    "collapsed": false
   },
   "outputs": [],
   "source": [
    "#import functools as f\n",
    "#label_dir = \"/home/finlay/HMT/data/VenetusA/1200Hx900W/labels/\"\n",
    "comp2_dir = \"/home/finlay/HMT/data/VenetusA/1200Hx900W/10blocks/nearest_centroid/B/\"\n",
    "\n",
    "comp2_paths = listpaths(comp_dir)\n",
    "#label_paths = [format_path(label_dir, 'png', only_basename(p)) for p in comp_paths]\n",
    "\n",
    "load_comps = map(lambda x: np.load(x).flatten(), comp2_paths)\n",
    "comps2 = f.reduce(lambda x,y: np.append(y, x), load_comps)\n",
    "\n",
    "#load_labels = map(lambda x: misc.imread(x).flatten(), label_paths)\n",
    "#labels = f.reduce(lambda x,y: np.append(y, x), load_labels)\n",
    "\n",
    "p,r,fs,_ = metrics.precision_recall_fscore_support(labels, comps2, average='weighted')\n",
    "\n",
    "res2 = {'precision': p,\n",
    "       'recall': r,\n",
    "       'fscore': fs,\n",
    "       'c_matrix': metrics.confusion_matrix(labels, comps2)\n",
    "      }"
   ]
  },
  {
   "cell_type": "code",
   "execution_count": null,
   "metadata": {
    "collapsed": false
   },
   "outputs": [],
   "source": [
    "res2"
   ]
  },
  {
   "cell_type": "code",
   "execution_count": null,
   "metadata": {
    "collapsed": false
   },
   "outputs": [],
   "source": [
    "plot_confusion_matrix(plt, res2)"
   ]
  },
  {
   "cell_type": "code",
   "execution_count": null,
   "metadata": {
    "collapsed": false
   },
   "outputs": [],
   "source": [
    "fig, axes = plt.subplots(4, 3, figsize=(9.2,10),sharex='col', sharey='row')\n",
    "\n",
    "tick_marks = np.arange(len(mss_labels))\n",
    "axes[0][0].set_yticklabels(['']+mss_labels)\n",
    "axes[1][0].set_yticklabels(['']+mss_labels)\n",
    "axes[2][0].set_yticklabels(['']+mss_labels)\n",
    "axes[3][0].set_yticklabels(['']+mss_labels)\n",
    "axes[3][0].set_xticklabels(['']+mss_labels,ha='right', rotation=45)\n",
    "axes[3][1].set_xticklabels(['']+mss_labels,ha='right', rotation=45)\n",
    "axes[3][2].set_xticklabels(['']+mss_labels,ha='right', rotation=45)\n",
    "\n",
    "for a, s in zip(axes.flat, scores):\n",
    "    a.set_title(s['label'][0])\n",
    "    c_m = normalise_confusion_matrix(s['c_matrix'])\n",
    "    im = a.imshow(c_m, interpolation='nearest', cmap=plt.cm.YlGn, vmin=0, vmax=1)\n",
    "    \n",
    "cax,kw = mpl.colorbar.make_axes([ax for ax in axes.flat], aspect=70)\n",
    "plt.colorbar(im, cax=cax, **kw)"
   ]
  },
  {
   "cell_type": "code",
   "execution_count": null,
   "metadata": {
    "collapsed": false
   },
   "outputs": [],
   "source": [
    "fig.savefig('c_matrix.png')"
   ]
  },
  {
   "cell_type": "code",
   "execution_count": null,
   "metadata": {
    "collapsed": false
   },
   "outputs": [],
   "source": [
    "fig = plt.figure()\n",
    "fs = [s['fscore'] for s in scores]\n",
    "labels = [s['label'][0] for s in scores]\n",
    "del fs[6]\n",
    "del labels[6]\n",
    "x = range(len(fs))\n",
    "plt.scatter(np.arange(len(fs)), fs, c='green', marker='D')\n",
    "plt.xticks(x, labels)\n",
    "plt.ylabel('F-score')\n",
    "plt.xlabel('Test runs')\n",
    "\n",
    "fig.savefig('scatter.png')"
   ]
  },
  {
   "cell_type": "code",
   "execution_count": 13,
   "metadata": {
    "collapsed": false
   },
   "outputs": [
    {
     "data": {
      "text/plain": [
       "<matplotlib.image.AxesImage at 0x7fbb373b2f60>"
      ]
     },
     "execution_count": 13,
     "metadata": {},
     "output_type": "execute_result"
    },
    {
     "data": {
      "image/png": "[encoded data removed]",
      "text/plain": [
       "<matplotlib.figure.Figure at 0x7fbb373fa208>"
      ]
     },
     "metadata": {},
     "output_type": "display_data"
    }
   ],
   "source": [
    "plt.imshow(comp)"
   ]
  },
  {
   "cell_type": "code",
   "execution_count": 17,
   "metadata": {
    "collapsed": false
   },
   "outputs": [
    {
     "data": {
      "text/plain": [
       "(1200, 900)"
      ]
     },
     "execution_count": 17,
     "metadata": {},
     "output_type": "execute_result"
    }
   ],
   "source": [
    "comp.shape"
   ]
  },
  {
   "cell_type": "code",
   "execution_count": null,
   "metadata": {
    "collapsed": false
   },
   "outputs": [],
   "source": []
  },
  {
   "cell_type": "code",
   "execution_count": null,
   "metadata": {
    "collapsed": false
   },
   "outputs": [],
   "source": []
  },
  {
   "cell_type": "code",
   "execution_count": null,
   "metadata": {
    "collapsed": true
   },
   "outputs": [],
   "source": []
  }
 ],
 "metadata": {
  "kernelspec": {
   "display_name": "Python 3",
   "language": "python",
   "name": "python3"
  },
  "language_info": {
   "codemirror_mode": {
    "name": "ipython",
    "version": 3
   },
   "file_extension": ".py",
   "mimetype": "text/x-python",
   "name": "python",
   "nbconvert_exporter": "python",
   "pygments_lexer": "ipython3",
   "version": "3.5.1"
  }
 },
 "nbformat": 4,
 "nbformat_minor": 0
}
