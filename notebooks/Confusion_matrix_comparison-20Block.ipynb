{
 "cells": [
  {
   "cell_type": "code",
   "execution_count": 1,
   "metadata": {
    "collapsed": true
   },
   "outputs": [],
   "source": [
    "%matplotlib inline"
   ]
  },
  {
   "cell_type": "code",
   "execution_count": 2,
   "metadata": {
    "collapsed": false
   },
   "outputs": [],
   "source": [
    "import numpy as np\n",
    "\n",
    "from msslib.utils import *\n",
    "import matplotlib.pyplot as plt\n",
    "import matplotlib as mpl\n",
    "\n",
    "import functools as f\n",
    "\n",
    "from sklearn import metrics"
   ]
  },
  {
   "cell_type": "code",
   "execution_count": 3,
   "metadata": {
    "collapsed": false
   },
   "outputs": [],
   "source": [
    "def normalise_confusion_matrix(cm: np.ndarray):\n",
    "    return cm.astype('float') / cm.sum(axis=1)[:, np.newaxis]\n",
    "\n",
    "def plot_confusion_matrix(plt, score):\n",
    "    c_m = normalise_confusion_matrix(score['c_matrix'])\n",
    "    plt.imshow(c_m, interpolation='nearest', cmap=plt.cm.YlGn, vmin=0, vmax=1)"
   ]
  },
  {
   "cell_type": "code",
   "execution_count": 4,
   "metadata": {
    "collapsed": true
   },
   "outputs": [],
   "source": [
    "test_runs = [\"A\",\"B\",\"C\",\"D\",\"E\",\"F\"]\n",
    "results_dir = \"/home/finlay/HMT/data/VenetusA/1200Hx900W/20blocks/nearest_centroid/\"\n",
    "label_dir = \"/home/finlay/HMT/data/VenetusA/1200Hx900W/labels/\"\n"
   ]
  },
  {
   "cell_type": "code",
   "execution_count": 5,
   "metadata": {
    "collapsed": false
   },
   "outputs": [],
   "source": [
    "test_results = []\n",
    "for letter in test_runs:\n",
    "    results_paths = listpaths(os.path.join(results_dir, letter))\n",
    "    label_paths = [format_path(label_dir, 'png', only_basename(p)) for p in results_paths]\n",
    "\n",
    "    load_results = map(lambda x: np.load(x).flatten(), results_paths)\n",
    "    results = f.reduce(lambda x,y: np.append(y, x), load_results)\n",
    "\n",
    "    load_labels = map(lambda x: misc.imread(x).flatten(), label_paths)\n",
    "    labels = f.reduce(lambda x,y: np.append(y, x), load_labels)\n",
    "\n",
    "    p,r,fs,_ = metrics.precision_recall_fscore_support(labels, results, average='weighted')\n",
    "    c_m = metrics.confusion_matrix(labels, results)\n",
    "\n",
    "    test_results.append(\n",
    "        {'label': letter, \n",
    "         'precision': p,\n",
    "         'recall': r,\n",
    "         'fscore': fs,\n",
    "         'c_matrix': c_m\n",
    "        })"
   ]
  },
  {
   "cell_type": "code",
   "execution_count": 13,
   "metadata": {
    "collapsed": false
   },
   "outputs": [],
   "source": [
    "np.save(os.path.join(results_dir, \"results.npy\"), np.asarray(test_results))"
   ]
  },
  {
   "cell_type": "code",
   "execution_count": 10,
   "metadata": {
    "collapsed": false
   },
   "outputs": [
    {
     "data": {
      "image/png": "[encoded data removed]",
      "text/plain": [
       "<matplotlib.figure.Figure at 0x7f5d157dd860>"
      ]
     },
     "metadata": {},
     "output_type": "display_data"
    }
   ],
   "source": [
    "plot_confusion_matrix(plt, test_results[])"
   ]
  },
  {
   "cell_type": "code",
   "execution_count": 14,
   "metadata": {
    "collapsed": false
   },
   "outputs": [],
   "source": []
  },
  {
   "cell_type": "code",
   "execution_count": 15,
   "metadata": {
    "collapsed": false
   },
   "outputs": [
    {
     "data": {
      "text/plain": [
       "array([ {'label': 'A', 'precision': 0.81451273946107494, 'recall': 0.68061850925925926, 'fscore': 0.71279141073375807, 'c_matrix': array([[ 2941989,    60082,    34296,    13255,   117915],\n",
       "       [ 7990827, 32712694,  3515481,  4968598,  5865432],\n",
       "       [   17748,   441667, 10837498,  1742046,  5480053],\n",
       "       [    8736,    84057,   615024,   627302,   234884],\n",
       "       [    2700,   222300,   777701,  2300399, 26387316]])},\n",
       "       {'label': 'B', 'precision': 0.83388255465431893, 'recall': 0.66308352777777779, 'fscore': 0.71768412221746358, 'c_matrix': array([[ 3027509,    47162,      450,    42892,    58628],\n",
       "       [ 9372355, 35454507,   935805,  6352261,  2848453],\n",
       "       [   36560,   556737, 13037462,  3867320,  1067998],\n",
       "       [    7685,   101480,   165469,  1135976,   100154],\n",
       "       [    8291,   300914,  7456814,  3059551, 18957567]])},\n",
       "       {'label': 'C', 'precision': 0.77487995564006351, 'recall': 0.58624131481481478, 'fscore': 0.62914510327488837, 'c_matrix': array([[ 1686873,   128224,      186,   499581,   826022],\n",
       "       [ 4293044, 26963843,  4852499, 13882141,  5653886],\n",
       "       [    1349,   265998,  8294511,  1966730,  7541735],\n",
       "       [    4322,    56273,    94802,   613840,   657762],\n",
       "       [    2012,   159662,  2683602,  1116108, 25754995]])},\n",
       "       {'label': 'D', 'precision': 0.76996600401647308, 'recall': 0.62632350000000003, 'fscore': 0.66706052922496983, 'c_matrix': array([[ 1718285,   119955,    11910,    31101,  1313281],\n",
       "       [ 5079951, 34064794,  4267856,  5027074,  6614333],\n",
       "       [    3440,   517312, 14416977,  2909787,   726986],\n",
       "       [    9191,    95033,   352758,  1008867,    46985],\n",
       "       [    3133,   220906,  9822499,  3183571, 16434015]])},\n",
       "       {'label': 'E', 'precision': 0.79199805196995676, 'recall': 0.6085058333333333, 'fscore': 0.66315569721531664, 'c_matrix': array([[ 1740297,    45379,     3320,    44364,  1288370],\n",
       "       [ 6033582, 31691268,  1511737,  9926572,  5760476],\n",
       "       [   13323,   386500, 14176969,  3403673,   546464],\n",
       "       [    7891,    52646,   327055,  1147415,    50409],\n",
       "       [    1307,   150207,  9428919,  3299176, 16962681]])},\n",
       "       {'label': 'F', 'precision': 0.82694893406591652, 'recall': 0.71454294444444444, 'fscore': 0.75887258974037708, 'c_matrix': array([[ 1389013,  1662644,        0,    12752,       65],\n",
       "       [ 4590400, 40905790,  1048952,  4696312,  3449787],\n",
       "       [   13997,   895210, 10788773,  5039027,  2170593],\n",
       "       [    4756,   198213,   142030,  1215120,    74413],\n",
       "       [    5834,   514143,  2546245,  3763989, 22871942]])}], dtype=object)"
      ]
     },
     "execution_count": 15,
     "metadata": {},
     "output_type": "execute_result"
    }
   ],
   "source": [
    "\n"
   ]
  },
  {
   "cell_type": "code",
   "execution_count": null,
   "metadata": {
    "collapsed": false
   },
   "outputs": [],
   "source": []
  },
  {
   "cell_type": "code",
   "execution_count": null,
   "metadata": {
    "collapsed": false
   },
   "outputs": [],
   "source": []
  },
  {
   "cell_type": "code",
   "execution_count": null,
   "metadata": {
    "collapsed": false
   },
   "outputs": [],
   "source": []
  },
  {
   "cell_type": "code",
   "execution_count": null,
   "metadata": {
    "collapsed": false
   },
   "outputs": [],
   "source": []
  },
  {
   "cell_type": "code",
   "execution_count": null,
   "metadata": {
    "collapsed": false
   },
   "outputs": [],
   "source": []
  },
  {
   "cell_type": "code",
   "execution_count": null,
   "metadata": {
    "collapsed": false
   },
   "outputs": [],
   "source": []
  },
  {
   "cell_type": "code",
   "execution_count": null,
   "metadata": {
    "collapsed": false
   },
   "outputs": [],
   "source": []
  },
  {
   "cell_type": "code",
   "execution_count": null,
   "metadata": {
    "collapsed": false
   },
   "outputs": [],
   "source": []
  },
  {
   "cell_type": "code",
   "execution_count": null,
   "metadata": {
    "collapsed": true
   },
   "outputs": [],
   "source": []
  }
 ],
 "metadata": {
  "kernelspec": {
   "display_name": "Python 3",
   "language": "python",
   "name": "python3"
  },
  "language_info": {
   "codemirror_mode": {
    "name": "ipython",
    "version": 3
   },
   "file_extension": ".py",
   "mimetype": "text/x-python",
   "name": "python",
   "nbconvert_exporter": "python",
   "pygments_lexer": "ipython3",
   "version": "3.5.1"
  }
 },
 "nbformat": 4,
 "nbformat_minor": 0
}
