{
 "cells": [
  {
   "cell_type": "code",
   "execution_count": 1,
   "metadata": {
    "collapsed": true
   },
   "outputs": [],
   "source": [
    "%matplotlib inline"
   ]
  },
  {
   "cell_type": "code",
   "execution_count": 2,
   "metadata": {
    "collapsed": false
   },
   "outputs": [],
   "source": [
    "import numpy as np\n",
    "\n",
    "from msslib.utils import *\n",
    "import matplotlib.pyplot as plt\n",
    "import matplotlib as mpl\n",
    "\n",
    "import functools as f\n",
    "\n",
    "from sklearn import metrics"
   ]
  },
  {
   "cell_type": "code",
   "execution_count": 3,
   "metadata": {
    "collapsed": false
   },
   "outputs": [],
   "source": [
    "def normalise_confusion_matrix(cm: np.ndarray):\n",
    "    return cm.astype('float') / cm.sum(axis=1)[:, np.newaxis]\n",
    "\n",
    "def plot_confusion_matrix(plt, score):\n",
    "    c_m = normalise_confusion_matrix(score['c_matrix'])\n",
    "    plt.imshow(c_m, interpolation='nearest', cmap=plt.cm.YlGn, vmin=0, vmax=1)"
   ]
  },
  {
   "cell_type": "code",
   "execution_count": 4,
   "metadata": {
    "collapsed": true
   },
   "outputs": [],
   "source": [
    "test_runs = [\"A\",\"B\",\"C\",\"D\",\"E\",\"F\"]\n",
    "results_dir = \"/home/finlay/HMT/data/VenetusA/1200Hx900W/20blocks/LDA_nearest_centroid/\"\n",
    "label_dir = \"/home/finlay/HMT/data/VenetusA/1200Hx900W/labels/\"\n"
   ]
  },
  {
   "cell_type": "code",
   "execution_count": 5,
   "metadata": {
    "collapsed": false
   },
   "outputs": [
    {
     "name": "stdout",
     "output_type": "stream",
     "text": [
      "0.728085566064 --- 0.746808093076 0.754570453704\n",
      "0.82378211286 --- 0.827855625663 0.823321444444\n",
      "0.787085576461 --- 0.803041768323 0.780304462963\n",
      "0.799094516511 --- 0.806865420895 0.797251962963\n",
      "0.795552109468 --- 0.794022460348 0.80011862963\n",
      "0.813293239316 --- 0.806916241639 0.822368101852\n"
     ]
    }
   ],
   "source": [
    "test_results = []\n",
    "for letter in test_runs:\n",
    "    results_paths = listpaths(os.path.join(results_dir, letter))\n",
    "    label_paths = [format_path(label_dir, 'png', only_basename(p)) for p in results_paths]\n",
    "\n",
    "    load_results = map(lambda x: np.load(x).flatten(), results_paths)\n",
    "    results = f.reduce(lambda x,y: np.append(y, x), load_results)\n",
    "\n",
    "    load_labels = map(lambda x: misc.imread(x).flatten(), label_paths)\n",
    "    labels = f.reduce(lambda x,y: np.append(y, x), load_labels)\n",
    "\n",
    "    p,r,fs,_ = metrics.precision_recall_fscore_support(labels, results, average='weighted')\n",
    "    print(fs, \"---\", p, r)\n",
    "    c_m = metrics.confusion_matrix(labels, results)\n",
    "\n",
    "    test_results.append(\n",
    "        {'label': letter, \n",
    "         'precision': p,\n",
    "         'recall': r,\n",
    "         'fscore': fs,\n",
    "         'c_matrix': c_m\n",
    "        })\n",
    "\n",
    "np.save(os.path.join(results_dir, \"results.npy\"), np.asarray(test_results))"
   ]
  },
  {
   "cell_type": "code",
   "execution_count": 12,
   "metadata": {
    "collapsed": false
   },
   "outputs": [],
   "source": [
    "cont_test_res = test_results"
   ]
  },
  {
   "cell_type": "code",
   "execution_count": 10,
   "metadata": {
    "collapsed": false
   },
   "outputs": [
    {
     "data": {
      "image/png": "[encoded data removed]",
      "text/plain": [
       "<matplotlib.figure.Figure at 0x7f26954ef898>"
      ]
     },
     "metadata": {},
     "output_type": "display_data"
    }
   ],
   "source": [
    "plot_confusion_matrix(plt, test_results[0])"
   ]
  },
  {
   "cell_type": "code",
   "execution_count": null,
   "metadata": {
    "collapsed": false
   },
   "outputs": [],
   "source": []
  },
  {
   "cell_type": "code",
   "execution_count": null,
   "metadata": {
    "collapsed": false
   },
   "outputs": [],
   "source": []
  },
  {
   "cell_type": "code",
   "execution_count": null,
   "metadata": {
    "collapsed": false
   },
   "outputs": [],
   "source": []
  },
  {
   "cell_type": "code",
   "execution_count": null,
   "metadata": {
    "collapsed": false
   },
   "outputs": [],
   "source": []
  },
  {
   "cell_type": "code",
   "execution_count": null,
   "metadata": {
    "collapsed": false
   },
   "outputs": [],
   "source": []
  },
  {
   "cell_type": "code",
   "execution_count": null,
   "metadata": {
    "collapsed": false
   },
   "outputs": [],
   "source": []
  },
  {
   "cell_type": "code",
   "execution_count": null,
   "metadata": {
    "collapsed": false
   },
   "outputs": [],
   "source": []
  },
  {
   "cell_type": "code",
   "execution_count": null,
   "metadata": {
    "collapsed": false
   },
   "outputs": [],
   "source": []
  },
  {
   "cell_type": "code",
   "execution_count": null,
   "metadata": {
    "collapsed": false
   },
   "outputs": [],
   "source": []
  },
  {
   "cell_type": "code",
   "execution_count": null,
   "metadata": {
    "collapsed": false
   },
   "outputs": [],
   "source": []
  },
  {
   "cell_type": "code",
   "execution_count": null,
   "metadata": {
    "collapsed": true
   },
   "outputs": [],
   "source": []
  }
 ],
 "metadata": {
  "kernelspec": {
   "display_name": "Python 3",
   "language": "python",
   "name": "python3"
  },
  "language_info": {
   "codemirror_mode": {
    "name": "ipython",
    "version": 3
   },
   "file_extension": ".py",
   "mimetype": "text/x-python",
   "name": "python",
   "nbconvert_exporter": "python",
   "pygments_lexer": "ipython3",
   "version": "3.5.1"
  }
 },
 "nbformat": 4,
 "nbformat_minor": 0
}
