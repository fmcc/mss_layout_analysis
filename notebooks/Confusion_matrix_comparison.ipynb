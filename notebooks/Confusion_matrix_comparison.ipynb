{
 "cells": [
  {
   "cell_type": "code",
   "execution_count": 27,
   "metadata": {
    "collapsed": true
   },
   "outputs": [],
   "source": [
    "%matplotlib inline"
   ]
  },
  {
   "cell_type": "code",
   "execution_count": 28,
   "metadata": {
    "collapsed": true
   },
   "outputs": [],
   "source": [
    "import numpy as np\n",
    "\n",
    "from msslib.utils import *\n",
    "from msslib.labels import mss_labels\n",
    "import matplotlib.pyplot as plt\n",
    "import matplotlib as mpl\n",
    "\n",
    "from sklearn import metrics"
   ]
  },
  {
   "cell_type": "code",
   "execution_count": 29,
   "metadata": {
    "collapsed": false
   },
   "outputs": [
    {
     "data": {
      "text/plain": [
       "['/home/finlay/Dropbox/test_runs/LDA_SSVM_grid_run/A_labels_and_results.npy',\n",
       " '/home/finlay/Dropbox/test_runs/LDA_SSVM_grid_run/B_labels_and_results.npy']"
      ]
     },
     "execution_count": 29,
     "metadata": {},
     "output_type": "execute_result"
    }
   ],
   "source": [
    "base_path = \"/home/finlay/Dropbox/test_runs/LDA_SSVM_grid_run/\"\n",
    "results_paths = sorted(list(filter(lambda x: 'results' in x, listpaths(base_path))))\n",
    "results_paths"
   ]
  },
  {
   "cell_type": "code",
   "execution_count": 30,
   "metadata": {
    "collapsed": false
   },
   "outputs": [],
   "source": [
    "scores = []\n",
    "for path in results_paths:\n",
    "    results = np.load(path)\n",
    "    p,r,f,_ = metrics.precision_recall_fscore_support(results[0], results[1], average='weighted')\n",
    "    \n",
    "    scores.append({'label': only_basename(path),\n",
    "                    'precision': p,\n",
    "                    'recall': r,\n",
    "                    'fscore': f,\n",
    "                    'c_matrix': metrics.confusion_matrix(results[0], results[1])\n",
    "                  })\n"
   ]
  },
  {
   "cell_type": "code",
   "execution_count": 31,
   "metadata": {
    "collapsed": false
   },
   "outputs": [
    {
     "data": {
      "text/plain": [
       "[{'c_matrix': array([[  886493,  4107802,        0,     6220,        0],\n",
       "         [  251622, 82491426,   944886,  2307332,  1225565],\n",
       "         [       0,  2320557, 21864704,  1159210,  1631306],\n",
       "         [       0,   570379,   141843,  1383777,   152011],\n",
       "         [       0,  1111282,    40864,   911914, 43890807]]),\n",
       "  'fscore': 0.89722520402860839,\n",
       "  'label': 'A_labels_and_results',\n",
       "  'precision': 0.91103394848824237,\n",
       "  'recall': 0.89914699522102748},\n",
       " {'c_matrix': array([[  947547,  2716387,     2220,      380,     5354],\n",
       "         [ 1593738, 46032244,  8430600,  1220247,  5645926],\n",
       "         [   50794, 10334926,  9482032,   687838,  1533805],\n",
       "         [    4147,   893598,   255080,   128170,   542190],\n",
       "         [    3024,  1817801,   293039,   673837, 31985076]]),\n",
       "  'fscore': 0.70127015349960709,\n",
       "  'label': 'B_labels_and_results',\n",
       "  'precision': 0.69961888972010167,\n",
       "  'recall': 0.70701683429118778}]"
      ]
     },
     "execution_count": 31,
     "metadata": {},
     "output_type": "execute_result"
    }
   ],
   "source": [
    "scores"
   ]
  },
  {
   "cell_type": "code",
   "execution_count": 32,
   "metadata": {
    "collapsed": false
   },
   "outputs": [
    {
     "data": {
      "image/png": "[encoded data removed]",
      "text/plain": [
       "<matplotlib.figure.Figure at 0x7fc1a38be9e8>"
      ]
     },
     "metadata": {},
     "output_type": "display_data"
    }
   ],
   "source": [
    "plot_confusion_matrix(plt, scores[1])"
   ]
  },
  {
   "cell_type": "code",
   "execution_count": 24,
   "metadata": {
    "collapsed": false
   },
   "outputs": [],
   "source": [
    "struct_run = scores[0]"
   ]
  },
  {
   "cell_type": "code",
   "execution_count": 8,
   "metadata": {
    "collapsed": false
   },
   "outputs": [],
   "source": [
    "from msslib.evaluate import *"
   ]
  },
  {
   "cell_type": "code",
   "execution_count": 9,
   "metadata": {
    "collapsed": false
   },
   "outputs": [],
   "source": [
    "def plot_confusion_matrix(plt, score):\n",
    "    c_m = normalise_confusion_matrix(score['c_matrix'])\n",
    "    plt.imshow(c_m, interpolation='nearest', cmap=plt.cm.YlGn, vmin=0, vmax=1)\n",
    "    #ax.title(score['label'][0])\n",
    "    #tick_marks = np.arange(len(mss_labels))\n",
    "    #ax.xticks(tick_marks, mss_labels)\n",
    "    #ax.yticks(tick_marks, mss_labels)\n",
    "    #ax.tight_layout()\n",
    "    #ax.ylabel('True label')\n",
    "    #ax.xlabel('Predicted label')"
   ]
  },
  {
   "cell_type": "code",
   "execution_count": 25,
   "metadata": {
    "collapsed": false
   },
   "outputs": [
    {
     "data": {
      "image/png": "[encoded data removed]",
      "text/plain": [
       "<matplotlib.figure.Figure at 0x7fc192913630>"
      ]
     },
     "metadata": {},
     "output_type": "display_data"
    }
   ],
   "source": [
    "plot_confusion_matrix(plt, struct_run)\n"
   ]
  },
  {
   "cell_type": "code",
   "execution_count": 26,
   "metadata": {
    "collapsed": false
   },
   "outputs": [
    {
     "data": {
      "text/plain": [
       "{'c_matrix': array([[  886493,  4107802,        0,     6220,        0],\n",
       "        [  251622, 82491426,   944886,  2307332,  1225565],\n",
       "        [       0,  2320557, 21864704,  1159210,  1631306],\n",
       "        [       0,   570379,   141843,  1383777,   152011],\n",
       "        [       0,  1111282,    40864,   911914, 43890807]]),\n",
       " 'fscore': 0.89722520402860839,\n",
       " 'label': 'A_labels_and_results',\n",
       " 'precision': 0.91103394848824237,\n",
       " 'recall': 0.89914699522102748}"
      ]
     },
     "execution_count": 26,
     "metadata": {},
     "output_type": "execute_result"
    }
   ],
   "source": [
    "struct_run"
   ]
  },
  {
   "cell_type": "code",
   "execution_count": 20,
   "metadata": {
    "collapsed": false
   },
   "outputs": [
    {
     "data": {
      "image/png": "[encoded data removed]",
      "text/plain": [
       "<matplotlib.figure.Figure at 0x7fc1a386d630>"
      ]
     },
     "metadata": {},
     "output_type": "display_data"
    }
   ],
   "source": [
    "plot_confusion_matrix(plt, centroid_run)\n"
   ]
  },
  {
   "cell_type": "code",
   "execution_count": 21,
   "metadata": {
    "collapsed": false
   },
   "outputs": [
    {
     "data": {
      "text/plain": [
       "{'c_matrix': array([[ 3638407,   141666,      328,     5951,        0],\n",
       "        [ 6203008, 55065310,   962334,  2736712,   323815],\n",
       "        [     282,   664167, 16596476,  2693908,   454596],\n",
       "        [    4873,   141831,   263754,  1293663,    61566],\n",
       "        [     102,   643548,   923334,  1750192, 30710177]]),\n",
       " 'fscore': 0.8828453016934612,\n",
       " 'label': 'A_labels_and_results',\n",
       " 'precision': 0.92845038742339259,\n",
       " 'recall': 0.85651367337164752}"
      ]
     },
     "execution_count": 21,
     "metadata": {},
     "output_type": "execute_result"
    }
   ],
   "source": [
    "centroid_run"
   ]
  },
  {
   "cell_type": "code",
   "execution_count": null,
   "metadata": {
    "collapsed": false
   },
   "outputs": [],
   "source": [
    "fig, axes = plt.subplots(4, 3, figsize=(9.2,10),sharex='col', sharey='row')\n",
    "\n",
    "tick_marks = np.arange(len(mss_labels))\n",
    "axes[0][0].set_yticklabels(['']+mss_labels)\n",
    "axes[1][0].set_yticklabels(['']+mss_labels)\n",
    "axes[2][0].set_yticklabels(['']+mss_labels)\n",
    "axes[3][0].set_yticklabels(['']+mss_labels)\n",
    "axes[3][0].set_xticklabels(['']+mss_labels,ha='right', rotation=45)\n",
    "axes[3][1].set_xticklabels(['']+mss_labels,ha='right', rotation=45)\n",
    "axes[3][2].set_xticklabels(['']+mss_labels,ha='right', rotation=45)\n",
    "\n",
    "for a, s in zip(axes.flat, scores):\n",
    "    a.set_title(s['label'][0])\n",
    "    c_m = normalise_confusion_matrix(s['c_matrix'])\n",
    "    im = a.imshow(c_m, interpolation='nearest', cmap=plt.cm.YlGn, vmin=0, vmax=1)\n",
    "    \n",
    "cax,kw = mpl.colorbar.make_axes([ax for ax in axes.flat], aspect=70)\n",
    "plt.colorbar(im, cax=cax, **kw)"
   ]
  },
  {
   "cell_type": "code",
   "execution_count": null,
   "metadata": {
    "collapsed": false
   },
   "outputs": [],
   "source": [
    "fig.savefig('c_matrix.png')"
   ]
  },
  {
   "cell_type": "code",
   "execution_count": null,
   "metadata": {
    "collapsed": false
   },
   "outputs": [],
   "source": [
    "fig = plt.figure()\n",
    "fs = [s['fscore'] for s in scores]\n",
    "labels = [s['label'][0] for s in scores]\n",
    "del fs[6]\n",
    "del labels[6]\n",
    "x = range(len(fs))\n",
    "plt.scatter(np.arange(len(fs)), fs, c='green', marker='D')\n",
    "plt.xticks(x, labels)\n",
    "plt.ylabel('F-score')\n",
    "plt.xlabel('Test runs')\n",
    "\n",
    "fig.savefig('scatter.png')"
   ]
  },
  {
   "cell_type": "code",
   "execution_count": null,
   "metadata": {
    "collapsed": false
   },
   "outputs": [],
   "source": [
    "scores"
   ]
  },
  {
   "cell_type": "code",
   "execution_count": null,
   "metadata": {
    "collapsed": false
   },
   "outputs": [],
   "source": []
  },
  {
   "cell_type": "code",
   "execution_count": null,
   "metadata": {
    "collapsed": false
   },
   "outputs": [],
   "source": []
  },
  {
   "cell_type": "code",
   "execution_count": null,
   "metadata": {
    "collapsed": false
   },
   "outputs": [],
   "source": []
  },
  {
   "cell_type": "code",
   "execution_count": null,
   "metadata": {
    "collapsed": true
   },
   "outputs": [],
   "source": []
  }
 ],
 "metadata": {
  "kernelspec": {
   "display_name": "Python 3",
   "language": "python",
   "name": "python3"
  },
  "language_info": {
   "codemirror_mode": {
    "name": "ipython",
    "version": 3
   },
   "file_extension": ".py",
   "mimetype": "text/x-python",
   "name": "python",
   "nbconvert_exporter": "python",
   "pygments_lexer": "ipython3",
   "version": "3.5.1"
  }
 },
 "nbformat": 4,
 "nbformat_minor": 0
}
