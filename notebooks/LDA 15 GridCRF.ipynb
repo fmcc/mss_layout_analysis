{
 "cells": [
  {
   "cell_type": "code",
   "execution_count": 4,
   "metadata": {
    "collapsed": true
   },
   "outputs": [],
   "source": [
    "%matplotlib inline"
   ]
  },
  {
   "cell_type": "code",
   "execution_count": 5,
   "metadata": {
    "collapsed": true
   },
   "outputs": [],
   "source": [
    "import numpy as np\n",
    "import matplotlib.pyplot as plt\n",
    "from msslib.utils import *\n",
    "\n",
    "import random\n",
    "\n",
    "from pystruct.models import GridCRF\n",
    "import pystruct.learners as ssvm\n",
    "from pystruct.utils import SaveLogger\n",
    "\n",
    "from sklearn.discriminant_analysis import LinearDiscriminantAnalysis\n",
    "\n",
    "import datetime\n",
    "import random\n",
    "import pickle"
   ]
  },
  {
   "cell_type": "code",
   "execution_count": 6,
   "metadata": {
    "collapsed": true
   },
   "outputs": [],
   "source": [
    "test_runs = [\"A\",\"B\",\"C\",\"D\",\"E\",\"F\"]"
   ]
  },
  {
   "cell_type": "code",
   "execution_count": 7,
   "metadata": {
    "collapsed": true
   },
   "outputs": [],
   "source": [
    "unwanted_recto = [\"VA223RN\",\"VA327RN\",\"VA001RN\",\"VA002RN\",\"VA006RN\",\"VA007RN\",\"VA008RN\",\"VA009RN\"]\n",
    "\n",
    "def get_set_paths(directory):\n",
    "    return sorted(list(filter(lambda x: \"RN\" in x and not any(s in x for s in unwanted_recto) , listpaths(directory))))"
   ]
  },
  {
   "cell_type": "code",
   "execution_count": 8,
   "metadata": {
    "collapsed": false
   },
   "outputs": [
    {
     "name": "stdout",
     "output_type": "stream",
     "text": [
      "150\n"
     ]
    }
   ],
   "source": [
    "label_dir = \"/home/finlay/HMT/data/VenetusA/1200Hx900W/15blocks/labels/\"\n",
    "data_dir = \"/home/finlay/HMT/data/VenetusA/1200Hx900W/15blocks/data/\"\n",
    "\n",
    "label_paths = get_set_paths(label_dir)\n",
    "data_paths = get_set_paths(data_dir)\n",
    "\n",
    "path_pairs = list(zip(label_paths, data_paths))\n",
    "print(len(path_pairs))"
   ]
  },
  {
   "cell_type": "code",
   "execution_count": 9,
   "metadata": {
    "collapsed": false
   },
   "outputs": [],
   "source": [
    "# I'm training LDA on this as well as the random test set to ensure I always get the same number of classes\n",
    "lda_data_path = \"/home/finlay/HMT/data/VenetusA/1200Hx900W/15blocks/data/VA013RN-0014.npy\"\n",
    "lda_label_path = \"/home/finlay/HMT/data/VenetusA/1200Hx900W/15blocks/labels/VA013RN-0014.npy\"\n",
    "lda_X = flatten_vector_matrix(np.load(lda_data_path))\n",
    "lda_y = np.squeeze(flatten_vector_matrix(np.load(lda_label_path)))"
   ]
  },
  {
   "cell_type": "code",
   "execution_count": null,
   "metadata": {
    "collapsed": false
   },
   "outputs": [],
   "source": []
  },
  {
   "cell_type": "code",
   "execution_count": 12,
   "metadata": {
    "collapsed": false
   },
   "outputs": [
    {
     "name": "stdout",
     "output_type": "stream",
     "text": [
      "2016-06-07 21:28:30.661550\n",
      "Training LDA A\n"
     ]
    },
    {
     "name": "stderr",
     "output_type": "stream",
     "text": [
      "/usr/lib/python3.5/site-packages/sklearn/discriminant_analysis.py:387: UserWarning: Variables are collinear.\n",
      "  warnings.warn(\"Variables are collinear.\")\n",
      "/usr/lib/python3.5/site-packages/sklearn/discriminant_analysis.py:453: UserWarning: The priors do not sum to 1. Renormalizing\n",
      "  UserWarning)\n"
     ]
    },
    {
     "name": "stdout",
     "output_type": "stream",
     "text": [
      "Training A\n",
      "Training on /home/finlay/HMT/data/VenetusA/1200Hx900W/15blocks/labels/VA149RN-0150.npy\n",
      "Training on /home/finlay/HMT/data/VenetusA/1200Hx900W/15blocks/labels/VA195RN-0196.npy\n",
      "Training on /home/finlay/HMT/data/VenetusA/1200Hx900W/15blocks/labels/VA147RN-0148.npy\n",
      "Training on /home/finlay/HMT/data/VenetusA/1200Hx900W/15blocks/labels/VA116RN-0288.npy\n",
      "Training on /home/finlay/HMT/data/VenetusA/1200Hx900W/15blocks/labels/VA240RN-0241.npy\n",
      "Training on /home/finlay/HMT/data/VenetusA/1200Hx900W/15blocks/labels/VA262RN-0432.npy\n",
      "Training on /home/finlay/HMT/data/VenetusA/1200Hx900W/15blocks/labels/VA141RN-0142.npy\n",
      "Training on /home/finlay/HMT/data/VenetusA/1200Hx900W/15blocks/labels/VA093RN-0094.npy\n",
      "Training on /home/finlay/HMT/data/VenetusA/1200Hx900W/15blocks/labels/VA274RN-0444.npy\n",
      "Training on /home/finlay/HMT/data/VenetusA/1200Hx900W/15blocks/labels/VA104RN-0105.npy\n",
      "Training on /home/finlay/HMT/data/VenetusA/1200Hx900W/15blocks/labels/VA182RN-0183.npy\n",
      "Training on /home/finlay/HMT/data/VenetusA/1200Hx900W/15blocks/labels/VA115RN-0116.npy\n",
      "Training on /home/finlay/HMT/data/VenetusA/1200Hx900W/15blocks/labels/VA264RN-0434.npy\n",
      "Training on /home/finlay/HMT/data/VenetusA/1200Hx900W/15blocks/labels/VA121RN-0122.npy\n",
      "Training on /home/finlay/HMT/data/VenetusA/1200Hx900W/15blocks/labels/VA018RN-0019.npy\n",
      "Training on /home/finlay/HMT/data/VenetusA/1200Hx900W/15blocks/labels/VA039RN-0040.npy\n",
      "Training on /home/finlay/HMT/data/VenetusA/1200Hx900W/15blocks/labels/VA218RN-0389.npy\n",
      "Training on /home/finlay/HMT/data/VenetusA/1200Hx900W/15blocks/labels/VA132RN-0304.npy\n",
      "Training on /home/finlay/HMT/data/VenetusA/1200Hx900W/15blocks/labels/VA038RN-0039.npy\n",
      "Training on /home/finlay/HMT/data/VenetusA/1200Hx900W/15blocks/labels/VA236RN-0237.npy\n",
      "(20, 80, 60, 4)\n"
     ]
    },
    {
     "name": "stderr",
     "output_type": "stream",
     "text": [
      "/usr/lib/python3.5/site-packages/pystruct/learners/one_slack_ssvm.py:409: VisibleDeprecationWarning: using a non-integer number instead of an integer will result in an error in the future\n",
      "  self.w = np.zeros(self.model.size_joint_feature)\n",
      "/usr/lib/python3.5/site-packages/pystruct/learners/one_slack_ssvm.py:415: VisibleDeprecationWarning: using a non-integer number instead of an integer will result in an error in the future\n",
      "  constraints.append((np.zeros(self.model.size_joint_feature), 0))\n",
      "/usr/lib/python3.5/site-packages/pystruct/models/base.py:34: VisibleDeprecationWarning: using a non-integer number instead of an integer will result in an error in the future\n",
      "  joint_feature_ = np.zeros(self.size_joint_feature)\n",
      "/usr/lib/python3.5/site-packages/pystruct/learners/one_slack_ssvm.py:323: VisibleDeprecationWarning: using a non-integer number instead of an integer will result in an error in the future\n",
      "  joint_feature_acc = np.zeros(self.model.size_joint_feature)\n"
     ]
    },
    {
     "name": "stdout",
     "output_type": "stream",
     "text": [
      "2016-06-08 01:25:58.418147\n",
      "Testing A\n",
      "Saving A\n",
      "2016-06-08 01:30:05.127658\n",
      "2016-06-08 01:30:05.320311\n",
      "Training LDA B\n",
      "Training B\n",
      "Training on /home/finlay/HMT/data/VenetusA/1200Hx900W/15blocks/labels/VA262RN-0432.npy\n",
      "Training on /home/finlay/HMT/data/VenetusA/1200Hx900W/15blocks/labels/VA036RN-0037.npy\n",
      "Training on /home/finlay/HMT/data/VenetusA/1200Hx900W/15blocks/labels/VA087RN-0259.npy\n",
      "Training on /home/finlay/HMT/data/VenetusA/1200Hx900W/15blocks/labels/VA115RN-0116.npy\n",
      "Training on /home/finlay/HMT/data/VenetusA/1200Hx900W/15blocks/labels/VA169RN-0340.npy\n",
      "Training on /home/finlay/HMT/data/VenetusA/1200Hx900W/15blocks/labels/VA175RN-0176.npy\n",
      "Training on /home/finlay/HMT/data/VenetusA/1200Hx900W/15blocks/labels/VA248RN-0249.npy\n",
      "Training on /home/finlay/HMT/data/VenetusA/1200Hx900W/15blocks/labels/VA184RN-0355.npy\n",
      "Training on /home/finlay/HMT/data/VenetusA/1200Hx900W/15blocks/labels/VA288RN-0458.npy\n",
      "Training on /home/finlay/HMT/data/VenetusA/1200Hx900W/15blocks/labels/VA017RN-0018.npy\n",
      "Training on /home/finlay/HMT/data/VenetusA/1200Hx900W/15blocks/labels/VA063RN-0064.npy\n",
      "Training on /home/finlay/HMT/data/VenetusA/1200Hx900W/15blocks/labels/VA118RN-0119.npy\n",
      "Training on /home/finlay/HMT/data/VenetusA/1200Hx900W/15blocks/labels/VA187RN-0188.npy\n",
      "Training on /home/finlay/HMT/data/VenetusA/1200Hx900W/15blocks/labels/VA132RN-0304.npy\n",
      "Training on /home/finlay/HMT/data/VenetusA/1200Hx900W/15blocks/labels/VA286RN-0456.npy\n",
      "Training on /home/finlay/HMT/data/VenetusA/1200Hx900W/15blocks/labels/VA218RN-0389.npy\n",
      "Training on /home/finlay/HMT/data/VenetusA/1200Hx900W/15blocks/labels/VA066RN-0067.npy\n",
      "Training on /home/finlay/HMT/data/VenetusA/1200Hx900W/15blocks/labels/VA237RN-0238.npy\n",
      "Training on /home/finlay/HMT/data/VenetusA/1200Hx900W/15blocks/labels/VA192RN-0193.npy\n",
      "Training on /home/finlay/HMT/data/VenetusA/1200Hx900W/15blocks/labels/VA015RN-0016.npy\n",
      "(20, 80, 60, 4)\n",
      "2016-06-08 05:18:59.766831\n",
      "Testing B\n",
      "Saving B\n",
      "2016-06-08 05:23:01.876327\n",
      "2016-06-08 05:23:02.109282\n",
      "Training LDA C\n",
      "Training C\n",
      "Training on /home/finlay/HMT/data/VenetusA/1200Hx900W/15blocks/labels/VA167RN-0168.npy\n",
      "Training on /home/finlay/HMT/data/VenetusA/1200Hx900W/15blocks/labels/VA180RN-0351.npy\n",
      "Training on /home/finlay/HMT/data/VenetusA/1200Hx900W/15blocks/labels/VA215RN-0216.npy\n",
      "Training on /home/finlay/HMT/data/VenetusA/1200Hx900W/15blocks/labels/VA212RN-0213.npy\n",
      "Training on /home/finlay/HMT/data/VenetusA/1200Hx900W/15blocks/labels/VA174RN-0345.npy\n",
      "Training on /home/finlay/HMT/data/VenetusA/1200Hx900W/15blocks/labels/VA183RN-0354.npy\n",
      "Training on /home/finlay/HMT/data/VenetusA/1200Hx900W/15blocks/labels/VA093RN-0094.npy\n",
      "Training on /home/finlay/HMT/data/VenetusA/1200Hx900W/15blocks/labels/VA098RN-0099.npy\n",
      "Training on /home/finlay/HMT/data/VenetusA/1200Hx900W/15blocks/labels/VA131RN-0132.npy\n",
      "Training on /home/finlay/HMT/data/VenetusA/1200Hx900W/15blocks/labels/VA017RN-0018.npy\n",
      "Training on /home/finlay/HMT/data/VenetusA/1200Hx900W/15blocks/labels/VA225RN-0396.npy\n",
      "Training on /home/finlay/HMT/data/VenetusA/1200Hx900W/15blocks/labels/VA304RN-0474.npy\n",
      "Training on /home/finlay/HMT/data/VenetusA/1200Hx900W/15blocks/labels/VA309RN-0479.npy\n",
      "Training on /home/finlay/HMT/data/VenetusA/1200Hx900W/15blocks/labels/VA196RN-0197.npy\n",
      "Training on /home/finlay/HMT/data/VenetusA/1200Hx900W/15blocks/labels/VA122RN-0123.npy\n",
      "Training on /home/finlay/HMT/data/VenetusA/1200Hx900W/15blocks/labels/VA116RN-0288.npy\n",
      "Training on /home/finlay/HMT/data/VenetusA/1200Hx900W/15blocks/labels/VA318RN-0488.npy\n",
      "Training on /home/finlay/HMT/data/VenetusA/1200Hx900W/15blocks/labels/VA264RN-0434.npy\n",
      "Training on /home/finlay/HMT/data/VenetusA/1200Hx900W/15blocks/labels/VA319RN-0489.npy\n",
      "Training on /home/finlay/HMT/data/VenetusA/1200Hx900W/15blocks/labels/VA221RN-0222.npy\n",
      "(20, 80, 60, 4)\n",
      "2016-06-08 09:16:54.170994\n",
      "Testing C\n",
      "Saving C\n",
      "2016-06-08 09:20:36.684746\n",
      "2016-06-08 09:20:36.864634\n",
      "Training LDA D\n",
      "Training D\n",
      "Training on /home/finlay/HMT/data/VenetusA/1200Hx900W/15blocks/labels/VA110RN-0282.npy\n",
      "Training on /home/finlay/HMT/data/VenetusA/1200Hx900W/15blocks/labels/VA192RN-0193.npy\n",
      "Training on /home/finlay/HMT/data/VenetusA/1200Hx900W/15blocks/labels/VA160RN-0161.npy\n",
      "Training on /home/finlay/HMT/data/VenetusA/1200Hx900W/15blocks/labels/VA089RN-0090.npy\n",
      "Training on /home/finlay/HMT/data/VenetusA/1200Hx900W/15blocks/labels/VA264RN-0434.npy\n",
      "Training on /home/finlay/HMT/data/VenetusA/1200Hx900W/15blocks/labels/VA069RN-0070.npy\n",
      "Training on /home/finlay/HMT/data/VenetusA/1200Hx900W/15blocks/labels/VA101RN-0102.npy\n",
      "Training on /home/finlay/HMT/data/VenetusA/1200Hx900W/15blocks/labels/VA115RN-0116.npy\n",
      "Training on /home/finlay/HMT/data/VenetusA/1200Hx900W/15blocks/labels/VA014RN-0015.npy\n",
      "Training on /home/finlay/HMT/data/VenetusA/1200Hx900W/15blocks/labels/VA249RN-0250.npy\n",
      "Training on /home/finlay/HMT/data/VenetusA/1200Hx900W/15blocks/labels/VA193RN-0364.npy\n",
      "Training on /home/finlay/HMT/data/VenetusA/1200Hx900W/15blocks/labels/VA068RN-0069.npy\n",
      "Training on /home/finlay/HMT/data/VenetusA/1200Hx900W/15blocks/labels/VA095RN-0096.npy\n",
      "Training on /home/finlay/HMT/data/VenetusA/1200Hx900W/15blocks/labels/VA093RN-0094.npy\n",
      "Training on /home/finlay/HMT/data/VenetusA/1200Hx900W/15blocks/labels/VA082RN-0254.npy\n",
      "Training on /home/finlay/HMT/data/VenetusA/1200Hx900W/15blocks/labels/VA289RN-0459.npy\n",
      "Training on /home/finlay/HMT/data/VenetusA/1200Hx900W/15blocks/labels/VA116RN-0288.npy\n",
      "Training on /home/finlay/HMT/data/VenetusA/1200Hx900W/15blocks/labels/VA102RN-0103.npy\n",
      "Training on /home/finlay/HMT/data/VenetusA/1200Hx900W/15blocks/labels/VA052RN-0053.npy\n",
      "Training on /home/finlay/HMT/data/VenetusA/1200Hx900W/15blocks/labels/VA019RN-0020.npy\n",
      "(20, 80, 60, 4)\n",
      "2016-06-08 12:25:55.882849\n",
      "Testing D\n",
      "Saving D\n",
      "2016-06-08 12:37:18.963822\n",
      "2016-06-08 12:37:19.119335\n",
      "Training LDA E\n",
      "Training E\n",
      "Training on /home/finlay/HMT/data/VenetusA/1200Hx900W/15blocks/labels/VA089RN-0090.npy\n",
      "Training on /home/finlay/HMT/data/VenetusA/1200Hx900W/15blocks/labels/VA018RN-0019.npy\n",
      "Training on /home/finlay/HMT/data/VenetusA/1200Hx900W/15blocks/labels/VA252RN-0253.npy\n",
      "Training on /home/finlay/HMT/data/VenetusA/1200Hx900W/15blocks/labels/VA268RN-0438.npy\n",
      "Training on /home/finlay/HMT/data/VenetusA/1200Hx900W/15blocks/labels/VA117RN-0118.npy\n",
      "Training on /home/finlay/HMT/data/VenetusA/1200Hx900W/15blocks/labels/VA237RN-0238.npy\n",
      "Training on /home/finlay/HMT/data/VenetusA/1200Hx900W/15blocks/labels/VA316RN-0486.npy\n",
      "Training on /home/finlay/HMT/data/VenetusA/1200Hx900W/15blocks/labels/VA101RN-0102.npy\n",
      "Training on /home/finlay/HMT/data/VenetusA/1200Hx900W/15blocks/labels/VA122RN-0123.npy\n",
      "Training on /home/finlay/HMT/data/VenetusA/1200Hx900W/15blocks/labels/VA143RN-0315.npy\n",
      "Training on /home/finlay/HMT/data/VenetusA/1200Hx900W/15blocks/labels/VA022RN-0023.npy\n",
      "Training on /home/finlay/HMT/data/VenetusA/1200Hx900W/15blocks/labels/VA110RN-0282.npy\n",
      "Training on /home/finlay/HMT/data/VenetusA/1200Hx900W/15blocks/labels/VA270RN-0440.npy\n",
      "Training on /home/finlay/HMT/data/VenetusA/1200Hx900W/15blocks/labels/VA019RN-0020.npy\n",
      "Training on /home/finlay/HMT/data/VenetusA/1200Hx900W/15blocks/labels/VA286RN-0456.npy\n",
      "Training on /home/finlay/HMT/data/VenetusA/1200Hx900W/15blocks/labels/VA313RN-0483.npy\n",
      "Training on /home/finlay/HMT/data/VenetusA/1200Hx900W/15blocks/labels/VA318RN-0488.npy\n",
      "Training on /home/finlay/HMT/data/VenetusA/1200Hx900W/15blocks/labels/VA238RN-0239.npy\n",
      "Training on /home/finlay/HMT/data/VenetusA/1200Hx900W/15blocks/labels/VA147RN-0148.npy\n",
      "Training on /home/finlay/HMT/data/VenetusA/1200Hx900W/15blocks/labels/VA193RN-0364.npy\n",
      "(20, 80, 60, 4)\n",
      "2016-06-08 15:17:02.782208\n",
      "Testing E\n",
      "Saving E\n",
      "2016-06-08 15:20:56.356082\n",
      "2016-06-08 15:20:56.463406\n",
      "Training LDA F\n",
      "Training F\n",
      "Training on /home/finlay/HMT/data/VenetusA/1200Hx900W/15blocks/labels/VA110RN-0282.npy\n",
      "Training on /home/finlay/HMT/data/VenetusA/1200Hx900W/15blocks/labels/VA193RN-0364.npy\n",
      "Training on /home/finlay/HMT/data/VenetusA/1200Hx900W/15blocks/labels/VA023RN-0024.npy\n",
      "Training on /home/finlay/HMT/data/VenetusA/1200Hx900W/15blocks/labels/VA235RN-0406.npy\n",
      "Training on /home/finlay/HMT/data/VenetusA/1200Hx900W/15blocks/labels/VA286RN-0456.npy\n",
      "Training on /home/finlay/HMT/data/VenetusA/1200Hx900W/15blocks/labels/VA098RN-0099.npy\n",
      "Training on /home/finlay/HMT/data/VenetusA/1200Hx900W/15blocks/labels/VA113RN-0285.npy\n",
      "Training on /home/finlay/HMT/data/VenetusA/1200Hx900W/15blocks/labels/VA056RN-0057.npy\n",
      "Training on /home/finlay/HMT/data/VenetusA/1200Hx900W/15blocks/labels/VA289RN-0459.npy\n",
      "Training on /home/finlay/HMT/data/VenetusA/1200Hx900W/15blocks/labels/VA121RN-0122.npy\n",
      "Training on /home/finlay/HMT/data/VenetusA/1200Hx900W/15blocks/labels/VA239RN-0410.npy\n",
      "Training on /home/finlay/HMT/data/VenetusA/1200Hx900W/15blocks/labels/VA252RN-0253.npy\n",
      "Training on /home/finlay/HMT/data/VenetusA/1200Hx900W/15blocks/labels/VA270RN-0440.npy\n",
      "Training on /home/finlay/HMT/data/VenetusA/1200Hx900W/15blocks/labels/VA155RN-0156.npy\n",
      "Training on /home/finlay/HMT/data/VenetusA/1200Hx900W/15blocks/labels/VA119RN-0120.npy\n",
      "Training on /home/finlay/HMT/data/VenetusA/1200Hx900W/15blocks/labels/VA267RN-0437.npy\n",
      "Training on /home/finlay/HMT/data/VenetusA/1200Hx900W/15blocks/labels/VA083RN-0084.npy\n",
      "Training on /home/finlay/HMT/data/VenetusA/1200Hx900W/15blocks/labels/VA232RN-0233.npy\n",
      "Training on /home/finlay/HMT/data/VenetusA/1200Hx900W/15blocks/labels/VA185RN-0356.npy\n",
      "Training on /home/finlay/HMT/data/VenetusA/1200Hx900W/15blocks/labels/VA214RN-0215.npy\n",
      "(20, 80, 60, 4)\n",
      "2016-06-08 17:50:11.942873\n",
      "Testing F\n",
      "Saving F\n",
      "2016-06-08 18:01:48.588498\n"
     ]
    }
   ],
   "source": [
    "for letter in test_runs:\n",
    "    split_at = 20\n",
    "    random.shuffle(path_pairs)\n",
    "    train = path_pairs[:split_at]\n",
    "    test = path_pairs[split_at:]\n",
    "    \n",
    "    oot_path = os.path.join(\"/home/finlay/HMT/data/VenetusA/1200Hx900W/15blocks/LDA_Grid_CRF\", letter)\n",
    "    mkdir(oot_path)\n",
    " \n",
    "    crf = GridCRF(neighborhood=4)\n",
    "    clf = ssvm.OneSlackSSVM(model=crf,n_jobs=-1, C=100, inference_cache=100, tol=.1,\n",
    "                           logger=SaveLogger(oot_path+'.pickle', save_every=100))\n",
    "    \n",
    "    lda = LinearDiscriminantAnalysis()\n",
    "    print(datetime.datetime.now())\n",
    "    print(\"Training LDA %s\" %letter)\n",
    "    lda.fit(lda_X, lda_y)\n",
    "    for l, d in train:\n",
    "        X = flatten_vector_matrix(np.load(d))\n",
    "        y = np.squeeze(flatten_vector_matrix(np.load(l)))\n",
    "        lda.fit(X, y)\n",
    "  \n",
    "\n",
    "    print(\"Training %s\" %letter)\n",
    "    train_X = []\n",
    "    train_y = []\n",
    "    for l, d in train:\n",
    "        print(\"Training on %s\" %l)\n",
    "        pre_X = lda.transform(flatten_vector_matrix(np.load(d)))\n",
    "        train_X.append(pre_X.reshape(80,60,4))\n",
    "        train_y.append(np.squeeze(np.load(l)).astype('int'))\n",
    "    print(np.array(train_X).shape)\n",
    "    clf.fit(train_X, train_y)\n",
    "    print(datetime.datetime.now())\n",
    "\n",
    "    pickle.dump(clf, open(os.path.join(oot_path + \"_clf.pkl\"), \"wb\" ) )\n",
    "    print(\"Testing %s\" %letter)\n",
    "    test_results = []\n",
    "    for l, d in test:\n",
    "        pre_X = lda.transform(flatten_vector_matrix(np.load(d)))\n",
    "        X = pre_X.reshape((80,60, pre_X.shape[1]))\n",
    "        y = np.squeeze(flatten_vector_matrix(np.load(l)))\n",
    "        pred = np.asarray(clf.predict([X]))\n",
    "        test_results.append({\n",
    "            'name': only_basename(l),\n",
    "            'pred': pred.reshape(80,60),\n",
    "            })\n",
    "\n",
    "    print(\"Saving %s\" %letter)\n",
    "    for result in test_results:\n",
    "        path = format_path(oot_path, 'npy', result['name'])\n",
    "        np.save(path, scale_matrix(result['pred'], 15))\n",
    "    print(datetime.datetime.now())"
   ]
  },
  {
   "cell_type": "code",
   "execution_count": 1,
   "metadata": {
    "collapsed": false
   },
   "outputs": [
    {
     "ename": "NameError",
     "evalue": "name 'clf' is not defined",
     "output_type": "error",
     "traceback": [
      "\u001b[1;31m---------------------------------------------------------------------------\u001b[0m",
      "\u001b[1;31mNameError\u001b[0m                                 Traceback (most recent call last)",
      "\u001b[1;32m<ipython-input-1-2b2b39fcc617>\u001b[0m in \u001b[0;36m<module>\u001b[1;34m()\u001b[0m\n\u001b[1;32m----> 1\u001b[1;33m \u001b[0mclf\u001b[0m\u001b[1;33m\u001b[0m\u001b[0m\n\u001b[0m",
      "\u001b[1;31mNameError\u001b[0m: name 'clf' is not defined"
     ]
    }
   ],
   "source": [
    "clf"
   ]
  },
  {
   "cell_type": "code",
   "execution_count": 11,
   "metadata": {
    "collapsed": false
   },
   "outputs": [
    {
     "data": {
      "text/plain": [
       "array([ 0.,  1.,  2.,  3.,  4.])"
      ]
     },
     "execution_count": 11,
     "metadata": {},
     "output_type": "execute_result"
    }
   ],
   "source": [
    "lda.classes_"
   ]
  },
  {
   "cell_type": "code",
   "execution_count": 15,
   "metadata": {
    "collapsed": false
   },
   "outputs": [
    {
     "ename": "AttributeError",
     "evalue": "'numpy.ndarray' object has no attribute 'unique'",
     "output_type": "error",
     "traceback": [
      "\u001b[1;31m---------------------------------------------------------------------------\u001b[0m",
      "\u001b[1;31mAttributeError\u001b[0m                            Traceback (most recent call last)",
      "\u001b[1;32m<ipython-input-15-032f7126cafb>\u001b[0m in \u001b[0;36m<module>\u001b[1;34m()\u001b[0m\n\u001b[1;32m----> 1\u001b[1;33m \u001b[0my\u001b[0m\u001b[1;33m.\u001b[0m\u001b[0mreshape\u001b[0m\u001b[1;33m(\u001b[0m\u001b[1;36m60\u001b[0m\u001b[1;33m,\u001b[0m\u001b[1;36m45\u001b[0m\u001b[1;33m)\u001b[0m\u001b[1;33m.\u001b[0m\u001b[0munique\u001b[0m\u001b[1;33m\u001b[0m\u001b[0m\n\u001b[0m",
      "\u001b[1;31mAttributeError\u001b[0m: 'numpy.ndarray' object has no attribute 'unique'"
     ]
    }
   ],
   "source": [
    "y.reshape(60,45).unique\n"
   ]
  },
  {
   "cell_type": "code",
   "execution_count": 11,
   "metadata": {
    "collapsed": false
   },
   "outputs": [
    {
     "data": {
      "text/plain": [
       "60.0"
      ]
     },
     "execution_count": 11,
     "metadata": {},
     "output_type": "execute_result"
    }
   ],
   "source": [
    "900/15"
   ]
  },
  {
   "cell_type": "code",
   "execution_count": null,
   "metadata": {
    "collapsed": true
   },
   "outputs": [],
   "source": []
  }
 ],
 "metadata": {
  "kernelspec": {
   "display_name": "Python 3",
   "language": "python",
   "name": "python3"
  },
  "language_info": {
   "codemirror_mode": {
    "name": "ipython",
    "version": 3
   },
   "file_extension": ".py",
   "mimetype": "text/x-python",
   "name": "python",
   "nbconvert_exporter": "python",
   "pygments_lexer": "ipython3",
   "version": "3.5.1"
  }
 },
 "nbformat": 4,
 "nbformat_minor": 0
}
