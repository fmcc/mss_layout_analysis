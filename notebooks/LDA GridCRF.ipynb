{
 "cells": [
  {
   "cell_type": "code",
   "execution_count": 1,
   "metadata": {
    "collapsed": true
   },
   "outputs": [],
   "source": [
    "%matplotlib inline"
   ]
  },
  {
   "cell_type": "code",
   "execution_count": 2,
   "metadata": {
    "collapsed": true
   },
   "outputs": [],
   "source": [
    "import numpy as np\n",
    "import matplotlib.pyplot as plt\n",
    "from msslib.utils import *\n",
    "\n",
    "import random\n",
    "\n",
    "from pystruct.models import GridCRF\n",
    "import pystruct.learners as ssvm\n",
    "from pystruct.utils import SaveLogger\n",
    "\n",
    "from sklearn.discriminant_analysis import LinearDiscriminantAnalysis\n",
    "\n",
    "import datetime\n",
    "import random\n",
    "import pickle"
   ]
  },
  {
   "cell_type": "code",
   "execution_count": 3,
   "metadata": {
    "collapsed": true
   },
   "outputs": [],
   "source": [
    "test_runs = [\"A\",\"B\",\"C\",\"D\",\"E\",\"F\"]"
   ]
  },
  {
   "cell_type": "code",
   "execution_count": 4,
   "metadata": {
    "collapsed": true
   },
   "outputs": [],
   "source": [
    "unwanted_recto = [\"VA223RN\",\"VA327RN\",\"VA001RN\",\"VA002RN\",\"VA006RN\",\"VA007RN\",\"VA008RN\",\"VA009RN\"]\n",
    "\n",
    "def get_set_paths(directory):\n",
    "    return sorted(list(filter(lambda x: \"RN\" in x and not any(s in x for s in unwanted_recto) , listpaths(directory))))"
   ]
  },
  {
   "cell_type": "code",
   "execution_count": 5,
   "metadata": {
    "collapsed": false
   },
   "outputs": [
    {
     "name": "stdout",
     "output_type": "stream",
     "text": [
      "150\n"
     ]
    }
   ],
   "source": [
    "label_dir = \"/home/finlay/HMT/data/VenetusA/1200Hx900W/20blocks/labels/\"\n",
    "data_dir = \"/home/finlay/HMT/data/VenetusA/1200Hx900W/20blocks/data/\"\n",
    "\n",
    "label_paths = get_set_paths(label_dir)\n",
    "data_paths = get_set_paths(data_dir)\n",
    "\n",
    "path_pairs = list(zip(label_paths, data_paths))\n",
    "print(len(path_pairs))"
   ]
  },
  {
   "cell_type": "code",
   "execution_count": 6,
   "metadata": {
    "collapsed": false
   },
   "outputs": [],
   "source": [
    "# I'm training LDA on this as well as the random test set to ensure I always get the same number of classes\n",
    "lda_data_path = \"/home/finlay/HMT/data/VenetusA/1200Hx900W/20blocks/data/VA013RN-0014.npy\"\n",
    "lda_label_path = \"/home/finlay/HMT/data/VenetusA/1200Hx900W/20blocks/labels/VA013RN-0014.npy\"\n",
    "lda_X = flatten_vector_matrix(np.load(lda_data_path))\n",
    "lda_y = np.squeeze(flatten_vector_matrix(np.load(lda_label_path)))"
   ]
  },
  {
   "cell_type": "code",
   "execution_count": null,
   "metadata": {
    "collapsed": false
   },
   "outputs": [],
   "source": []
  },
  {
   "cell_type": "code",
   "execution_count": 16,
   "metadata": {
    "collapsed": false
   },
   "outputs": [
    {
     "name": "stdout",
     "output_type": "stream",
     "text": [
      "2016-06-05 22:57:53.944735\n",
      "Training LDA A\n"
     ]
    },
    {
     "name": "stderr",
     "output_type": "stream",
     "text": [
      "/usr/lib/python3.5/site-packages/sklearn/discriminant_analysis.py:387: UserWarning: Variables are collinear.\n",
      "  warnings.warn(\"Variables are collinear.\")\n"
     ]
    },
    {
     "name": "stdout",
     "output_type": "stream",
     "text": [
      "Training A\n",
      "Training on /home/finlay/HMT/data/VenetusA/1200Hx900W/20blocks/labels/VA288RN-0458.npy\n",
      "Training on /home/finlay/HMT/data/VenetusA/1200Hx900W/20blocks/labels/VA305RN-0475.npy\n",
      "Training on /home/finlay/HMT/data/VenetusA/1200Hx900W/20blocks/labels/VA215RN-0216.npy\n",
      "Training on /home/finlay/HMT/data/VenetusA/1200Hx900W/20blocks/labels/VA019RN-0020.npy\n",
      "Training on /home/finlay/HMT/data/VenetusA/1200Hx900W/20blocks/labels/VA275RN-0445.npy\n",
      "Training on /home/finlay/HMT/data/VenetusA/1200Hx900W/20blocks/labels/VA222RN-0223.npy\n",
      "Training on /home/finlay/HMT/data/VenetusA/1200Hx900W/20blocks/labels/VA214RN-0215.npy\n",
      "Training on /home/finlay/HMT/data/VenetusA/1200Hx900W/20blocks/labels/VA252RN-0253.npy\n",
      "Training on /home/finlay/HMT/data/VenetusA/1200Hx900W/20blocks/labels/VA167RN-0168.npy\n",
      "Training on /home/finlay/HMT/data/VenetusA/1200Hx900W/20blocks/labels/VA141RN-0142.npy\n",
      "Training on /home/finlay/HMT/data/VenetusA/1200Hx900W/20blocks/labels/VA220RN-0391.npy\n",
      "Training on /home/finlay/HMT/data/VenetusA/1200Hx900W/20blocks/labels/VA174RN-0345.npy\n",
      "Training on /home/finlay/HMT/data/VenetusA/1200Hx900W/20blocks/labels/VA171RN-0172.npy\n",
      "Training on /home/finlay/HMT/data/VenetusA/1200Hx900W/20blocks/labels/VA235RN-0406.npy\n",
      "Training on /home/finlay/HMT/data/VenetusA/1200Hx900W/20blocks/labels/VA225RN-0396.npy\n",
      "Training on /home/finlay/HMT/data/VenetusA/1200Hx900W/20blocks/labels/VA237RN-0238.npy\n",
      "Training on /home/finlay/HMT/data/VenetusA/1200Hx900W/20blocks/labels/VA013RN-0014.npy\n",
      "Training on /home/finlay/HMT/data/VenetusA/1200Hx900W/20blocks/labels/VA146RN-0147.npy\n",
      "Training on /home/finlay/HMT/data/VenetusA/1200Hx900W/20blocks/labels/VA267RN-0437.npy\n",
      "Training on /home/finlay/HMT/data/VenetusA/1200Hx900W/20blocks/labels/VA212RN-0213.npy\n",
      "(20, 60, 45, 4)\n"
     ]
    },
    {
     "name": "stderr",
     "output_type": "stream",
     "text": [
      "/usr/lib/python3.5/site-packages/pystruct/learners/one_slack_ssvm.py:409: VisibleDeprecationWarning: using a non-integer number instead of an integer will result in an error in the future\n",
      "  self.w = np.zeros(self.model.size_joint_feature)\n",
      "/usr/lib/python3.5/site-packages/pystruct/learners/one_slack_ssvm.py:415: VisibleDeprecationWarning: using a non-integer number instead of an integer will result in an error in the future\n",
      "  constraints.append((np.zeros(self.model.size_joint_feature), 0))\n",
      "/usr/lib/python3.5/site-packages/pystruct/models/base.py:34: VisibleDeprecationWarning: using a non-integer number instead of an integer will result in an error in the future\n",
      "  joint_feature_ = np.zeros(self.size_joint_feature)\n",
      "/usr/lib/python3.5/site-packages/pystruct/learners/one_slack_ssvm.py:323: VisibleDeprecationWarning: using a non-integer number instead of an integer will result in an error in the future\n",
      "  joint_feature_acc = np.zeros(self.model.size_joint_feature)\n"
     ]
    },
    {
     "name": "stdout",
     "output_type": "stream",
     "text": [
      "2016-06-06 01:03:59.994805\n",
      "Testing A\n",
      "Saving A\n",
      "2016-06-06 01:06:15.827618\n",
      "2016-06-06 01:06:15.845432\n",
      "Training LDA B\n"
     ]
    },
    {
     "name": "stderr",
     "output_type": "stream",
     "text": [
      "/usr/lib/python3.5/site-packages/sklearn/discriminant_analysis.py:453: UserWarning: The priors do not sum to 1. Renormalizing\n",
      "  UserWarning)\n"
     ]
    },
    {
     "name": "stdout",
     "output_type": "stream",
     "text": [
      "Training B\n",
      "Training on /home/finlay/HMT/data/VenetusA/1200Hx900W/20blocks/labels/VA160RN-0161.npy\n",
      "Training on /home/finlay/HMT/data/VenetusA/1200Hx900W/20blocks/labels/VA120RN-0121.npy\n",
      "Training on /home/finlay/HMT/data/VenetusA/1200Hx900W/20blocks/labels/VA318RN-0488.npy\n",
      "Training on /home/finlay/HMT/data/VenetusA/1200Hx900W/20blocks/labels/VA304RN-0474.npy\n",
      "Training on /home/finlay/HMT/data/VenetusA/1200Hx900W/20blocks/labels/VA031RN-0032.npy\n",
      "Training on /home/finlay/HMT/data/VenetusA/1200Hx900W/20blocks/labels/VA118RN-0119.npy\n",
      "Training on /home/finlay/HMT/data/VenetusA/1200Hx900W/20blocks/labels/VA063RN-0064.npy\n",
      "Training on /home/finlay/HMT/data/VenetusA/1200Hx900W/20blocks/labels/VA229RN-0400.npy\n",
      "Training on /home/finlay/HMT/data/VenetusA/1200Hx900W/20blocks/labels/VA285RN-0455.npy\n",
      "Training on /home/finlay/HMT/data/VenetusA/1200Hx900W/20blocks/labels/VA091RN-0092.npy\n",
      "Training on /home/finlay/HMT/data/VenetusA/1200Hx900W/20blocks/labels/VA019RN-0020.npy\n",
      "Training on /home/finlay/HMT/data/VenetusA/1200Hx900W/20blocks/labels/VA113RN-0285.npy\n",
      "Training on /home/finlay/HMT/data/VenetusA/1200Hx900W/20blocks/labels/VA207RN-0208.npy\n",
      "Training on /home/finlay/HMT/data/VenetusA/1200Hx900W/20blocks/labels/VA237RN-0238.npy\n",
      "Training on /home/finlay/HMT/data/VenetusA/1200Hx900W/20blocks/labels/VA139RN-0311.npy\n",
      "Training on /home/finlay/HMT/data/VenetusA/1200Hx900W/20blocks/labels/VA027RN-0028.npy\n",
      "Training on /home/finlay/HMT/data/VenetusA/1200Hx900W/20blocks/labels/VA264RN-0434.npy\n",
      "Training on /home/finlay/HMT/data/VenetusA/1200Hx900W/20blocks/labels/VA248RN-0249.npy\n",
      "Training on /home/finlay/HMT/data/VenetusA/1200Hx900W/20blocks/labels/VA320RN-0490.npy\n",
      "Training on /home/finlay/HMT/data/VenetusA/1200Hx900W/20blocks/labels/VA194RN-0195.npy\n",
      "(20, 60, 45, 4)\n",
      "2016-06-06 03:08:01.917318\n",
      "Testing B\n",
      "Saving B\n",
      "2016-06-06 03:09:56.433859\n",
      "2016-06-06 03:09:56.452024\n",
      "Training LDA C\n",
      "Training C\n",
      "Training on /home/finlay/HMT/data/VenetusA/1200Hx900W/20blocks/labels/VA017RN-0018.npy\n",
      "Training on /home/finlay/HMT/data/VenetusA/1200Hx900W/20blocks/labels/VA137RN-0309.npy\n",
      "Training on /home/finlay/HMT/data/VenetusA/1200Hx900W/20blocks/labels/VA180RN-0351.npy\n",
      "Training on /home/finlay/HMT/data/VenetusA/1200Hx900W/20blocks/labels/VA288RN-0458.npy\n",
      "Training on /home/finlay/HMT/data/VenetusA/1200Hx900W/20blocks/labels/VA263RN-0433.npy\n",
      "Training on /home/finlay/HMT/data/VenetusA/1200Hx900W/20blocks/labels/VA089RN-0090.npy\n",
      "Training on /home/finlay/HMT/data/VenetusA/1200Hx900W/20blocks/labels/VA264RN-0434.npy\n",
      "Training on /home/finlay/HMT/data/VenetusA/1200Hx900W/20blocks/labels/VA229RN-0400.npy\n",
      "Training on /home/finlay/HMT/data/VenetusA/1200Hx900W/20blocks/labels/VA027RN-0028.npy\n",
      "Training on /home/finlay/HMT/data/VenetusA/1200Hx900W/20blocks/labels/VA082RN-0254.npy\n",
      "Training on /home/finlay/HMT/data/VenetusA/1200Hx900W/20blocks/labels/VA124RN-0296.npy\n",
      "Training on /home/finlay/HMT/data/VenetusA/1200Hx900W/20blocks/labels/VA324RN-0494.npy\n",
      "Training on /home/finlay/HMT/data/VenetusA/1200Hx900W/20blocks/labels/VA147RN-0148.npy\n",
      "Training on /home/finlay/HMT/data/VenetusA/1200Hx900W/20blocks/labels/VA193RN-0364.npy\n",
      "Training on /home/finlay/HMT/data/VenetusA/1200Hx900W/20blocks/labels/VA237RN-0238.npy\n",
      "Training on /home/finlay/HMT/data/VenetusA/1200Hx900W/20blocks/labels/VA286RN-0456.npy\n",
      "Training on /home/finlay/HMT/data/VenetusA/1200Hx900W/20blocks/labels/VA087RN-0259.npy\n",
      "Training on /home/finlay/HMT/data/VenetusA/1200Hx900W/20blocks/labels/VA039RN-0040.npy\n",
      "Training on /home/finlay/HMT/data/VenetusA/1200Hx900W/20blocks/labels/VA022RN-0023.npy\n",
      "Training on /home/finlay/HMT/data/VenetusA/1200Hx900W/20blocks/labels/VA052RN-0053.npy\n",
      "(20, 60, 45, 4)\n",
      "2016-06-06 04:53:19.374522\n",
      "Testing C\n",
      "Saving C\n",
      "2016-06-06 04:55:10.938342\n",
      "2016-06-06 04:55:10.955682\n",
      "Training LDA D\n",
      "Training D\n",
      "Training on /home/finlay/HMT/data/VenetusA/1200Hx900W/20blocks/labels/VA133RN-0134.npy\n",
      "Training on /home/finlay/HMT/data/VenetusA/1200Hx900W/20blocks/labels/VA324RN-0494.npy\n",
      "Training on /home/finlay/HMT/data/VenetusA/1200Hx900W/20blocks/labels/VA012RN-0013.npy\n",
      "Training on /home/finlay/HMT/data/VenetusA/1200Hx900W/20blocks/labels/VA293RN-0463.npy\n",
      "Training on /home/finlay/HMT/data/VenetusA/1200Hx900W/20blocks/labels/VA052RN-0053.npy\n",
      "Training on /home/finlay/HMT/data/VenetusA/1200Hx900W/20blocks/labels/VA017RN-0018.npy\n",
      "Training on /home/finlay/HMT/data/VenetusA/1200Hx900W/20blocks/labels/VA141RN-0142.npy\n",
      "Training on /home/finlay/HMT/data/VenetusA/1200Hx900W/20blocks/labels/VA216RN-0217.npy\n",
      "Training on /home/finlay/HMT/data/VenetusA/1200Hx900W/20blocks/labels/VA265RN-0435.npy\n",
      "Training on /home/finlay/HMT/data/VenetusA/1200Hx900W/20blocks/labels/VA247RN-0418.npy\n",
      "Training on /home/finlay/HMT/data/VenetusA/1200Hx900W/20blocks/labels/VA101RN-0102.npy\n",
      "Training on /home/finlay/HMT/data/VenetusA/1200Hx900W/20blocks/labels/VA115RN-0116.npy\n",
      "Training on /home/finlay/HMT/data/VenetusA/1200Hx900W/20blocks/labels/VA091RN-0092.npy\n",
      "Training on /home/finlay/HMT/data/VenetusA/1200Hx900W/20blocks/labels/VA289RN-0459.npy\n",
      "Training on /home/finlay/HMT/data/VenetusA/1200Hx900W/20blocks/labels/VA132RN-0304.npy\n",
      "Training on /home/finlay/HMT/data/VenetusA/1200Hx900W/20blocks/labels/VA056RN-0057.npy\n",
      "Training on /home/finlay/HMT/data/VenetusA/1200Hx900W/20blocks/labels/VA119RN-0120.npy\n",
      "Training on /home/finlay/HMT/data/VenetusA/1200Hx900W/20blocks/labels/VA095RN-0096.npy\n",
      "Training on /home/finlay/HMT/data/VenetusA/1200Hx900W/20blocks/labels/VA067RN-0068.npy\n",
      "Training on /home/finlay/HMT/data/VenetusA/1200Hx900W/20blocks/labels/VA126RN-0298.npy\n",
      "(20, 60, 45, 4)\n",
      "2016-06-06 07:27:13.389304\n",
      "Testing D\n",
      "Saving D\n",
      "2016-06-06 07:29:00.290712\n",
      "2016-06-06 07:29:00.314366\n",
      "Training LDA E\n",
      "Training E\n",
      "Training on /home/finlay/HMT/data/VenetusA/1200Hx900W/20blocks/labels/VA200RN-0201.npy\n",
      "Training on /home/finlay/HMT/data/VenetusA/1200Hx900W/20blocks/labels/VA181RN-0182.npy\n",
      "Training on /home/finlay/HMT/data/VenetusA/1200Hx900W/20blocks/labels/VA031RN-0032.npy\n",
      "Training on /home/finlay/HMT/data/VenetusA/1200Hx900W/20blocks/labels/VA313RN-0483.npy\n",
      "Training on /home/finlay/HMT/data/VenetusA/1200Hx900W/20blocks/labels/VA218RN-0389.npy\n",
      "Training on /home/finlay/HMT/data/VenetusA/1200Hx900W/20blocks/labels/VA249RN-0250.npy\n",
      "Training on /home/finlay/HMT/data/VenetusA/1200Hx900W/20blocks/labels/VA240RN-0241.npy\n",
      "Training on /home/finlay/HMT/data/VenetusA/1200Hx900W/20blocks/labels/VA288RN-0458.npy\n",
      "Training on /home/finlay/HMT/data/VenetusA/1200Hx900W/20blocks/labels/VA119RN-0120.npy\n",
      "Training on /home/finlay/HMT/data/VenetusA/1200Hx900W/20blocks/labels/VA175RN-0176.npy\n",
      "Training on /home/finlay/HMT/data/VenetusA/1200Hx900W/20blocks/labels/VA149RN-0150.npy\n",
      "Training on /home/finlay/HMT/data/VenetusA/1200Hx900W/20blocks/labels/VA131RN-0132.npy\n",
      "Training on /home/finlay/HMT/data/VenetusA/1200Hx900W/20blocks/labels/VA152RN-0324.npy\n",
      "Training on /home/finlay/HMT/data/VenetusA/1200Hx900W/20blocks/labels/VA228RN-0399.npy\n",
      "Training on /home/finlay/HMT/data/VenetusA/1200Hx900W/20blocks/labels/VA122RN-0123.npy\n",
      "Training on /home/finlay/HMT/data/VenetusA/1200Hx900W/20blocks/labels/VA225RN-0396.npy\n",
      "Training on /home/finlay/HMT/data/VenetusA/1200Hx900W/20blocks/labels/VA286RN-0456.npy\n",
      "Training on /home/finlay/HMT/data/VenetusA/1200Hx900W/20blocks/labels/VA107RN-0108.npy\n",
      "Training on /home/finlay/HMT/data/VenetusA/1200Hx900W/20blocks/labels/VA073RN-0074.npy\n",
      "Training on /home/finlay/HMT/data/VenetusA/1200Hx900W/20blocks/labels/VA067RN-0068.npy\n",
      "(20, 60, 45, 4)\n",
      "2016-06-06 09:48:44.267026\n",
      "Testing E\n",
      "Saving E\n",
      "2016-06-06 09:50:03.004662\n",
      "2016-06-06 09:50:03.033862\n",
      "Training LDA F\n",
      "Training F\n",
      "Training on /home/finlay/HMT/data/VenetusA/1200Hx900W/20blocks/labels/VA056RN-0057.npy\n",
      "Training on /home/finlay/HMT/data/VenetusA/1200Hx900W/20blocks/labels/VA120RN-0121.npy\n",
      "Training on /home/finlay/HMT/data/VenetusA/1200Hx900W/20blocks/labels/VA115RN-0116.npy\n",
      "Training on /home/finlay/HMT/data/VenetusA/1200Hx900W/20blocks/labels/VA015RN-0016.npy\n",
      "Training on /home/finlay/HMT/data/VenetusA/1200Hx900W/20blocks/labels/VA197RN-0198.npy\n",
      "Training on /home/finlay/HMT/data/VenetusA/1200Hx900W/20blocks/labels/VA038RN-0039.npy\n",
      "Training on /home/finlay/HMT/data/VenetusA/1200Hx900W/20blocks/labels/VA152RN-0324.npy\n",
      "Training on /home/finlay/HMT/data/VenetusA/1200Hx900W/20blocks/labels/VA052RN-0053.npy\n",
      "Training on /home/finlay/HMT/data/VenetusA/1200Hx900W/20blocks/labels/VA214RN-0215.npy\n",
      "Training on /home/finlay/HMT/data/VenetusA/1200Hx900W/20blocks/labels/VA169RN-0340.npy\n",
      "Training on /home/finlay/HMT/data/VenetusA/1200Hx900W/20blocks/labels/VA263RN-0433.npy\n",
      "Training on /home/finlay/HMT/data/VenetusA/1200Hx900W/20blocks/labels/VA237RN-0238.npy\n",
      "Training on /home/finlay/HMT/data/VenetusA/1200Hx900W/20blocks/labels/VA054RN-0055.npy\n",
      "Training on /home/finlay/HMT/data/VenetusA/1200Hx900W/20blocks/labels/VA209RN-0210.npy\n",
      "Training on /home/finlay/HMT/data/VenetusA/1200Hx900W/20blocks/labels/VA067RN-0068.npy\n",
      "Training on /home/finlay/HMT/data/VenetusA/1200Hx900W/20blocks/labels/VA063RN-0064.npy\n",
      "Training on /home/finlay/HMT/data/VenetusA/1200Hx900W/20blocks/labels/VA193RN-0364.npy\n",
      "Training on /home/finlay/HMT/data/VenetusA/1200Hx900W/20blocks/labels/VA261RN-0431.npy\n",
      "Training on /home/finlay/HMT/data/VenetusA/1200Hx900W/20blocks/labels/VA318RN-0488.npy\n",
      "Training on /home/finlay/HMT/data/VenetusA/1200Hx900W/20blocks/labels/VA113RN-0285.npy\n",
      "(20, 60, 45, 4)\n",
      "2016-06-06 11:09:42.986434\n",
      "Testing F\n",
      "Saving F\n",
      "2016-06-06 11:11:43.045117\n"
     ]
    }
   ],
   "source": [
    "for letter in test_runs:\n",
    "    split_at = 20\n",
    "    random.shuffle(path_pairs)\n",
    "    train = path_pairs[:split_at]\n",
    "    test = path_pairs[split_at:]\n",
    "    \n",
    "    oot_path = os.path.join(\"/home/finlay/HMT/data/VenetusA/1200Hx900W/20blocks/LDA_20_Grid_CRF\", letter)\n",
    "    mkdir(oot_path)\n",
    " \n",
    "    crf = GridCRF(neighborhood=4)\n",
    "    clf = ssvm.OneSlackSSVM(model=crf,n_jobs=-1, C=100, inference_cache=100, tol=.1,\n",
    "                           logger=SaveLogger(oot_path+'.pickle', save_every=100))\n",
    "    \n",
    "    lda = LinearDiscriminantAnalysis()\n",
    "    print(datetime.datetime.now())\n",
    "    print(\"Training LDA %s\" %letter)\n",
    "    lda.fit(lda_X, lda_y)\n",
    "    for l, d in train:\n",
    "        X = flatten_vector_matrix(np.load(d))\n",
    "        y = np.squeeze(flatten_vector_matrix(np.load(l)))\n",
    "        lda.fit(X, y)\n",
    "  \n",
    "\n",
    "    print(\"Training %s\" %letter)\n",
    "    train_X = []\n",
    "    train_y = []\n",
    "    for l, d in train:\n",
    "        print(\"Training on %s\" %l)\n",
    "        pre_X = lda.transform(flatten_vector_matrix(np.load(d)))\n",
    "        train_X.append(pre_X.reshape(60,45,4))\n",
    "        train_y.append(np.squeeze(np.load(l)).astype('int'))\n",
    "    print(np.array(train_X).shape)\n",
    "    clf.fit(train_X, train_y)\n",
    "    print(datetime.datetime.now())\n",
    "\n",
    "    pickle.dump(clf, open(os.path.join(oot_path + \"_clf.pkl\"), \"wb\" ) )\n",
    "    print(\"Testing %s\" %letter)\n",
    "    test_results = []\n",
    "    for l, d in test:\n",
    "        pre_X = lda.transform(flatten_vector_matrix(np.load(d)))\n",
    "        X = pre_X.reshape((60,45, pre_X.shape[1]))\n",
    "        y = np.squeeze(flatten_vector_matrix(np.load(l)))\n",
    "        pred = np.asarray(clf.predict([X]))\n",
    "        test_results.append({\n",
    "            'name': only_basename(l),\n",
    "            'pred': pred.reshape(60,45),\n",
    "            })\n",
    "\n",
    "    print(\"Saving %s\" %letter)\n",
    "    for result in test_results:\n",
    "        path = format_path(oot_path, 'npy', result['name'])\n",
    "        np.save(path, scale_matrix(result['pred'], 20))\n",
    "    print(datetime.datetime.now())"
   ]
  },
  {
   "cell_type": "code",
   "execution_count": 10,
   "metadata": {
    "collapsed": false
   },
   "outputs": [
    {
     "data": {
      "text/plain": [
       "(2700, 4)"
      ]
     },
     "execution_count": 10,
     "metadata": {},
     "output_type": "execute_result"
    }
   ],
   "source": [
    "pre_X.shape"
   ]
  },
  {
   "cell_type": "code",
   "execution_count": 11,
   "metadata": {
    "collapsed": false
   },
   "outputs": [
    {
     "data": {
      "text/plain": [
       "array([ 0.,  1.,  2.,  3.,  4.])"
      ]
     },
     "execution_count": 11,
     "metadata": {},
     "output_type": "execute_result"
    }
   ],
   "source": [
    "lda.classes_"
   ]
  },
  {
   "cell_type": "code",
   "execution_count": 15,
   "metadata": {
    "collapsed": false
   },
   "outputs": [
    {
     "ename": "AttributeError",
     "evalue": "'numpy.ndarray' object has no attribute 'unique'",
     "output_type": "error",
     "traceback": [
      "\u001b[1;31m---------------------------------------------------------------------------\u001b[0m",
      "\u001b[1;31mAttributeError\u001b[0m                            Traceback (most recent call last)",
      "\u001b[1;32m<ipython-input-15-032f7126cafb>\u001b[0m in \u001b[0;36m<module>\u001b[1;34m()\u001b[0m\n\u001b[1;32m----> 1\u001b[1;33m \u001b[0my\u001b[0m\u001b[1;33m.\u001b[0m\u001b[0mreshape\u001b[0m\u001b[1;33m(\u001b[0m\u001b[1;36m60\u001b[0m\u001b[1;33m,\u001b[0m\u001b[1;36m45\u001b[0m\u001b[1;33m)\u001b[0m\u001b[1;33m.\u001b[0m\u001b[0munique\u001b[0m\u001b[1;33m\u001b[0m\u001b[0m\n\u001b[0m",
      "\u001b[1;31mAttributeError\u001b[0m: 'numpy.ndarray' object has no attribute 'unique'"
     ]
    }
   ],
   "source": [
    "y.reshape(60,45).unique\n"
   ]
  },
  {
   "cell_type": "code",
   "execution_count": null,
   "metadata": {
    "collapsed": true
   },
   "outputs": [],
   "source": []
  }
 ],
 "metadata": {
  "kernelspec": {
   "display_name": "Python 3",
   "language": "python",
   "name": "python3"
  },
  "language_info": {
   "codemirror_mode": {
    "name": "ipython",
    "version": 3
   },
   "file_extension": ".py",
   "mimetype": "text/x-python",
   "name": "python",
   "nbconvert_exporter": "python",
   "pygments_lexer": "ipython3",
   "version": "3.5.1"
  }
 },
 "nbformat": 4,
 "nbformat_minor": 0
}
