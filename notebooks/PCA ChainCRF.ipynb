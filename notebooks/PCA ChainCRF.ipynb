{
 "cells": [
  {
   "cell_type": "code",
   "execution_count": 1,
   "metadata": {
    "collapsed": true
   },
   "outputs": [],
   "source": [
    "%matplotlib inline"
   ]
  },
  {
   "cell_type": "code",
   "execution_count": 2,
   "metadata": {
    "collapsed": true
   },
   "outputs": [],
   "source": [
    "import numpy as np\n",
    "import matplotlib.pyplot as plt\n",
    "from msslib.utils import *\n",
    "\n",
    "import random\n",
    "\n",
    "from pystruct.models import ChainCRF\n",
    "import pystruct.learners as ssvm\n",
    "from pystruct.utils import SaveLogger\n",
    "\n",
    "from sklearn.decomposition import PCA\n",
    "\n",
    "import datetime\n",
    "import random"
   ]
  },
  {
   "cell_type": "code",
   "execution_count": 3,
   "metadata": {
    "collapsed": true
   },
   "outputs": [],
   "source": [
    "test_runs = [\"A\",\"B\",\"C\",\"D\",\"E\",\"F\"]"
   ]
  },
  {
   "cell_type": "code",
   "execution_count": 4,
   "metadata": {
    "collapsed": true
   },
   "outputs": [],
   "source": [
    "unwanted_recto = [\"VA223RN\",\"VA327RN\",\"VA001RN\",\"VA002RN\",\"VA006RN\",\"VA007RN\",\"VA008RN\",\"VA009RN\"]\n",
    "\n",
    "def get_set_paths(directory):\n",
    "    return sorted(list(filter(lambda x: \"RN\" in x and not any(s in x for s in unwanted_recto) , listpaths(directory))))"
   ]
  },
  {
   "cell_type": "code",
   "execution_count": 5,
   "metadata": {
    "collapsed": false
   },
   "outputs": [
    {
     "name": "stdout",
     "output_type": "stream",
     "text": [
      "150\n"
     ]
    }
   ],
   "source": [
    "label_dir = \"/home/finlay/HMT/data/VenetusA/1200Hx900W/10blocks/labels/\"\n",
    "data_dir = \"/home/finlay/HMT/data/VenetusA/1200Hx900W/10blocks/data/\"    \n",
    "\n",
    "label_paths = get_set_paths(label_dir)\n",
    "data_paths = get_set_paths(data_dir)\n",
    "\n",
    "path_pairs = list(zip(label_paths, data_paths))\n",
    "print(len(path_pairs))"
   ]
  },
  {
   "cell_type": "code",
   "execution_count": null,
   "metadata": {
    "collapsed": true
   },
   "outputs": [],
   "source": []
  },
  {
   "cell_type": "code",
   "execution_count": 6,
   "metadata": {
    "collapsed": false
   },
   "outputs": [
    {
     "name": "stdout",
     "output_type": "stream",
     "text": [
      "2016-06-03 14:43:03.595550\n",
      "Training PCA A\n",
      "Training A\n",
      "Training on /home/finlay/HMT/data/VenetusA/1200Hx900W/10blocks/labels/VA116RN-0288.npy\n",
      "Training on /home/finlay/HMT/data/VenetusA/1200Hx900W/10blocks/labels/VA169RN-0340.npy\n",
      "Training on /home/finlay/HMT/data/VenetusA/1200Hx900W/10blocks/labels/VA237RN-0238.npy\n",
      "Training on /home/finlay/HMT/data/VenetusA/1200Hx900W/10blocks/labels/VA247RN-0418.npy\n",
      "Training on /home/finlay/HMT/data/VenetusA/1200Hx900W/10blocks/labels/VA214RN-0215.npy\n",
      "Training on /home/finlay/HMT/data/VenetusA/1200Hx900W/10blocks/labels/VA015RN-0016.npy\n",
      "Training on /home/finlay/HMT/data/VenetusA/1200Hx900W/10blocks/labels/VA184RN-0355.npy\n",
      "Training on /home/finlay/HMT/data/VenetusA/1200Hx900W/10blocks/labels/VA125RN-0126.npy\n",
      "Training on /home/finlay/HMT/data/VenetusA/1200Hx900W/10blocks/labels/VA225RN-0396.npy\n",
      "Training on /home/finlay/HMT/data/VenetusA/1200Hx900W/10blocks/labels/VA092RN-0093.npy\n",
      "Training on /home/finlay/HMT/data/VenetusA/1200Hx900W/10blocks/labels/VA261RN-0431.npy\n",
      "Training on /home/finlay/HMT/data/VenetusA/1200Hx900W/10blocks/labels/VA039RN-0040.npy\n",
      "Training on /home/finlay/HMT/data/VenetusA/1200Hx900W/10blocks/labels/VA252RN-0253.npy\n",
      "Training on /home/finlay/HMT/data/VenetusA/1200Hx900W/10blocks/labels/VA320RN-0490.npy\n",
      "Training on /home/finlay/HMT/data/VenetusA/1200Hx900W/10blocks/labels/VA013RN-0014.npy\n",
      "Training on /home/finlay/HMT/data/VenetusA/1200Hx900W/10blocks/labels/VA134RN-0306.npy\n",
      "Training on /home/finlay/HMT/data/VenetusA/1200Hx900W/10blocks/labels/VA054RN-0055.npy\n",
      "Training on /home/finlay/HMT/data/VenetusA/1200Hx900W/10blocks/labels/VA087RN-0259.npy\n",
      "Training on /home/finlay/HMT/data/VenetusA/1200Hx900W/10blocks/labels/VA195RN-0196.npy\n",
      "Training on /home/finlay/HMT/data/VenetusA/1200Hx900W/10blocks/labels/VA238RN-0239.npy\n",
      "(20, 10800, 20)\n",
      "Testing A\n",
      "Saving A\n",
      "2016-06-03 15:20:40.247978\n",
      "2016-06-03 15:20:40.300908\n",
      "Training PCA B\n",
      "Training B\n",
      "Training on /home/finlay/HMT/data/VenetusA/1200Hx900W/10blocks/labels/VA285RN-0455.npy\n",
      "Training on /home/finlay/HMT/data/VenetusA/1200Hx900W/10blocks/labels/VA113RN-0285.npy\n",
      "Training on /home/finlay/HMT/data/VenetusA/1200Hx900W/10blocks/labels/VA056RN-0057.npy\n",
      "Training on /home/finlay/HMT/data/VenetusA/1200Hx900W/10blocks/labels/VA195RN-0196.npy\n",
      "Training on /home/finlay/HMT/data/VenetusA/1200Hx900W/10blocks/labels/VA247RN-0418.npy\n",
      "Training on /home/finlay/HMT/data/VenetusA/1200Hx900W/10blocks/labels/VA164RN-0335.npy\n",
      "Training on /home/finlay/HMT/data/VenetusA/1200Hx900W/10blocks/labels/VA268RN-0438.npy\n",
      "Training on /home/finlay/HMT/data/VenetusA/1200Hx900W/10blocks/labels/VA133RN-0134.npy\n",
      "Training on /home/finlay/HMT/data/VenetusA/1200Hx900W/10blocks/labels/VA182RN-0183.npy\n",
      "Training on /home/finlay/HMT/data/VenetusA/1200Hx900W/10blocks/labels/VA252RN-0253.npy\n",
      "Training on /home/finlay/HMT/data/VenetusA/1200Hx900W/10blocks/labels/VA200RN-0201.npy\n",
      "Training on /home/finlay/HMT/data/VenetusA/1200Hx900W/10blocks/labels/VA289RN-0459.npy\n",
      "Training on /home/finlay/HMT/data/VenetusA/1200Hx900W/10blocks/labels/VA173RN-0344.npy\n",
      "Training on /home/finlay/HMT/data/VenetusA/1200Hx900W/10blocks/labels/VA124RN-0296.npy\n",
      "Training on /home/finlay/HMT/data/VenetusA/1200Hx900W/10blocks/labels/VA169RN-0340.npy\n",
      "Training on /home/finlay/HMT/data/VenetusA/1200Hx900W/10blocks/labels/VA217RN-0388.npy\n",
      "Training on /home/finlay/HMT/data/VenetusA/1200Hx900W/10blocks/labels/VA299RN-0469.npy\n",
      "Training on /home/finlay/HMT/data/VenetusA/1200Hx900W/10blocks/labels/VA249RN-0250.npy\n",
      "Training on /home/finlay/HMT/data/VenetusA/1200Hx900W/10blocks/labels/VA324RN-0494.npy\n",
      "Training on /home/finlay/HMT/data/VenetusA/1200Hx900W/10blocks/labels/VA076RN-0077.npy\n",
      "(20, 10800, 20)\n",
      "Testing B\n",
      "Saving B\n",
      "2016-06-03 15:59:01.852103\n",
      "2016-06-03 15:59:01.897558\n",
      "Training PCA C\n",
      "Training C\n",
      "Training on /home/finlay/HMT/data/VenetusA/1200Hx900W/10blocks/labels/VA149RN-0150.npy\n",
      "Training on /home/finlay/HMT/data/VenetusA/1200Hx900W/10blocks/labels/VA092RN-0093.npy\n",
      "Training on /home/finlay/HMT/data/VenetusA/1200Hx900W/10blocks/labels/VA038RN-0039.npy\n",
      "Training on /home/finlay/HMT/data/VenetusA/1200Hx900W/10blocks/labels/VA023RN-0024.npy\n",
      "Training on /home/finlay/HMT/data/VenetusA/1200Hx900W/10blocks/labels/VA192RN-0193.npy\n",
      "Training on /home/finlay/HMT/data/VenetusA/1200Hx900W/10blocks/labels/VA235RN-0406.npy\n",
      "Training on /home/finlay/HMT/data/VenetusA/1200Hx900W/10blocks/labels/VA249RN-0250.npy\n",
      "Training on /home/finlay/HMT/data/VenetusA/1200Hx900W/10blocks/labels/VA162RN-0333.npy\n",
      "Training on /home/finlay/HMT/data/VenetusA/1200Hx900W/10blocks/labels/VA275RN-0445.npy\n",
      "Training on /home/finlay/HMT/data/VenetusA/1200Hx900W/10blocks/labels/VA069RN-0070.npy\n",
      "Training on /home/finlay/HMT/data/VenetusA/1200Hx900W/10blocks/labels/VA152RN-0324.npy\n",
      "Training on /home/finlay/HMT/data/VenetusA/1200Hx900W/10blocks/labels/VA244RN-0245.npy\n",
      "Training on /home/finlay/HMT/data/VenetusA/1200Hx900W/10blocks/labels/VA264RN-0434.npy\n",
      "Training on /home/finlay/HMT/data/VenetusA/1200Hx900W/10blocks/labels/VA102RN-0103.npy\n",
      "Training on /home/finlay/HMT/data/VenetusA/1200Hx900W/10blocks/labels/VA214RN-0215.npy\n",
      "Training on /home/finlay/HMT/data/VenetusA/1200Hx900W/10blocks/labels/VA073RN-0074.npy\n",
      "Training on /home/finlay/HMT/data/VenetusA/1200Hx900W/10blocks/labels/VA175RN-0176.npy\n",
      "Training on /home/finlay/HMT/data/VenetusA/1200Hx900W/10blocks/labels/VA173RN-0344.npy\n",
      "Training on /home/finlay/HMT/data/VenetusA/1200Hx900W/10blocks/labels/VA121RN-0122.npy\n",
      "Training on /home/finlay/HMT/data/VenetusA/1200Hx900W/10blocks/labels/VA164RN-0335.npy\n",
      "(20, 10800, 20)\n",
      "Testing C\n",
      "Saving C\n",
      "2016-06-03 16:36:57.288330\n",
      "2016-06-03 16:36:57.338937\n",
      "Training PCA D\n",
      "Training D\n",
      "Training on /home/finlay/HMT/data/VenetusA/1200Hx900W/10blocks/labels/VA309RN-0479.npy\n",
      "Training on /home/finlay/HMT/data/VenetusA/1200Hx900W/10blocks/labels/VA068RN-0069.npy\n",
      "Training on /home/finlay/HMT/data/VenetusA/1200Hx900W/10blocks/labels/VA305RN-0475.npy\n",
      "Training on /home/finlay/HMT/data/VenetusA/1200Hx900W/10blocks/labels/VA031RN-0032.npy\n",
      "Training on /home/finlay/HMT/data/VenetusA/1200Hx900W/10blocks/labels/VA232RN-0233.npy\n",
      "Training on /home/finlay/HMT/data/VenetusA/1200Hx900W/10blocks/labels/VA247RN-0418.npy\n",
      "Training on /home/finlay/HMT/data/VenetusA/1200Hx900W/10blocks/labels/VA162RN-0333.npy\n",
      "Training on /home/finlay/HMT/data/VenetusA/1200Hx900W/10blocks/labels/VA263RN-0433.npy\n",
      "Training on /home/finlay/HMT/data/VenetusA/1200Hx900W/10blocks/labels/VA107RN-0108.npy\n",
      "Training on /home/finlay/HMT/data/VenetusA/1200Hx900W/10blocks/labels/VA192RN-0193.npy\n",
      "Training on /home/finlay/HMT/data/VenetusA/1200Hx900W/10blocks/labels/VA066RN-0067.npy\n",
      "Training on /home/finlay/HMT/data/VenetusA/1200Hx900W/10blocks/labels/VA196RN-0197.npy\n",
      "Training on /home/finlay/HMT/data/VenetusA/1200Hx900W/10blocks/labels/VA285RN-0455.npy\n",
      "Training on /home/finlay/HMT/data/VenetusA/1200Hx900W/10blocks/labels/VA015RN-0016.npy\n",
      "Training on /home/finlay/HMT/data/VenetusA/1200Hx900W/10blocks/labels/VA229RN-0400.npy\n",
      "Training on /home/finlay/HMT/data/VenetusA/1200Hx900W/10blocks/labels/VA115RN-0116.npy\n",
      "Training on /home/finlay/HMT/data/VenetusA/1200Hx900W/10blocks/labels/VA252RN-0253.npy\n",
      "Training on /home/finlay/HMT/data/VenetusA/1200Hx900W/10blocks/labels/VA293RN-0463.npy\n",
      "Training on /home/finlay/HMT/data/VenetusA/1200Hx900W/10blocks/labels/VA209RN-0210.npy\n",
      "Training on /home/finlay/HMT/data/VenetusA/1200Hx900W/10blocks/labels/VA017RN-0018.npy\n",
      "(20, 10800, 20)\n",
      "Testing D\n",
      "Saving D\n",
      "2016-06-03 17:15:59.112147\n",
      "2016-06-03 17:15:59.119361\n",
      "Training PCA E\n",
      "Training E\n",
      "Training on /home/finlay/HMT/data/VenetusA/1200Hx900W/10blocks/labels/VA036RN-0037.npy\n",
      "Training on /home/finlay/HMT/data/VenetusA/1200Hx900W/10blocks/labels/VA093RN-0094.npy\n",
      "Training on /home/finlay/HMT/data/VenetusA/1200Hx900W/10blocks/labels/VA173RN-0344.npy\n",
      "Training on /home/finlay/HMT/data/VenetusA/1200Hx900W/10blocks/labels/VA102RN-0103.npy\n",
      "Training on /home/finlay/HMT/data/VenetusA/1200Hx900W/10blocks/labels/VA316RN-0486.npy\n",
      "Training on /home/finlay/HMT/data/VenetusA/1200Hx900W/10blocks/labels/VA309RN-0479.npy\n",
      "Training on /home/finlay/HMT/data/VenetusA/1200Hx900W/10blocks/labels/VA204RN-0205.npy\n",
      "Training on /home/finlay/HMT/data/VenetusA/1200Hx900W/10blocks/labels/VA104RN-0105.npy\n",
      "Training on /home/finlay/HMT/data/VenetusA/1200Hx900W/10blocks/labels/VA207RN-0208.npy\n",
      "Training on /home/finlay/HMT/data/VenetusA/1200Hx900W/10blocks/labels/VA015RN-0016.npy\n",
      "Training on /home/finlay/HMT/data/VenetusA/1200Hx900W/10blocks/labels/VA121RN-0122.npy\n",
      "Training on /home/finlay/HMT/data/VenetusA/1200Hx900W/10blocks/labels/VA012RN-0013.npy\n",
      "Training on /home/finlay/HMT/data/VenetusA/1200Hx900W/10blocks/labels/VA124RN-0296.npy\n",
      "Training on /home/finlay/HMT/data/VenetusA/1200Hx900W/10blocks/labels/VA052RN-0053.npy\n",
      "Training on /home/finlay/HMT/data/VenetusA/1200Hx900W/10blocks/labels/VA174RN-0345.npy\n",
      "Training on /home/finlay/HMT/data/VenetusA/1200Hx900W/10blocks/labels/VA072RN-0073.npy\n",
      "Training on /home/finlay/HMT/data/VenetusA/1200Hx900W/10blocks/labels/VA067RN-0068.npy\n",
      "Training on /home/finlay/HMT/data/VenetusA/1200Hx900W/10blocks/labels/VA240RN-0241.npy\n",
      "Training on /home/finlay/HMT/data/VenetusA/1200Hx900W/10blocks/labels/VA192RN-0193.npy\n",
      "Training on /home/finlay/HMT/data/VenetusA/1200Hx900W/10blocks/labels/VA224RN-0225.npy\n",
      "(20, 10800, 20)\n",
      "Testing E\n",
      "Saving E\n",
      "2016-06-03 17:56:15.852408\n",
      "2016-06-03 17:56:15.924138\n",
      "Training PCA F\n",
      "Training F\n",
      "Training on /home/finlay/HMT/data/VenetusA/1200Hx900W/10blocks/labels/VA133RN-0134.npy\n",
      "Training on /home/finlay/HMT/data/VenetusA/1200Hx900W/10blocks/labels/VA083RN-0084.npy\n",
      "Training on /home/finlay/HMT/data/VenetusA/1200Hx900W/10blocks/labels/VA204RN-0205.npy\n",
      "Training on /home/finlay/HMT/data/VenetusA/1200Hx900W/10blocks/labels/VA217RN-0388.npy\n",
      "Training on /home/finlay/HMT/data/VenetusA/1200Hx900W/10blocks/labels/VA093RN-0094.npy\n",
      "Training on /home/finlay/HMT/data/VenetusA/1200Hx900W/10blocks/labels/VA224RN-0225.npy\n",
      "Training on /home/finlay/HMT/data/VenetusA/1200Hx900W/10blocks/labels/VA073RN-0074.npy\n",
      "Training on /home/finlay/HMT/data/VenetusA/1200Hx900W/10blocks/labels/VA207RN-0208.npy\n",
      "Training on /home/finlay/HMT/data/VenetusA/1200Hx900W/10blocks/labels/VA229RN-0400.npy\n",
      "Training on /home/finlay/HMT/data/VenetusA/1200Hx900W/10blocks/labels/VA185RN-0356.npy\n",
      "Training on /home/finlay/HMT/data/VenetusA/1200Hx900W/10blocks/labels/VA274RN-0444.npy\n",
      "Training on /home/finlay/HMT/data/VenetusA/1200Hx900W/10blocks/labels/VA143RN-0315.npy\n",
      "Training on /home/finlay/HMT/data/VenetusA/1200Hx900W/10blocks/labels/VA038RN-0039.npy\n",
      "Training on /home/finlay/HMT/data/VenetusA/1200Hx900W/10blocks/labels/VA215RN-0216.npy\n",
      "Training on /home/finlay/HMT/data/VenetusA/1200Hx900W/10blocks/labels/VA324RN-0494.npy\n",
      "Training on /home/finlay/HMT/data/VenetusA/1200Hx900W/10blocks/labels/VA104RN-0105.npy\n",
      "Training on /home/finlay/HMT/data/VenetusA/1200Hx900W/10blocks/labels/VA068RN-0069.npy\n",
      "Training on /home/finlay/HMT/data/VenetusA/1200Hx900W/10blocks/labels/VA218RN-0389.npy\n",
      "Training on /home/finlay/HMT/data/VenetusA/1200Hx900W/10blocks/labels/VA305RN-0475.npy\n",
      "Training on /home/finlay/HMT/data/VenetusA/1200Hx900W/10blocks/labels/VA134RN-0306.npy\n",
      "(20, 10800, 20)\n",
      "Testing F\n",
      "Saving F\n",
      "2016-06-03 18:37:25.076783\n"
     ]
    }
   ],
   "source": [
    "for letter in test_runs:\n",
    "    split_at = 20\n",
    "    random.shuffle(path_pairs)\n",
    "    train = path_pairs[:split_at]\n",
    "    test = path_pairs[split_at:]\n",
    "    \n",
    "    oot_path = os.path.join(\"/home/finlay/HMT/data/VenetusA/1200Hx900W/10blocks/PCA_20_Chain_CRF\", letter)\n",
    "    mkdir(oot_path)\n",
    " \n",
    "    crf = ChainCRF()\n",
    "    clf = ssvm.OneSlackSSVM(model=crf,n_jobs=-1, C=100, inference_cache=100, tol=.1,\n",
    "                           logger=SaveLogger(oot_path+'.pickle', save_every=100))\n",
    "    \n",
    "    pca = PCA(n_components=20)\n",
    "    print(datetime.datetime.now())\n",
    "    print(\"Training PCA %s\" %letter)\n",
    "    for l, d in train:\n",
    "        X = flatten_vector_matrix(np.load(d))\n",
    "        #y = np.squeeze(flatten_vector_matrix(np.load(l)))\n",
    "        pca.fit(X)\n",
    "  \n",
    "    print(\"Training %s\" %letter)\n",
    "    train_X = []\n",
    "    train_y = []\n",
    "    for l, d in train:\n",
    "        print(\"Training on %s\" %l)\n",
    "        train_X.append(pca.transform(flatten_vector_matrix(np.load(d))))\n",
    "        train_y.append(np.squeeze(np.load(l)).flatten().astype('int'))\n",
    "    print(np.array(train_X).shape)\n",
    "    clf.fit(train_X, train_y)\n",
    "        \n",
    "    print(\"Testing %s\" %letter)\n",
    "    test_results = []\n",
    "    for l, d in test:\n",
    "        X = pca.transform(flatten_vector_matrix(np.load(d)))\n",
    "        pred = np.asarray(clf.predict([X]))\n",
    "        test_results.append({\n",
    "            'name': only_basename(l),\n",
    "            'pred': pred.reshape(120,90),\n",
    "            })\n",
    "    \n",
    "    print(\"Saving %s\" %letter)\n",
    "    for result in test_results:\n",
    "        path = format_path(oot_path, 'npy', result['name'])\n",
    "        np.save(path, scale_matrix(result['pred'], 10))\n",
    "    print(datetime.datetime.now())\n"
   ]
  },
  {
   "cell_type": "code",
   "execution_count": 18,
   "metadata": {
    "collapsed": false
   },
   "outputs": [
    {
     "name": "stdout",
     "output_type": "stream",
     "text": [
      "Testing A\n",
      "Saving A\n",
      "2016-06-03 14:34:23.522664\n"
     ]
    }
   ],
   "source": [
    "print(\"Testing %s\" %letter)\n",
    "test_results = []\n",
    "for l, d in test:\n",
    "    pre_X = pca.transform(flatten_vector_matrix(np.load(d)))\n",
    "    X = pre_X.reshape((60,45, pre_X.shape[1]))\n",
    "    y = np.squeeze(flatten_vector_matrix(np.load(l)))\n",
    "    pred = np.asarray(clf.predict(X))\n",
    "    test_results.append({\n",
    "        'name': only_basename(l),\n",
    "        'pred': pred.reshape(60,45),\n",
    "        })\n",
    "    \n",
    "print(\"Saving %s\" %letter)\n",
    "for result in test_results:\n",
    "    path = format_path(oot_path, 'npy', result['name'])\n",
    "    np.save(path, scale_matrix(result['pred'], 20))\n",
    "print(datetime.datetime.now())\n"
   ]
  },
  {
   "cell_type": "code",
   "execution_count": 15,
   "metadata": {
    "collapsed": false
   },
   "outputs": [
    {
     "data": {
      "text/plain": [
       "(60, 45)"
      ]
     },
     "execution_count": 15,
     "metadata": {},
     "output_type": "execute_result"
    }
   ],
   "source": [
    "np.asarray(pred).shape"
   ]
  },
  {
   "cell_type": "code",
   "execution_count": 16,
   "metadata": {
    "collapsed": false
   },
   "outputs": [
    {
     "data": {
      "text/plain": [
       "<matplotlib.image.AxesImage at 0x7fc0b848b7f0>"
      ]
     },
     "execution_count": 16,
     "metadata": {},
     "output_type": "execute_result"
    },
    {
     "data": {
      "image/png": "[encoded data removed]",
      "text/plain": [
       "<matplotlib.figure.Figure at 0x7fc0b87f2fd0>"
      ]
     },
     "metadata": {},
     "output_type": "display_data"
    }
   ],
   "source": [
    "plt.imshow(np.asarray(pred))"
   ]
  },
  {
   "cell_type": "code",
   "execution_count": null,
   "metadata": {
    "collapsed": true
   },
   "outputs": [],
   "source": []
  }
 ],
 "metadata": {
  "kernelspec": {
   "display_name": "Python 3",
   "language": "python",
   "name": "python3"
  },
  "language_info": {
   "codemirror_mode": {
    "name": "ipython",
    "version": 3
   },
   "file_extension": ".py",
   "mimetype": "text/x-python",
   "name": "python",
   "nbconvert_exporter": "python",
   "pygments_lexer": "ipython3",
   "version": "3.5.1"
  }
 },
 "nbformat": 4,
 "nbformat_minor": 0
}
