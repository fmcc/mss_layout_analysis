{
 "cells": [
  {
   "cell_type": "code",
   "execution_count": 1,
   "metadata": {
    "collapsed": true
   },
   "outputs": [],
   "source": [
    "%matplotlib inline"
   ]
  },
  {
   "cell_type": "code",
   "execution_count": 2,
   "metadata": {
    "collapsed": true
   },
   "outputs": [],
   "source": [
    "import numpy as np\n",
    "import matplotlib.pyplot as plt\n",
    "from msslib.utils import *\n",
    "\n",
    "import random\n",
    "\n",
    "from pystruct.models import GridCRF\n",
    "import pystruct.learners as ssvm\n",
    "from pystruct.utils import SaveLogger\n",
    "\n",
    "from sklearn.decomposition import PCA\n",
    "\n",
    "import datetime\n",
    "import random\n",
    "import pickle"
   ]
  },
  {
   "cell_type": "code",
   "execution_count": 13,
   "metadata": {
    "collapsed": true
   },
   "outputs": [],
   "source": [
    "test_runs = [\"B\",\"C\",\"D\",\"E\",\"F\"]"
   ]
  },
  {
   "cell_type": "code",
   "execution_count": 14,
   "metadata": {
    "collapsed": true
   },
   "outputs": [],
   "source": [
    "unwanted_recto = [\"VA223RN\",\"VA327RN\",\"VA001RN\",\"VA002RN\",\"VA006RN\",\"VA007RN\",\"VA008RN\",\"VA009RN\"]\n",
    "\n",
    "def get_set_paths(directory):\n",
    "    return sorted(list(filter(lambda x: \"RN\" in x and not any(s in x for s in unwanted_recto) , listpaths(directory))))"
   ]
  },
  {
   "cell_type": "code",
   "execution_count": 15,
   "metadata": {
    "collapsed": false
   },
   "outputs": [
    {
     "name": "stdout",
     "output_type": "stream",
     "text": [
      "150\n"
     ]
    }
   ],
   "source": [
    "label_dir = \"/home/finlay/HMT/data/VenetusA/1200Hx900W/20blocks/labels/\"\n",
    "data_dir = \"/home/finlay/HMT/data/VenetusA/1200Hx900W/20blocks/data/\"    \n",
    "\n",
    "label_paths = get_set_paths(label_dir)\n",
    "data_paths = get_set_paths(data_dir)\n",
    "\n",
    "path_pairs = list(zip(label_paths, data_paths))\n",
    "print(len(path_pairs))"
   ]
  },
  {
   "cell_type": "code",
   "execution_count": null,
   "metadata": {
    "collapsed": true
   },
   "outputs": [],
   "source": []
  },
  {
   "cell_type": "code",
   "execution_count": 16,
   "metadata": {
    "collapsed": false
   },
   "outputs": [
    {
     "name": "stdout",
     "output_type": "stream",
     "text": [
      "2016-06-04 11:39:30.901720\n",
      "Training PCA B\n",
      "Training B\n",
      "Training on /home/finlay/HMT/data/VenetusA/1200Hx900W/20blocks/labels/VA012RN-0013.npy\n",
      "Training on /home/finlay/HMT/data/VenetusA/1200Hx900W/20blocks/labels/VA200RN-0201.npy\n",
      "Training on /home/finlay/HMT/data/VenetusA/1200Hx900W/20blocks/labels/VA263RN-0433.npy\n",
      "Training on /home/finlay/HMT/data/VenetusA/1200Hx900W/20blocks/labels/VA240RN-0241.npy\n",
      "Training on /home/finlay/HMT/data/VenetusA/1200Hx900W/20blocks/labels/VA147RN-0148.npy\n",
      "Training on /home/finlay/HMT/data/VenetusA/1200Hx900W/20blocks/labels/VA152RN-0324.npy\n",
      "Training on /home/finlay/HMT/data/VenetusA/1200Hx900W/20blocks/labels/VA113RN-0285.npy\n",
      "Training on /home/finlay/HMT/data/VenetusA/1200Hx900W/20blocks/labels/VA299RN-0469.npy\n",
      "Training on /home/finlay/HMT/data/VenetusA/1200Hx900W/20blocks/labels/VA216RN-0217.npy\n",
      "Training on /home/finlay/HMT/data/VenetusA/1200Hx900W/20blocks/labels/VA265RN-0435.npy\n",
      "Training on /home/finlay/HMT/data/VenetusA/1200Hx900W/20blocks/labels/VA068RN-0069.npy\n",
      "Training on /home/finlay/HMT/data/VenetusA/1200Hx900W/20blocks/labels/VA288RN-0458.npy\n",
      "Training on /home/finlay/HMT/data/VenetusA/1200Hx900W/20blocks/labels/VA221RN-0222.npy\n",
      "Training on /home/finlay/HMT/data/VenetusA/1200Hx900W/20blocks/labels/VA039RN-0040.npy\n",
      "Training on /home/finlay/HMT/data/VenetusA/1200Hx900W/20blocks/labels/VA204RN-0205.npy\n",
      "Training on /home/finlay/HMT/data/VenetusA/1200Hx900W/20blocks/labels/VA207RN-0208.npy\n",
      "Training on /home/finlay/HMT/data/VenetusA/1200Hx900W/20blocks/labels/VA305RN-0475.npy\n",
      "Training on /home/finlay/HMT/data/VenetusA/1200Hx900W/20blocks/labels/VA275RN-0445.npy\n",
      "Training on /home/finlay/HMT/data/VenetusA/1200Hx900W/20blocks/labels/VA133RN-0134.npy\n",
      "Training on /home/finlay/HMT/data/VenetusA/1200Hx900W/20blocks/labels/VA184RN-0355.npy\n",
      "(20, 60, 45, 20)\n"
     ]
    },
    {
     "name": "stderr",
     "output_type": "stream",
     "text": [
      "/usr/lib/python3.5/site-packages/pystruct/learners/one_slack_ssvm.py:409: VisibleDeprecationWarning: using a non-integer number instead of an integer will result in an error in the future\n",
      "  self.w = np.zeros(self.model.size_joint_feature)\n",
      "/usr/lib/python3.5/site-packages/pystruct/learners/one_slack_ssvm.py:415: VisibleDeprecationWarning: using a non-integer number instead of an integer will result in an error in the future\n",
      "  constraints.append((np.zeros(self.model.size_joint_feature), 0))\n",
      "/usr/lib/python3.5/site-packages/pystruct/models/base.py:34: VisibleDeprecationWarning: using a non-integer number instead of an integer will result in an error in the future\n",
      "  joint_feature_ = np.zeros(self.size_joint_feature)\n",
      "/usr/lib/python3.5/site-packages/pystruct/learners/one_slack_ssvm.py:323: VisibleDeprecationWarning: using a non-integer number instead of an integer will result in an error in the future\n",
      "  joint_feature_acc = np.zeros(self.model.size_joint_feature)\n"
     ]
    },
    {
     "name": "stdout",
     "output_type": "stream",
     "text": [
      "2016-06-04 21:17:17.172964\n",
      "Testing B\n",
      "Saving B\n",
      "2016-06-04 21:22:38.406085\n",
      "2016-06-04 21:22:38.425089\n",
      "Training PCA C\n",
      "Training C\n",
      "Training on /home/finlay/HMT/data/VenetusA/1200Hx900W/20blocks/labels/VA022RN-0023.npy\n",
      "Training on /home/finlay/HMT/data/VenetusA/1200Hx900W/20blocks/labels/VA120RN-0121.npy\n",
      "Training on /home/finlay/HMT/data/VenetusA/1200Hx900W/20blocks/labels/VA192RN-0193.npy\n",
      "Training on /home/finlay/HMT/data/VenetusA/1200Hx900W/20blocks/labels/VA220RN-0391.npy\n",
      "Training on /home/finlay/HMT/data/VenetusA/1200Hx900W/20blocks/labels/VA023RN-0024.npy\n",
      "Training on /home/finlay/HMT/data/VenetusA/1200Hx900W/20blocks/labels/VA275RN-0445.npy\n",
      "Training on /home/finlay/HMT/data/VenetusA/1200Hx900W/20blocks/labels/VA274RN-0444.npy\n",
      "Training on /home/finlay/HMT/data/VenetusA/1200Hx900W/20blocks/labels/VA175RN-0176.npy\n",
      "Training on /home/finlay/HMT/data/VenetusA/1200Hx900W/20blocks/labels/VA238RN-0239.npy\n",
      "Training on /home/finlay/HMT/data/VenetusA/1200Hx900W/20blocks/labels/VA248RN-0249.npy\n",
      "Training on /home/finlay/HMT/data/VenetusA/1200Hx900W/20blocks/labels/VA124RN-0296.npy\n",
      "Training on /home/finlay/HMT/data/VenetusA/1200Hx900W/20blocks/labels/VA031RN-0032.npy\n",
      "Training on /home/finlay/HMT/data/VenetusA/1200Hx900W/20blocks/labels/VA110RN-0282.npy\n",
      "Training on /home/finlay/HMT/data/VenetusA/1200Hx900W/20blocks/labels/VA261RN-0431.npy\n",
      "Training on /home/finlay/HMT/data/VenetusA/1200Hx900W/20blocks/labels/VA318RN-0488.npy\n",
      "Training on /home/finlay/HMT/data/VenetusA/1200Hx900W/20blocks/labels/VA167RN-0168.npy\n",
      "Training on /home/finlay/HMT/data/VenetusA/1200Hx900W/20blocks/labels/VA146RN-0147.npy\n",
      "Training on /home/finlay/HMT/data/VenetusA/1200Hx900W/20blocks/labels/VA232RN-0233.npy\n",
      "Training on /home/finlay/HMT/data/VenetusA/1200Hx900W/20blocks/labels/VA204RN-0205.npy\n",
      "Training on /home/finlay/HMT/data/VenetusA/1200Hx900W/20blocks/labels/VA118RN-0119.npy\n",
      "(20, 60, 45, 20)\n",
      "2016-06-05 03:26:41.745954\n",
      "Testing C\n",
      "Saving C\n",
      "2016-06-05 03:31:45.767051\n",
      "2016-06-05 03:31:45.779521\n",
      "Training PCA D\n",
      "Training D\n",
      "Training on /home/finlay/HMT/data/VenetusA/1200Hx900W/20blocks/labels/VA248RN-0249.npy\n",
      "Training on /home/finlay/HMT/data/VenetusA/1200Hx900W/20blocks/labels/VA217RN-0388.npy\n",
      "Training on /home/finlay/HMT/data/VenetusA/1200Hx900W/20blocks/labels/VA069RN-0070.npy\n",
      "Training on /home/finlay/HMT/data/VenetusA/1200Hx900W/20blocks/labels/VA212RN-0213.npy\n",
      "Training on /home/finlay/HMT/data/VenetusA/1200Hx900W/20blocks/labels/VA116RN-0288.npy\n",
      "Training on /home/finlay/HMT/data/VenetusA/1200Hx900W/20blocks/labels/VA020RN-0021.npy\n",
      "Training on /home/finlay/HMT/data/VenetusA/1200Hx900W/20blocks/labels/VA098RN-0099.npy\n",
      "Training on /home/finlay/HMT/data/VenetusA/1200Hx900W/20blocks/labels/VA270RN-0440.npy\n",
      "Training on /home/finlay/HMT/data/VenetusA/1200Hx900W/20blocks/labels/VA268RN-0438.npy\n",
      "Training on /home/finlay/HMT/data/VenetusA/1200Hx900W/20blocks/labels/VA137RN-0309.npy\n",
      "Training on /home/finlay/HMT/data/VenetusA/1200Hx900W/20blocks/labels/VA239RN-0410.npy\n",
      "Training on /home/finlay/HMT/data/VenetusA/1200Hx900W/20blocks/labels/VA096RN-0097.npy\n",
      "Training on /home/finlay/HMT/data/VenetusA/1200Hx900W/20blocks/labels/VA068RN-0069.npy\n",
      "Training on /home/finlay/HMT/data/VenetusA/1200Hx900W/20blocks/labels/VA252RN-0253.npy\n",
      "Training on /home/finlay/HMT/data/VenetusA/1200Hx900W/20blocks/labels/VA118RN-0119.npy\n",
      "Training on /home/finlay/HMT/data/VenetusA/1200Hx900W/20blocks/labels/VA149RN-0150.npy\n",
      "Training on /home/finlay/HMT/data/VenetusA/1200Hx900W/20blocks/labels/VA220RN-0391.npy\n",
      "Training on /home/finlay/HMT/data/VenetusA/1200Hx900W/20blocks/labels/VA082RN-0254.npy\n",
      "Training on /home/finlay/HMT/data/VenetusA/1200Hx900W/20blocks/labels/VA132RN-0304.npy\n",
      "Training on /home/finlay/HMT/data/VenetusA/1200Hx900W/20blocks/labels/VA089RN-0090.npy\n",
      "(20, 60, 45, 20)\n",
      "2016-06-05 10:27:37.512270\n",
      "Testing D\n",
      "Saving D\n",
      "2016-06-05 10:34:29.304329\n",
      "2016-06-05 10:34:29.316862\n",
      "Training PCA E\n",
      "Training E\n",
      "Training on /home/finlay/HMT/data/VenetusA/1200Hx900W/20blocks/labels/VA216RN-0217.npy\n",
      "Training on /home/finlay/HMT/data/VenetusA/1200Hx900W/20blocks/labels/VA131RN-0132.npy\n",
      "Training on /home/finlay/HMT/data/VenetusA/1200Hx900W/20blocks/labels/VA175RN-0176.npy\n",
      "Training on /home/finlay/HMT/data/VenetusA/1200Hx900W/20blocks/labels/VA122RN-0123.npy\n",
      "Training on /home/finlay/HMT/data/VenetusA/1200Hx900W/20blocks/labels/VA221RN-0222.npy\n",
      "Training on /home/finlay/HMT/data/VenetusA/1200Hx900W/20blocks/labels/VA243RN-0244.npy\n",
      "Training on /home/finlay/HMT/data/VenetusA/1200Hx900W/20blocks/labels/VA196RN-0197.npy\n",
      "Training on /home/finlay/HMT/data/VenetusA/1200Hx900W/20blocks/labels/VA207RN-0208.npy\n",
      "Training on /home/finlay/HMT/data/VenetusA/1200Hx900W/20blocks/labels/VA270RN-0440.npy\n",
      "Training on /home/finlay/HMT/data/VenetusA/1200Hx900W/20blocks/labels/VA139RN-0311.npy\n",
      "Training on /home/finlay/HMT/data/VenetusA/1200Hx900W/20blocks/labels/VA023RN-0024.npy\n",
      "Training on /home/finlay/HMT/data/VenetusA/1200Hx900W/20blocks/labels/VA052RN-0053.npy\n",
      "Training on /home/finlay/HMT/data/VenetusA/1200Hx900W/20blocks/labels/VA313RN-0483.npy\n",
      "Training on /home/finlay/HMT/data/VenetusA/1200Hx900W/20blocks/labels/VA014RN-0015.npy\n",
      "Training on /home/finlay/HMT/data/VenetusA/1200Hx900W/20blocks/labels/VA039RN-0040.npy\n",
      "Training on /home/finlay/HMT/data/VenetusA/1200Hx900W/20blocks/labels/VA078RN-0079.npy\n",
      "Training on /home/finlay/HMT/data/VenetusA/1200Hx900W/20blocks/labels/VA262RN-0432.npy\n",
      "Training on /home/finlay/HMT/data/VenetusA/1200Hx900W/20blocks/labels/VA083RN-0084.npy\n",
      "Training on /home/finlay/HMT/data/VenetusA/1200Hx900W/20blocks/labels/VA096RN-0097.npy\n",
      "Training on /home/finlay/HMT/data/VenetusA/1200Hx900W/20blocks/labels/VA121RN-0122.npy\n",
      "(20, 60, 45, 20)\n",
      "2016-06-05 19:41:40.944931\n",
      "Testing E\n",
      "Saving E\n",
      "2016-06-05 19:47:38.054512\n",
      "2016-06-05 19:47:38.068663\n",
      "Training PCA F\n",
      "Training F\n",
      "Training on /home/finlay/HMT/data/VenetusA/1200Hx900W/20blocks/labels/VA119RN-0120.npy\n",
      "Training on /home/finlay/HMT/data/VenetusA/1200Hx900W/20blocks/labels/VA143RN-0315.npy\n",
      "Training on /home/finlay/HMT/data/VenetusA/1200Hx900W/20blocks/labels/VA036RN-0037.npy\n",
      "Training on /home/finlay/HMT/data/VenetusA/1200Hx900W/20blocks/labels/VA210RN-0211.npy\n",
      "Training on /home/finlay/HMT/data/VenetusA/1200Hx900W/20blocks/labels/VA023RN-0024.npy\n",
      "Training on /home/finlay/HMT/data/VenetusA/1200Hx900W/20blocks/labels/VA184RN-0355.npy\n",
      "Training on /home/finlay/HMT/data/VenetusA/1200Hx900W/20blocks/labels/VA072RN-0073.npy\n",
      "Training on /home/finlay/HMT/data/VenetusA/1200Hx900W/20blocks/labels/VA204RN-0205.npy\n",
      "Training on /home/finlay/HMT/data/VenetusA/1200Hx900W/20blocks/labels/VA293RN-0463.npy\n",
      "Training on /home/finlay/HMT/data/VenetusA/1200Hx900W/20blocks/labels/VA087RN-0259.npy\n",
      "Training on /home/finlay/HMT/data/VenetusA/1200Hx900W/20blocks/labels/VA133RN-0134.npy\n",
      "Training on /home/finlay/HMT/data/VenetusA/1200Hx900W/20blocks/labels/VA089RN-0090.npy\n",
      "Training on /home/finlay/HMT/data/VenetusA/1200Hx900W/20blocks/labels/VA056RN-0057.npy\n",
      "Training on /home/finlay/HMT/data/VenetusA/1200Hx900W/20blocks/labels/VA262RN-0432.npy\n",
      "Training on /home/finlay/HMT/data/VenetusA/1200Hx900W/20blocks/labels/VA305RN-0475.npy\n",
      "Training on /home/finlay/HMT/data/VenetusA/1200Hx900W/20blocks/labels/VA073RN-0074.npy\n",
      "Training on /home/finlay/HMT/data/VenetusA/1200Hx900W/20blocks/labels/VA233RN-0234.npy\n",
      "Training on /home/finlay/HMT/data/VenetusA/1200Hx900W/20blocks/labels/VA117RN-0118.npy\n",
      "Training on /home/finlay/HMT/data/VenetusA/1200Hx900W/20blocks/labels/VA078RN-0079.npy\n",
      "Training on /home/finlay/HMT/data/VenetusA/1200Hx900W/20blocks/labels/VA243RN-0244.npy\n",
      "(20, 60, 45, 20)\n",
      "2016-06-06 08:22:12.181192\n",
      "Testing F\n",
      "Saving F\n",
      "2016-06-06 08:36:34.322817\n"
     ]
    }
   ],
   "source": [
    "for letter in test_runs:\n",
    "    split_at = 20\n",
    "    random.shuffle(path_pairs)\n",
    "    train = path_pairs[:split_at]\n",
    "    test = path_pairs[split_at:]\n",
    "    \n",
    "    oot_path = os.path.join(\"/home/finlay/HMT/data/VenetusA/1200Hx900W/20blocks/PCA_20_Grid_CRF\", letter)\n",
    "    mkdir(oot_path)\n",
    " \n",
    "    crf = GridCRF(neighborhood=4)\n",
    "    clf = ssvm.OneSlackSSVM(model=crf,n_jobs=-1, C=100, inference_cache=100, tol=.1,\n",
    "                           logger=SaveLogger(oot_path+'.pickle', save_every=100))\n",
    "    \n",
    "    pca = PCA(n_components=20)\n",
    "    print(datetime.datetime.now())\n",
    "    print(\"Training PCA %s\" %letter)\n",
    "    for l, d in train:\n",
    "        X = flatten_vector_matrix(np.load(d))\n",
    "        #y = np.squeeze(flatten_vector_matrix(np.load(l)))\n",
    "        pca.fit(X)\n",
    "  \n",
    "    print(\"Training %s\" %letter)\n",
    "    train_X = []\n",
    "    train_y = []\n",
    "    for l, d in train:\n",
    "        print(\"Training on %s\" %l)\n",
    "        pre_X = pca.transform(flatten_vector_matrix(np.load(d)))\n",
    "        train_X.append(pre_X.reshape(60,45,20))\n",
    "        train_y.append(np.squeeze(np.load(l)).astype('int'))\n",
    "    print(np.array(train_X).shape)\n",
    "    clf.fit(train_X, train_y)\n",
    "    print(datetime.datetime.now())\n",
    "\n",
    "    pickle.dump(clf, open(os.path.join(oot_path + \"_clf.pkl\"), \"wb\" ) )\n",
    "    print(\"Testing %s\" %letter)\n",
    "    test_results = []\n",
    "    for l, d in test:\n",
    "        pre_X = pca.transform(flatten_vector_matrix(np.load(d)))\n",
    "        X = pre_X.reshape((60,45, pre_X.shape[1]))\n",
    "        y = np.squeeze(flatten_vector_matrix(np.load(l)))\n",
    "        pred = np.asarray(clf.predict([X]))\n",
    "        test_results.append({\n",
    "            'name': only_basename(l),\n",
    "            'pred': pred.reshape(60,45),\n",
    "            })\n",
    "\n",
    "    print(\"Saving %s\" %letter)\n",
    "    for result in test_results:\n",
    "        path = format_path(oot_path, 'npy', result['name'])\n",
    "        np.save(path, scale_matrix(result['pred'], 20))\n",
    "    print(datetime.datetime.now())\n"
   ]
  },
  {
   "cell_type": "code",
   "execution_count": 12,
   "metadata": {
    "collapsed": false
   },
   "outputs": [
    {
     "name": "stdout",
     "output_type": "stream",
     "text": [
      "Testing A\n",
      "Saving A\n",
      "2016-06-04 11:29:16.475315\n"
     ]
    }
   ],
   "source": []
  },
  {
   "cell_type": "code",
   "execution_count": 10,
   "metadata": {
    "collapsed": false
   },
   "outputs": [],
   "source": [
    "import pickle"
   ]
  },
  {
   "cell_type": "code",
   "execution_count": 11,
   "metadata": {
    "collapsed": false
   },
   "outputs": [],
   "source": [
    "pickle.dump(clf, open(os.path.join(oot_path, letter + \"_clf.pkl\"), \"wb\" ) )\n",
    "\n"
   ]
  },
  {
   "cell_type": "code",
   "execution_count": null,
   "metadata": {
    "collapsed": true
   },
   "outputs": [],
   "source": []
  }
 ],
 "metadata": {
  "kernelspec": {
   "display_name": "Python 3",
   "language": "python",
   "name": "python3"
  },
  "language_info": {
   "codemirror_mode": {
    "name": "ipython",
    "version": 3
   },
   "file_extension": ".py",
   "mimetype": "text/x-python",
   "name": "python",
   "nbconvert_exporter": "python",
   "pygments_lexer": "ipython3",
   "version": "3.5.1"
  }
 },
 "nbformat": 4,
 "nbformat_minor": 0
}
