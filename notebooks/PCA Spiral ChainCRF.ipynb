{
 "cells": [
  {
   "cell_type": "code",
   "execution_count": 1,
   "metadata": {
    "collapsed": true
   },
   "outputs": [],
   "source": [
    "%matplotlib inline"
   ]
  },
  {
   "cell_type": "code",
   "execution_count": 2,
   "metadata": {
    "collapsed": true
   },
   "outputs": [],
   "source": [
    "import numpy as np\n",
    "import matplotlib.pyplot as plt\n",
    "from msslib.utils import *\n",
    "\n",
    "import random\n",
    "\n",
    "from pystruct.models import ChainCRF\n",
    "import pystruct.learners as ssvm\n",
    "from pystruct.utils import SaveLogger\n",
    "\n",
    "from sklearn.decomposition import PCA\n",
    "\n",
    "import datetime\n",
    "import random"
   ]
  },
  {
   "cell_type": "code",
   "execution_count": 9,
   "metadata": {
    "collapsed": true
   },
   "outputs": [],
   "source": [
    "test_runs = [\"B\",\"C\",\"D\",\"E\",\"F\"]"
   ]
  },
  {
   "cell_type": "code",
   "execution_count": 10,
   "metadata": {
    "collapsed": true
   },
   "outputs": [],
   "source": [
    "unwanted_recto = [\"VA223RN\",\"VA327RN\",\"VA001RN\",\"VA002RN\",\"VA006RN\",\"VA007RN\",\"VA008RN\",\"VA009RN\"]\n",
    "\n",
    "def get_set_paths(directory):\n",
    "    return sorted(list(filter(lambda x: \"RN\" in x and not any(s in x for s in unwanted_recto) , listpaths(directory))))"
   ]
  },
  {
   "cell_type": "code",
   "execution_count": 11,
   "metadata": {
    "collapsed": false
   },
   "outputs": [
    {
     "name": "stdout",
     "output_type": "stream",
     "text": [
      "150\n"
     ]
    }
   ],
   "source": [
    "label_dir = \"/home/finlay/HMT/data/VenetusA/1200Hx900W/20blocks/labels/\"\n",
    "data_dir = \"/home/finlay/HMT/data/VenetusA/1200Hx900W/20blocks/data/\"    \n",
    "\n",
    "label_paths = get_set_paths(label_dir)\n",
    "data_paths = get_set_paths(data_dir)\n",
    "\n",
    "path_pairs = list(zip(label_paths, data_paths))\n",
    "print(len(path_pairs))"
   ]
  },
  {
   "cell_type": "code",
   "execution_count": 12,
   "metadata": {
    "collapsed": false
   },
   "outputs": [],
   "source": [
    "spir = Spiraliser(60,45)"
   ]
  },
  {
   "cell_type": "code",
   "execution_count": 13,
   "metadata": {
    "collapsed": false
   },
   "outputs": [
    {
     "name": "stdout",
     "output_type": "stream",
     "text": [
      "2016-06-07 14:24:00.770794\n",
      "Training PCA B\n",
      "Training B\n",
      "Training on /home/finlay/HMT/data/VenetusA/1200Hx900W/20blocks/labels/VA056RN-0057.npy\n",
      "Training on /home/finlay/HMT/data/VenetusA/1200Hx900W/20blocks/labels/VA214RN-0215.npy\n",
      "Training on /home/finlay/HMT/data/VenetusA/1200Hx900W/20blocks/labels/VA018RN-0019.npy\n",
      "Training on /home/finlay/HMT/data/VenetusA/1200Hx900W/20blocks/labels/VA091RN-0092.npy\n",
      "Training on /home/finlay/HMT/data/VenetusA/1200Hx900W/20blocks/labels/VA248RN-0249.npy\n",
      "Training on /home/finlay/HMT/data/VenetusA/1200Hx900W/20blocks/labels/VA175RN-0176.npy\n",
      "Training on /home/finlay/HMT/data/VenetusA/1200Hx900W/20blocks/labels/VA080RN-0081.npy\n",
      "Training on /home/finlay/HMT/data/VenetusA/1200Hx900W/20blocks/labels/VA116RN-0288.npy\n",
      "Training on /home/finlay/HMT/data/VenetusA/1200Hx900W/20blocks/labels/VA016RN-0017.npy\n",
      "Training on /home/finlay/HMT/data/VenetusA/1200Hx900W/20blocks/labels/VA305RN-0475.npy\n",
      "Training on /home/finlay/HMT/data/VenetusA/1200Hx900W/20blocks/labels/VA225RN-0396.npy\n",
      "Training on /home/finlay/HMT/data/VenetusA/1200Hx900W/20blocks/labels/VA126RN-0298.npy\n",
      "Training on /home/finlay/HMT/data/VenetusA/1200Hx900W/20blocks/labels/VA209RN-0210.npy\n",
      "Training on /home/finlay/HMT/data/VenetusA/1200Hx900W/20blocks/labels/VA147RN-0148.npy\n",
      "Training on /home/finlay/HMT/data/VenetusA/1200Hx900W/20blocks/labels/VA215RN-0216.npy\n",
      "Training on /home/finlay/HMT/data/VenetusA/1200Hx900W/20blocks/labels/VA171RN-0172.npy\n",
      "Training on /home/finlay/HMT/data/VenetusA/1200Hx900W/20blocks/labels/VA013RN-0014.npy\n",
      "Training on /home/finlay/HMT/data/VenetusA/1200Hx900W/20blocks/labels/VA052RN-0053.npy\n",
      "Training on /home/finlay/HMT/data/VenetusA/1200Hx900W/20blocks/labels/VA184RN-0355.npy\n",
      "Training on /home/finlay/HMT/data/VenetusA/1200Hx900W/20blocks/labels/VA265RN-0435.npy\n",
      "(20, 2700, 20)\n",
      "Testing B\n",
      "Saving B\n",
      "2016-06-07 14:43:35.265965\n",
      "2016-06-07 14:43:35.273516\n",
      "Training PCA C\n",
      "Training C\n",
      "Training on /home/finlay/HMT/data/VenetusA/1200Hx900W/20blocks/labels/VA017RN-0018.npy\n",
      "Training on /home/finlay/HMT/data/VenetusA/1200Hx900W/20blocks/labels/VA225RN-0396.npy\n",
      "Training on /home/finlay/HMT/data/VenetusA/1200Hx900W/20blocks/labels/VA133RN-0134.npy\n",
      "Training on /home/finlay/HMT/data/VenetusA/1200Hx900W/20blocks/labels/VA167RN-0168.npy\n",
      "Training on /home/finlay/HMT/data/VenetusA/1200Hx900W/20blocks/labels/VA238RN-0239.npy\n",
      "Training on /home/finlay/HMT/data/VenetusA/1200Hx900W/20blocks/labels/VA143RN-0315.npy\n",
      "Training on /home/finlay/HMT/data/VenetusA/1200Hx900W/20blocks/labels/VA293RN-0463.npy\n",
      "Training on /home/finlay/HMT/data/VenetusA/1200Hx900W/20blocks/labels/VA015RN-0016.npy\n",
      "Training on /home/finlay/HMT/data/VenetusA/1200Hx900W/20blocks/labels/VA067RN-0068.npy\n",
      "Training on /home/finlay/HMT/data/VenetusA/1200Hx900W/20blocks/labels/VA168RN-0339.npy\n",
      "Training on /home/finlay/HMT/data/VenetusA/1200Hx900W/20blocks/labels/VA286RN-0456.npy\n",
      "Training on /home/finlay/HMT/data/VenetusA/1200Hx900W/20blocks/labels/VA184RN-0355.npy\n",
      "Training on /home/finlay/HMT/data/VenetusA/1200Hx900W/20blocks/labels/VA204RN-0205.npy\n",
      "Training on /home/finlay/HMT/data/VenetusA/1200Hx900W/20blocks/labels/VA014RN-0015.npy\n",
      "Training on /home/finlay/HMT/data/VenetusA/1200Hx900W/20blocks/labels/VA313RN-0483.npy\n",
      "Training on /home/finlay/HMT/data/VenetusA/1200Hx900W/20blocks/labels/VA236RN-0237.npy\n",
      "Training on /home/finlay/HMT/data/VenetusA/1200Hx900W/20blocks/labels/VA016RN-0017.npy\n",
      "Training on /home/finlay/HMT/data/VenetusA/1200Hx900W/20blocks/labels/VA083RN-0084.npy\n",
      "Training on /home/finlay/HMT/data/VenetusA/1200Hx900W/20blocks/labels/VA087RN-0259.npy\n",
      "Training on /home/finlay/HMT/data/VenetusA/1200Hx900W/20blocks/labels/VA106RN-0107.npy\n",
      "(20, 2700, 20)\n",
      "Testing C\n",
      "Saving C\n",
      "2016-06-07 15:00:40.168382\n",
      "2016-06-07 15:00:40.389800\n",
      "Training PCA D\n",
      "Training D\n",
      "Training on /home/finlay/HMT/data/VenetusA/1200Hx900W/20blocks/labels/VA183RN-0354.npy\n",
      "Training on /home/finlay/HMT/data/VenetusA/1200Hx900W/20blocks/labels/VA117RN-0118.npy\n",
      "Training on /home/finlay/HMT/data/VenetusA/1200Hx900W/20blocks/labels/VA175RN-0176.npy\n",
      "Training on /home/finlay/HMT/data/VenetusA/1200Hx900W/20blocks/labels/VA174RN-0345.npy\n",
      "Training on /home/finlay/HMT/data/VenetusA/1200Hx900W/20blocks/labels/VA066RN-0067.npy\n",
      "Training on /home/finlay/HMT/data/VenetusA/1200Hx900W/20blocks/labels/VA305RN-0475.npy\n",
      "Training on /home/finlay/HMT/data/VenetusA/1200Hx900W/20blocks/labels/VA102RN-0103.npy\n",
      "Training on /home/finlay/HMT/data/VenetusA/1200Hx900W/20blocks/labels/VA261RN-0431.npy\n",
      "Training on /home/finlay/HMT/data/VenetusA/1200Hx900W/20blocks/labels/VA304RN-0474.npy\n",
      "Training on /home/finlay/HMT/data/VenetusA/1200Hx900W/20blocks/labels/VA101RN-0102.npy\n",
      "Training on /home/finlay/HMT/data/VenetusA/1200Hx900W/20blocks/labels/VA125RN-0126.npy\n",
      "Training on /home/finlay/HMT/data/VenetusA/1200Hx900W/20blocks/labels/VA082RN-0254.npy\n",
      "Training on /home/finlay/HMT/data/VenetusA/1200Hx900W/20blocks/labels/VA168RN-0339.npy\n",
      "Training on /home/finlay/HMT/data/VenetusA/1200Hx900W/20blocks/labels/VA218RN-0389.npy\n",
      "Training on /home/finlay/HMT/data/VenetusA/1200Hx900W/20blocks/labels/VA160RN-0161.npy\n",
      "Training on /home/finlay/HMT/data/VenetusA/1200Hx900W/20blocks/labels/VA263RN-0433.npy\n",
      "Training on /home/finlay/HMT/data/VenetusA/1200Hx900W/20blocks/labels/VA319RN-0489.npy\n",
      "Training on /home/finlay/HMT/data/VenetusA/1200Hx900W/20blocks/labels/VA092RN-0093.npy\n",
      "Training on /home/finlay/HMT/data/VenetusA/1200Hx900W/20blocks/labels/VA181RN-0182.npy\n",
      "Training on /home/finlay/HMT/data/VenetusA/1200Hx900W/20blocks/labels/VA149RN-0150.npy\n",
      "(20, 2700, 20)\n",
      "Testing D\n",
      "Saving D\n",
      "2016-06-07 15:18:58.012245\n",
      "2016-06-07 15:18:58.019063\n",
      "Training PCA E\n",
      "Training E\n",
      "Training on /home/finlay/HMT/data/VenetusA/1200Hx900W/20blocks/labels/VA068RN-0069.npy\n",
      "Training on /home/finlay/HMT/data/VenetusA/1200Hx900W/20blocks/labels/VA087RN-0259.npy\n",
      "Training on /home/finlay/HMT/data/VenetusA/1200Hx900W/20blocks/labels/VA263RN-0433.npy\n",
      "Training on /home/finlay/HMT/data/VenetusA/1200Hx900W/20blocks/labels/VA146RN-0147.npy\n",
      "Training on /home/finlay/HMT/data/VenetusA/1200Hx900W/20blocks/labels/VA124RN-0296.npy\n",
      "Training on /home/finlay/HMT/data/VenetusA/1200Hx900W/20blocks/labels/VA016RN-0017.npy\n",
      "Training on /home/finlay/HMT/data/VenetusA/1200Hx900W/20blocks/labels/VA106RN-0107.npy\n",
      "Training on /home/finlay/HMT/data/VenetusA/1200Hx900W/20blocks/labels/VA137RN-0309.npy\n",
      "Training on /home/finlay/HMT/data/VenetusA/1200Hx900W/20blocks/labels/VA015RN-0016.npy\n",
      "Training on /home/finlay/HMT/data/VenetusA/1200Hx900W/20blocks/labels/VA091RN-0092.npy\n",
      "Training on /home/finlay/HMT/data/VenetusA/1200Hx900W/20blocks/labels/VA117RN-0118.npy\n",
      "Training on /home/finlay/HMT/data/VenetusA/1200Hx900W/20blocks/labels/VA107RN-0108.npy\n",
      "Training on /home/finlay/HMT/data/VenetusA/1200Hx900W/20blocks/labels/VA180RN-0351.npy\n",
      "Training on /home/finlay/HMT/data/VenetusA/1200Hx900W/20blocks/labels/VA082RN-0254.npy\n",
      "Training on /home/finlay/HMT/data/VenetusA/1200Hx900W/20blocks/labels/VA187RN-0188.npy\n",
      "Training on /home/finlay/HMT/data/VenetusA/1200Hx900W/20blocks/labels/VA078RN-0079.npy\n",
      "Training on /home/finlay/HMT/data/VenetusA/1200Hx900W/20blocks/labels/VA069RN-0070.npy\n",
      "Training on /home/finlay/HMT/data/VenetusA/1200Hx900W/20blocks/labels/VA252RN-0253.npy\n",
      "Training on /home/finlay/HMT/data/VenetusA/1200Hx900W/20blocks/labels/VA054RN-0055.npy\n",
      "Training on /home/finlay/HMT/data/VenetusA/1200Hx900W/20blocks/labels/VA200RN-0201.npy\n",
      "(20, 2700, 20)\n",
      "Testing E\n",
      "Saving E\n",
      "2016-06-07 15:38:26.273367\n",
      "2016-06-07 15:38:26.876068\n",
      "Training PCA F\n",
      "Training F\n",
      "Training on /home/finlay/HMT/data/VenetusA/1200Hx900W/20blocks/labels/VA101RN-0102.npy\n",
      "Training on /home/finlay/HMT/data/VenetusA/1200Hx900W/20blocks/labels/VA082RN-0254.npy\n",
      "Training on /home/finlay/HMT/data/VenetusA/1200Hx900W/20blocks/labels/VA107RN-0108.npy\n",
      "Training on /home/finlay/HMT/data/VenetusA/1200Hx900W/20blocks/labels/VA149RN-0150.npy\n",
      "Training on /home/finlay/HMT/data/VenetusA/1200Hx900W/20blocks/labels/VA110RN-0282.npy\n",
      "Training on /home/finlay/HMT/data/VenetusA/1200Hx900W/20blocks/labels/VA319RN-0489.npy\n",
      "Training on /home/finlay/HMT/data/VenetusA/1200Hx900W/20blocks/labels/VA141RN-0142.npy\n",
      "Training on /home/finlay/HMT/data/VenetusA/1200Hx900W/20blocks/labels/VA200RN-0201.npy\n",
      "Training on /home/finlay/HMT/data/VenetusA/1200Hx900W/20blocks/labels/VA221RN-0222.npy\n",
      "Training on /home/finlay/HMT/data/VenetusA/1200Hx900W/20blocks/labels/VA244RN-0245.npy\n",
      "Training on /home/finlay/HMT/data/VenetusA/1200Hx900W/20blocks/labels/VA167RN-0168.npy\n",
      "Training on /home/finlay/HMT/data/VenetusA/1200Hx900W/20blocks/labels/VA106RN-0107.npy\n",
      "Training on /home/finlay/HMT/data/VenetusA/1200Hx900W/20blocks/labels/VA014RN-0015.npy\n",
      "Training on /home/finlay/HMT/data/VenetusA/1200Hx900W/20blocks/labels/VA117RN-0118.npy\n",
      "Training on /home/finlay/HMT/data/VenetusA/1200Hx900W/20blocks/labels/VA126RN-0298.npy\n",
      "Training on /home/finlay/HMT/data/VenetusA/1200Hx900W/20blocks/labels/VA232RN-0233.npy\n",
      "Training on /home/finlay/HMT/data/VenetusA/1200Hx900W/20blocks/labels/VA093RN-0094.npy\n",
      "Training on /home/finlay/HMT/data/VenetusA/1200Hx900W/20blocks/labels/VA261RN-0431.npy\n",
      "Training on /home/finlay/HMT/data/VenetusA/1200Hx900W/20blocks/labels/VA194RN-0195.npy\n",
      "Training on /home/finlay/HMT/data/VenetusA/1200Hx900W/20blocks/labels/VA080RN-0081.npy\n",
      "(20, 2700, 20)\n",
      "Testing F\n",
      "Saving F\n",
      "2016-06-07 15:56:40.717894\n"
     ]
    }
   ],
   "source": [
    "for letter in test_runs:\n",
    "    split_at = 20\n",
    "    random.shuffle(path_pairs)\n",
    "    train = path_pairs[:split_at]\n",
    "    test = path_pairs[split_at:]\n",
    "    \n",
    "    oot_path = os.path.join(\"/home/finlay/HMT/data/VenetusA/1200Hx900W/20blocks/PCA_20_Spiral_Chain_CRF\", letter)\n",
    "    mkdir(oot_path)\n",
    " \n",
    "    crf = ChainCRF()\n",
    "    clf = ssvm.OneSlackSSVM(model=crf,n_jobs=-1, C=100, inference_cache=100, tol=.1,\n",
    "                           logger=SaveLogger(oot_path+'.pickle', save_every=100))\n",
    "    \n",
    "    pca = PCA(n_components=20)\n",
    "    print(datetime.datetime.now())\n",
    "    print(\"Training PCA %s\" %letter)\n",
    "    for l, d in train:\n",
    "        X = spir.flatten(np.load(d))\n",
    "        #y = np.squeeze(flatten_vector_matrix(np.load(l)))\n",
    "        pca.fit(X)\n",
    "  \n",
    "    print(\"Training %s\" %letter)\n",
    "    train_X = []\n",
    "    train_y = []\n",
    "    for l, d in train:\n",
    "        print(\"Training on %s\" %l)\n",
    "        train_X.append(pca.transform(spir.flatten(np.load(d))))\n",
    "        train_y.append(np.squeeze(spir.flatten(np.load(l)).astype('int')))\n",
    "    print(np.array(train_X).shape)\n",
    "    clf.fit(train_X, train_y)\n",
    "        \n",
    "    print(\"Testing %s\" %letter)\n",
    "    test_results = []\n",
    "    for l, d in test:\n",
    "        X = pca.transform(spir.flatten(np.load(d)))\n",
    "        pred = np.asarray(clf.predict([X]))\n",
    "        test_results.append({\n",
    "            'name': only_basename(l),\n",
    "            'pred': spir.reshape(pred[0]),\n",
    "            })\n",
    "    \n",
    "    print(\"Saving %s\" %letter)\n",
    "    for result in test_results:\n",
    "        path = format_path(oot_path, 'npy', result['name'])\n",
    "        np.save(path, scale_matrix(result['pred'], 20))\n",
    "    print(datetime.datetime.now())\n"
   ]
  },
  {
   "cell_type": "code",
   "execution_count": 15,
   "metadata": {
    "collapsed": false
   },
   "outputs": [
    {
     "data": {
      "text/plain": [
       "60.0"
      ]
     },
     "execution_count": 15,
     "metadata": {},
     "output_type": "execute_result"
    }
   ],
   "source": [
    "900/15\n"
   ]
  },
  {
   "cell_type": "code",
   "execution_count": null,
   "metadata": {
    "collapsed": false
   },
   "outputs": [],
   "source": [
    "train_X.shape"
   ]
  },
  {
   "cell_type": "code",
   "execution_count": null,
   "metadata": {
    "collapsed": false
   },
   "outputs": [],
   "source": [
    "wit = np.load(d)\n",
    "pwit = pca.transform(spir.flatten(wit))"
   ]
  },
  {
   "cell_type": "code",
   "execution_count": null,
   "metadata": {
    "collapsed": false
   },
   "outputs": [],
   "source": [
    "pred = clf.predict([pwit])"
   ]
  },
  {
   "cell_type": "code",
   "execution_count": null,
   "metadata": {
    "collapsed": false
   },
   "outputs": [],
   "source": [
    "plt.imshow(spir.reshape(pred[0]))"
   ]
  },
  {
   "cell_type": "code",
   "execution_count": null,
   "metadata": {
    "collapsed": true
   },
   "outputs": [],
   "source": []
  }
 ],
 "metadata": {
  "kernelspec": {
   "display_name": "Python 3",
   "language": "python",
   "name": "python3"
  },
  "language_info": {
   "codemirror_mode": {
    "name": "ipython",
    "version": 3
   },
   "file_extension": ".py",
   "mimetype": "text/x-python",
   "name": "python",
   "nbconvert_exporter": "python",
   "pygments_lexer": "ipython3",
   "version": "3.5.1"
  }
 },
 "nbformat": 4,
 "nbformat_minor": 0
}
