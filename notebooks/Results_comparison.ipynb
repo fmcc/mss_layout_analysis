{
 "cells": [
  {
   "cell_type": "code",
   "execution_count": 1,
   "metadata": {
    "collapsed": true
   },
   "outputs": [],
   "source": [
    "%matplotlib inline"
   ]
  },
  {
   "cell_type": "code",
   "execution_count": 60,
   "metadata": {
    "collapsed": true
   },
   "outputs": [],
   "source": [
    "import numpy as np\n",
    "import matplotlib.pyplot as plt\n",
    "import matplotlib as mpl\n",
    "from msslib.data import *\n",
    "import functools as f"
   ]
  },
  {
   "cell_type": "code",
   "execution_count": 31,
   "metadata": {
    "collapsed": false
   },
   "outputs": [],
   "source": [
    "cent_10 = np.load(\"/home/finlay/HMT/data/VenetusA/1200Hx900W/10blocks/nearest_centroid/results.npy\")\n",
    "cent_20 = np.load(\"/home/finlay/HMT/data/VenetusA/1200Hx900W/20blocks/nearest_centroid/results.npy\")\n",
    "LDA_cent_10 = np.load(\"/home/finlay/HMT/data/VenetusA/1200Hx900W/10blocks/LDA_nearest_centroid/results.npy\")\n",
    "LDA_cent_20 = np.load(\"/home/finlay/HMT/data/VenetusA/1200Hx900W/20blocks/LDA_nearest_centroid/results.npy\")"
   ]
  },
  {
   "cell_type": "code",
   "execution_count": 32,
   "metadata": {
    "collapsed": true
   },
   "outputs": [],
   "source": [
    "def normalise_confusion_matrix(cm: np.ndarray):\n",
    "    return cm.astype('float') / cm.sum(axis=1)[:, np.newaxis]\n",
    "\n",
    "def plot_confusion_matrix(plt, score):\n",
    "    c_m = normalise_confusion_matrix(score['c_matrix'])\n",
    "    plt.imshow(c_m, interpolation='nearest', cmap=plt.cm.YlGn, vmin=0, vmax=1)"
   ]
  },
  {
   "cell_type": "code",
   "execution_count": 82,
   "metadata": {
    "collapsed": false
   },
   "outputs": [],
   "source": [
    "scores = []"
   ]
  },
  {
   "cell_type": "code",
   "execution_count": 83,
   "metadata": {
    "collapsed": false
   },
   "outputs": [],
   "source": [
    "naw = cent_10\n",
    "aye = [y['c_matrix'] for y in naw]\n",
    "wit = f.reduce(lambda x,y: x + y, aye)\n",
    "scores.append({'label':\"10px blocks\", 'c_matrix': wit})"
   ]
  },
  {
   "cell_type": "code",
   "execution_count": 84,
   "metadata": {
    "collapsed": false
   },
   "outputs": [],
   "source": [
    "naw = cent_20\n",
    "aye = [y['c_matrix'] for y in naw]\n",
    "wit = f.reduce(lambda x,y: x + y, aye)\n",
    "scores.append({'label':\"20px blocks\", 'c_matrix': wit})"
   ]
  },
  {
   "cell_type": "code",
   "execution_count": 92,
   "metadata": {
    "collapsed": false
   },
   "outputs": [
    {
     "data": {
      "image/png": "[encoded data removed]",
      "text/plain": [
       "<matplotlib.figure.Figure at 0x7f752179f898>"
      ]
     },
     "metadata": {},
     "output_type": "display_data"
    }
   ],
   "source": [
    "#mpl.use('pgf')\n",
    "fig, axes = plt.subplots(1, 2, figsize=(10,3.7),sharex='col', sharey='row')\n",
    "\n",
    "#tick_marks = np.arange(len(mss_labels))\n",
    "axes[0].set_yticklabels(['']+mss_labels)\n",
    "#axes[1].set_yticklabels(['']+mss_labels)\n",
    "axes[0].set_xticklabels(['']+mss_labels,ha='right', rotation=45)\n",
    "axes[1].set_xticklabels(['']+mss_labels,ha='right', rotation=45)\n",
    "\n",
    "for a, s in zip(axes.flat, scores):\n",
    "    a.set_title(s['label'])\n",
    "    c_m = normalise_confusion_matrix(s['c_matrix'])\n",
    "    a.grid(None)\n",
    "    im = a.imshow(c_m, interpolation='nearest', cmap=plt.cm.YlGn, vmin=0, vmax=1)\n",
    "    \n",
    "cax,kw = mpl.colorbar.make_axes([ax for ax in axes.flat], aspect=70)\n",
    "plt.colorbar(im, cax=cax, **kw)\n",
    "\n",
    "fig.savefig('/home/finlay/confusion.svg', layout='tight')"
   ]
  },
  {
   "cell_type": "code",
   "execution_count": 94,
   "metadata": {
    "collapsed": false
   },
   "outputs": [],
   "source": [
    "for i in cent_10:\n",
    "    del i['c_matrix']"
   ]
  },
  {
   "cell_type": "code",
   "execution_count": 96,
   "metadata": {
    "collapsed": false
   },
   "outputs": [
    {
     "data": {
      "text/plain": [
       "array([ {'label': 'A', 'precision': 0.75897275857098134, 'fscore': 0.62601990274166741, 'recall': 0.57762610449735452},\n",
       "       {'label': 'B', 'precision': 0.80876622020432165, 'fscore': 0.71598368973970805, 'recall': 0.68854206349206348},\n",
       "       {'label': 'C', 'precision': 0.82479237979727427, 'fscore': 0.73806158757534512, 'recall': 0.71705726851851848},\n",
       "       {'label': 'D', 'precision': 0.83349681356311756, 'fscore': 0.70384465836013332, 'recall': 0.6353192658730159},\n",
       "       {'label': 'E', 'precision': 0.82788727927177697, 'fscore': 0.73696793979632458, 'recall': 0.6941417394179894},\n",
       "       {'label': 'F', 'precision': 0.82738515474360963, 'fscore': 0.73365636088309705, 'recall': 0.7012080224867725}], dtype=object)"
      ]
     },
     "execution_count": 96,
     "metadata": {},
     "output_type": "execute_result"
    }
   ],
   "source": [
    "cent_10\n"
   ]
  },
  {
   "cell_type": "code",
   "execution_count": 106,
   "metadata": {
    "collapsed": false
   },
   "outputs": [],
   "source": [
    "\n"
   ]
  },
  {
   "cell_type": "code",
   "execution_count": 97,
   "metadata": {
    "collapsed": true
   },
   "outputs": [],
   "source": [
    "for i in cent_20:\n",
    "    del i['c_matrix']"
   ]
  },
  {
   "cell_type": "code",
   "execution_count": 121,
   "metadata": {
    "collapsed": true
   },
   "outputs": [],
   "source": [
    "f_20 = np.around(np.mean([i['fscore'] for i in cent_20]), decimals=2)\n",
    "p_20 = np.around(np.mean([i['precision'] for i in cent_20]), decimals=2)\n",
    "r_20 = np.around(np.mean([i['recall'] for i in cent_20]), decimals=2)"
   ]
  },
  {
   "cell_type": "code",
   "execution_count": 122,
   "metadata": {
    "collapsed": false
   },
   "outputs": [
    {
     "name": "stdout",
     "output_type": "stream",
     "text": [
      "A 0.71 0.81 0.68\n",
      "B 0.72 0.83 0.66\n",
      "C 0.63 0.77 0.59\n",
      "D 0.67 0.77 0.63\n",
      "E 0.66 0.79 0.61\n",
      "F 0.76 0.83 0.71\n",
      "Mean 0.69 0.8 0.65\n"
     ]
    }
   ],
   "source": [
    "for i in cent_20:\n",
    "    print(i['label'], np.around(i['fscore'], decimals=2),\n",
    "          np.around(i['precision'], decimals=2), \n",
    "    np.around(i['recall'], decimals=2))\n",
    "print(\"Mean\", f_20, p_20, r_20)"
   ]
  },
  {
   "cell_type": "code",
   "execution_count": 123,
   "metadata": {
    "collapsed": false
   },
   "outputs": [],
   "source": [
    "f_10 = np.around(np.mean([i['fscore'] for i in cent_10]), decimals=2)\n",
    "p_10 = np.around(np.mean([i['precision'] for i in cent_10]), decimals=2)\n",
    "r_10 = np.around(np.mean([i['recall'] for i in cent_10]), decimals=2)"
   ]
  },
  {
   "cell_type": "code",
   "execution_count": 124,
   "metadata": {
    "collapsed": false
   },
   "outputs": [
    {
     "name": "stdout",
     "output_type": "stream",
     "text": [
      "A 0.63 0.76 0.58\n",
      "B 0.72 0.81 0.69\n",
      "C 0.74 0.82 0.72\n",
      "D 0.7 0.83 0.64\n",
      "E 0.74 0.83 0.69\n",
      "F 0.73 0.83 0.7\n",
      "Mean 0.71 0.81 0.67\n"
     ]
    }
   ],
   "source": [
    "for i in cent_10:\n",
    "    print(i['label'], np.around(i['fscore'], decimals=2),\n",
    "          np.around(i['precision'], decimals=2), \n",
    "    np.around(i['recall'], decimals=2))\n",
    "print(\"Mean\", f_10, p_10, r_10)"
   ]
  },
  {
   "cell_type": "code",
   "execution_count": 108,
   "metadata": {
    "collapsed": false
   },
   "outputs": [
    {
     "data": {
      "text/plain": [
       "(0.69145157540112889, 0.80203137330130059, 0.6465526049382716)"
      ]
     },
     "execution_count": 108,
     "metadata": {},
     "output_type": "execute_result"
    }
   ],
   "source": [
    "f_20, p_20, r_20"
   ]
  },
  {
   "cell_type": "code",
   "execution_count": null,
   "metadata": {
    "collapsed": true
   },
   "outputs": [],
   "source": []
  }
 ],
 "metadata": {
  "kernelspec": {
   "display_name": "Python 3",
   "language": "python",
   "name": "python3"
  },
  "language_info": {
   "codemirror_mode": {
    "name": "ipython",
    "version": 3
   },
   "file_extension": ".py",
   "mimetype": "text/x-python",
   "name": "python",
   "nbconvert_exporter": "python",
   "pygments_lexer": "ipython3",
   "version": "3.5.1"
  }
 },
 "nbformat": 4,
 "nbformat_minor": 0
}
