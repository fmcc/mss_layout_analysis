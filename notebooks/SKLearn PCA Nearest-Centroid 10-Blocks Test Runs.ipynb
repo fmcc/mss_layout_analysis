{
 "cells": [
  {
   "cell_type": "code",
   "execution_count": 1,
   "metadata": {
    "collapsed": true
   },
   "outputs": [],
   "source": [
    "%matplotlib inline"
   ]
  },
  {
   "cell_type": "code",
   "execution_count": 2,
   "metadata": {
    "collapsed": true
   },
   "outputs": [],
   "source": [
    "import numpy as np\n",
    "from scipy import misc\n",
    "import matplotlib.pyplot as plt\n",
    "\n",
    "from sklearn.neighbors.nearest_centroid import NearestCentroid\n",
    "from sklearn.decomposition import PCA\n",
    "\n",
    "from msslib.utils import *\n",
    "from msslib.data import *\n",
    "\n",
    "import random"
   ]
  },
  {
   "cell_type": "code",
   "execution_count": 3,
   "metadata": {
    "collapsed": false
   },
   "outputs": [],
   "source": [
    "unwanted_recto = [\"VA223RN\",\"VA327RN\",\"VA001RN\",\"VA002RN\",\"VA006RN\",\"VA007RN\",\"VA008RN\",\"VA009RN\"]\n",
    "\n",
    "def get_set_paths(directory):\n",
    "    return sorted(list(filter(lambda x: \"RN\" in x and not any(s in x for s in unwanted_recto) , listpaths(directory))))"
   ]
  },
  {
   "cell_type": "code",
   "execution_count": 4,
   "metadata": {
    "collapsed": false
   },
   "outputs": [
    {
     "name": "stdout",
     "output_type": "stream",
     "text": [
      "150\n"
     ]
    }
   ],
   "source": [
    "label_dir = \"/home/finlay/HMT/data/VenetusA/1200Hx900W/10blocks/labels/\"\n",
    "data_dir = \"/home/finlay/HMT/data/VenetusA/1200Hx900W/10blocks/data/\"    \n",
    "\n",
    "label_paths = get_set_paths(label_dir)\n",
    "data_paths = get_set_paths(data_dir)\n",
    "\n",
    "path_pairs = list(zip(label_paths, data_paths))\n",
    "print(len(path_pairs))\n",
    "\n",
    "test_runs = [\"A\",\"B\",\"C\",\"D\",\"E\",\"F\"]"
   ]
  },
  {
   "cell_type": "code",
   "execution_count": 5,
   "metadata": {
    "collapsed": false
   },
   "outputs": [
    {
     "name": "stdout",
     "output_type": "stream",
     "text": [
      "Training PCA A\n",
      "Training A\n",
      "Testing A\n",
      "Saving A\n",
      "Training PCA B\n",
      "Training B\n",
      "Testing B\n",
      "Saving B\n",
      "Training PCA C\n",
      "Training C\n",
      "Testing C\n",
      "Saving C\n",
      "Training PCA D\n",
      "Training D\n",
      "Testing D\n",
      "Saving D\n",
      "Training PCA E\n",
      "Training E\n",
      "Testing E\n",
      "Saving E\n",
      "Training PCA F\n",
      "Training F\n",
      "Testing F\n",
      "Saving F\n"
     ]
    }
   ],
   "source": [
    "for letter in test_runs:\n",
    "    split_at = 50\n",
    "    random.shuffle(path_pairs)\n",
    "    train = path_pairs[:split_at]\n",
    "    test = path_pairs[split_at:]\n",
    "    clf = NearestCentroid()\n",
    "    pca = PCA(n_components=20)\n",
    "    print(\"Training PCA %s\" %letter)\n",
    "    for l, d in train:\n",
    "        X = flatten_vector_matrix(np.load(d))\n",
    "        #y = np.squeeze(flatten_vector_matrix(np.load(l)))\n",
    "        pca.fit(X)\n",
    "  \n",
    "    print(\"Training %s\" %letter)\n",
    "    for l, d in train:\n",
    "        X = pca.transform(flatten_vector_matrix(np.load(d)))\n",
    "        y = np.squeeze(flatten_vector_matrix(np.load(l)))\n",
    "        clf.fit(X, y)\n",
    "        \n",
    "    print(\"Testing %s\" %letter)\n",
    "    test_results = []\n",
    "    for l, d in test:\n",
    "        X = pca.transform(flatten_vector_matrix(np.load(d)))\n",
    "        y = np.squeeze(flatten_vector_matrix(np.load(l)))\n",
    "        pred = clf.predict(X)\n",
    "        test_results.append({\n",
    "            'name': only_basename(l),\n",
    "            'pred': pred.reshape(120,90),\n",
    "            })\n",
    "    oot_path = os.path.join(\"/home/finlay/HMT/data/VenetusA/1200Hx900W/10blocks/PCA_20_nearest_centroid/\", letter)\n",
    "    mkdir(oot_path)\n",
    "    print(\"Saving %s\" %letter)\n",
    "    for result in test_results:\n",
    "        path = format_path(oot_path, 'npy', result['name'])\n",
    "        np.save(path, scale_matrix(result['pred'], 10))"
   ]
  },
  {
   "cell_type": "code",
   "execution_count": 20,
   "metadata": {
    "collapsed": false
   },
   "outputs": [
    {
     "data": {
      "text/plain": [
       "array([ 0.,  1.,  2.,  3.,  4.])"
      ]
     },
     "execution_count": 20,
     "metadata": {},
     "output_type": "execute_result"
    }
   ],
   "source": [
    "np.unique(test_results[40]['pred'])"
   ]
  },
  {
   "cell_type": "code",
   "execution_count": 11,
   "metadata": {
    "collapsed": false
   },
   "outputs": [
    {
     "data": {
      "text/plain": [
       "<matplotlib.image.AxesImage at 0x7f27f921f5c0>"
      ]
     },
     "execution_count": 11,
     "metadata": {},
     "output_type": "execute_result"
    },
    {
     "data": {
      "image/png": "[encoded data removed]",
      "text/plain": [
       "<matplotlib.figure.Figure at 0x7f27f925b4a8>"
      ]
     },
     "metadata": {},
     "output_type": "display_data"
    }
   ],
   "source": [
    "plt.imshow(label_colour_image(test_results[22]['pred']), interpolation='nearest')"
   ]
  },
  {
   "cell_type": "code",
   "execution_count": null,
   "metadata": {
    "collapsed": false
   },
   "outputs": [],
   "source": []
  },
  {
   "cell_type": "code",
   "execution_count": null,
   "metadata": {
    "collapsed": false
   },
   "outputs": [],
   "source": []
  },
  {
   "cell_type": "code",
   "execution_count": null,
   "metadata": {
    "collapsed": false
   },
   "outputs": [],
   "source": []
  },
  {
   "cell_type": "code",
   "execution_count": null,
   "metadata": {
    "collapsed": false
   },
   "outputs": [],
   "source": []
  },
  {
   "cell_type": "code",
   "execution_count": null,
   "metadata": {
    "collapsed": false
   },
   "outputs": [],
   "source": []
  },
  {
   "cell_type": "code",
   "execution_count": null,
   "metadata": {
    "collapsed": false
   },
   "outputs": [],
   "source": []
  },
  {
   "cell_type": "code",
   "execution_count": null,
   "metadata": {
    "collapsed": false
   },
   "outputs": [],
   "source": []
  },
  {
   "cell_type": "code",
   "execution_count": null,
   "metadata": {
    "collapsed": true
   },
   "outputs": [],
   "source": []
  },
  {
   "cell_type": "code",
   "execution_count": null,
   "metadata": {
    "collapsed": true
   },
   "outputs": [],
   "source": []
  }
 ],
 "metadata": {
  "kernelspec": {
   "display_name": "Python 3",
   "language": "python",
   "name": "python3"
  },
  "language_info": {
   "codemirror_mode": {
    "name": "ipython",
    "version": 3
   },
   "file_extension": ".py",
   "mimetype": "text/x-python",
   "name": "python",
   "nbconvert_exporter": "python",
   "pygments_lexer": "ipython3",
   "version": "3.5.1"
  }
 },
 "nbformat": 4,
 "nbformat_minor": 0
}
