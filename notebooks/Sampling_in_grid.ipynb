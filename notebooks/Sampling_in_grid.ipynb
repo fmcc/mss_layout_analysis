{
 "cells": [
  {
   "cell_type": "code",
   "execution_count": 1,
   "metadata": {
    "collapsed": true
   },
   "outputs": [],
   "source": [
    "%matplotlib inline\n",
    "from msslib.prepare import *\n",
    "from msslib.sample import *\n",
    "from msslib.features import *\n",
    "from msslib.cluster import *\n",
    "import matplotlib.pyplot as plt\n",
    "from scipy.cluster import vq\n",
    "import functools as f\n",
    "from collections import Counter"
   ]
  },
  {
   "cell_type": "code",
   "execution_count": 2,
   "metadata": {
    "collapsed": false
   },
   "outputs": [],
   "source": [
    "img_path = \"/home/finlay/HMT/original_images/VenetusA/VA183VN-0685.jpg\"\n",
    "label_path = \"/home/finlay/HMT/data/VenetusA/region_img/VA183VN-0685.png\"\n",
    "page_path = \"/home/finlay/HMT/data/VenetusA/region_xml/VA183VN-0685.xml\""
   ]
  },
  {
   "cell_type": "code",
   "execution_count": 3,
   "metadata": {
    "collapsed": true
   },
   "outputs": [],
   "source": [
    "# Define the size of window for samples\n",
    "window_size = 41\n",
    "# Initialise a weighting function for this window size\n",
    "weighter = gaussian_weighter(window_size)\n",
    "# Initialise a function to get a window of this size from an image\n",
    "windower = f.partial(win_centred_on, window=window_size)\n",
    "# Initialise a function to shift a point to accomodate a border from this window size. \n",
    "shifter = f.partial(point_shift, window=window_size)\n",
    "# Initialise a scaling function for images. \n",
    "resizer = img_resizer((1200,900))\n",
    "# Define the sampling function\n",
    "make_observations = compose(prepare_features, real_fft, weighter, std_dev_contrast_stretch)\n",
    "# Open the two images \n",
    "img, label = open_image_label(page_path, img_path, label_path)\n",
    "# Scale both images down\n",
    "img, label = resizer(img, label)\n",
    "\n",
    "# Create an image for sampling with FFT \n",
    "f_img = prepare_fft_image(img, window_size)\n",
    "\n",
    "#define methods to access images.\n",
    "access_img = img_accessor(img, identity)\n",
    "access_label = img_accessor(label, identity)\n",
    "access_f_img = img_accessor(f_img, compose(windower, shifter))\n"
   ]
  },
  {
   "cell_type": "code",
   "execution_count": null,
   "metadata": {
    "collapsed": false
   },
   "outputs": [],
   "source": [
    "def most_common(l):\n",
    "    c = Counter(l)\n",
    "    if len(c) == 1:\n",
    "        return c.most_common(1)[0][0]\n",
    "    else:\n",
    "        return 80"
   ]
  },
  {
   "cell_type": "code",
   "execution_count": null,
   "metadata": {
    "collapsed": false
   },
   "outputs": [],
   "source": [
    "#def samples_in_window(window)\n",
    "new_img = np.zeros_like(label)\n",
    "i = 0\n",
    "for w in win_iter((1200,900),(20,20),20):\n",
    "    block_obs = take_n_samples(10, random_point_in_window(w), compose(make_observations, access_f_img))\n",
    "    np.asarray(block_obs)\n",
    "    #new_img[w] = most_common(take_n_samples(10, random_point_in_window(w), access_label))\n",
    "    #new_img[w] = take_n_samples(10, coord_in_window, compose(make_observations, access_f_img))\n",
    "    "
   ]
  },
  {
   "cell_type": "code",
   "execution_count": null,
   "metadata": {
    "collapsed": false
   },
   "outputs": [],
   "source": [
    "plt.imshow(new_img, cmap='gray')"
   ]
  },
  {
   "cell_type": "code",
   "execution_count": null,
   "metadata": {
    "collapsed": false
   },
   "outputs": [],
   "source": [
    "np.unique(new_img)"
   ]
  },
  {
   "cell_type": "code",
   "execution_count": null,
   "metadata": {
    "collapsed": false
   },
   "outputs": [],
   "source": [
    "plt.imshow(new_img1)"
   ]
  },
  {
   "cell_type": "code",
   "execution_count": null,
   "metadata": {
    "collapsed": false
   },
   "outputs": [],
   "source": [
    "# import the necessary packages\n",
    "from skimage.segmentation import slic\n",
    "from skimage.segmentation import mark_boundaries\n",
    "from skimage.util import img_as_float\n",
    "from skimage import io\n",
    "import matplotlib.pyplot as plt\n",
    "\n",
    " \n",
    "# load the image and convert it to a floating point data type\n",
    "image = img_as_float(img)\n",
    " \n",
    "# loop over the number of segments\n",
    "for numSegments in (100, 200, 300):\n",
    "    # apply SLIC and extract (approximately) the supplied number\n",
    "    # of segments\n",
    "    segments = slic(image, n_segments =numSegments, sigma=5, min_size_factor=4000)\n",
    "    misc.imsave(\"super_%d.jpg\"%numSegments, mark_boundaries(image, segments))\n"
   ]
  },
  {
   "cell_type": "code",
   "execution_count": 7,
   "metadata": {
    "collapsed": false
   },
   "outputs": [
    {
     "data": {
      "text/plain": [
       "(3, 3, 3)"
      ]
     },
     "execution_count": 7,
     "metadata": {},
     "output_type": "execute_result"
    }
   ],
   "source": [
    "result_matrix((100,100),(30,30), z=(3,)).shape"
   ]
  },
  {
   "cell_type": "code",
   "execution_count": null,
   "metadata": {
    "collapsed": false
   },
   "outputs": [],
   "source": [
    "aye = np.empty((3,3))"
   ]
  },
  {
   "cell_type": "code",
   "execution_count": null,
   "metadata": {
    "collapsed": false
   },
   "outputs": [],
   "source": [
    "for w in zip(point_iter(aye), win_iter((30,32), 10)):\n",
    "    print(w)"
   ]
  },
  {
   "cell_type": "code",
   "execution_count": null,
   "metadata": {
    "collapsed": false
   },
   "outputs": [],
   "source": [
    "aye = np.empty((2,3,3))"
   ]
  },
  {
   "cell_type": "code",
   "execution_count": null,
   "metadata": {
    "collapsed": false
   },
   "outputs": [],
   "source": [
    "aye[0,0] = np.array([3,4,5])\n",
    "    "
   ]
  },
  {
   "cell_type": "code",
   "execution_count": null,
   "metadata": {
    "collapsed": false
   },
   "outputs": [],
   "source": [
    "s = (2, 2)\n",
    "t = (*3,)"
   ]
  },
  {
   "cell_type": "code",
   "execution_count": null,
   "metadata": {
    "collapsed": false
   },
   "outputs": [],
   "source": [
    "wit = [[1,2],[3,4]]"
   ]
  },
  {
   "cell_type": "code",
   "execution_count": null,
   "metadata": {
    "collapsed": false
   },
   "outputs": [],
   "source": []
  },
  {
   "cell_type": "code",
   "execution_count": null,
   "metadata": {
    "collapsed": false
   },
   "outputs": [],
   "source": []
  },
  {
   "cell_type": "code",
   "execution_count": null,
   "metadata": {
    "collapsed": false
   },
   "outputs": [],
   "source": [
    "4/3"
   ]
  },
  {
   "cell_type": "code",
   "execution_count": null,
   "metadata": {
    "collapsed": true
   },
   "outputs": [],
   "source": []
  }
 ],
 "metadata": {
  "kernelspec": {
   "display_name": "Python 3",
   "language": "python",
   "name": "python3"
  },
  "language_info": {
   "codemirror_mode": {
    "name": "ipython",
    "version": 3
   },
   "file_extension": ".py",
   "mimetype": "text/x-python",
   "name": "python",
   "nbconvert_exporter": "python",
   "pygments_lexer": "ipython3",
   "version": "3.5.1"
  }
 },
 "nbformat": 4,
 "nbformat_minor": 0
}
