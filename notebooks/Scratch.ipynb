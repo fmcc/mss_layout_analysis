{
 "cells": [
  {
   "cell_type": "code",
   "execution_count": 1,
   "metadata": {
    "collapsed": true
   },
   "outputs": [],
   "source": [
    "%matplotlib inline "
   ]
  },
  {
   "cell_type": "code",
   "execution_count": 18,
   "metadata": {
    "collapsed": false
   },
   "outputs": [],
   "source": [
    "from scipy import misc\n",
    "import matplotlib.pyplot as plt\n",
    "import numpy as np\n",
    "from msslib.utils import *"
   ]
  },
  {
   "cell_type": "code",
   "execution_count": 19,
   "metadata": {
    "collapsed": false
   },
   "outputs": [],
   "source": [
    "paths = listpaths(\"/home/finlay/Dropbox/struct_pred_poster/small_examples_orig/\")\n",
    "label_dir = \"/home/finlay/HMT/data/VenetusA/1200Hx900W/20blocks/LDA_20_Grid_CRF/F/\"\n",
    "label_paths = [format_path(label_dir, 'npy', only_basename(p)) for p in paths]"
   ]
  },
  {
   "cell_type": "code",
   "execution_count": 20,
   "metadata": {
    "collapsed": false
   },
   "outputs": [],
   "source": [
    "oot_path = \"/home/finlay/Dropbox/struct_pred_poster/small_examples_label/\"\n",
    "mkdir(oot_path)\n",
    "for l_p in label_paths:\n",
    "    label = np.load(l_p)\n",
    "    misc.imsave(format_path(oot_path, 'png', only_basename(l_p)), label)"
   ]
  },
  {
   "cell_type": "code",
   "execution_count": 21,
   "metadata": {
    "collapsed": false
   },
   "outputs": [
    {
     "data": {
      "text/plain": [
       "<matplotlib.image.AxesImage at 0x7f1f6091f5f8>"
      ]
     },
     "execution_count": 21,
     "metadata": {},
     "output_type": "execute_result"
    },
    {
     "data": {
      "image/png": "[encoded data removed]",
      "text/plain": [
       "<matplotlib.figure.Figure at 0x7f1f609939b0>"
      ]
     },
     "metadata": {},
     "output_type": "display_data"
    }
   ],
   "source": [
    "plt.imshow(label)"
   ]
  },
  {
   "cell_type": "code",
   "execution_count": 40,
   "metadata": {
    "collapsed": false
   },
   "outputs": [],
   "source": [
    "l1_path = \"/home/finlay/HMT/data/VenetusA/1200Hx900W/15blocks/LDA_Grid_CRF/A/VA239RN-0410.npy\"\n",
    "l2_path = \"/home/finlay/HMT/data/VenetusA/1200Hx900W/15blocks/LDA_Grid_CRF/B/VA239RN-0410.npy\"\n",
    "l3_path = \"/home/finlay/HMT/data/VenetusA/1200Hx900W/15blocks/LDA_Grid_CRF/C/VA239RN-0410.npy\"\n",
    "l4_path = \"/home/finlay/HMT/data/VenetusA/1200Hx900W/15blocks/LDA_Grid_CRF/D/VA239RN-0410.npy\"\n",
    "l5_path = \"/home/finlay/HMT/data/VenetusA/1200Hx900W/15blocks/LDA_Grid_CRF/E/VA239RN-0410.npy\"\n",
    "#l6_path = \"/home/finlay/HMT/data/VenetusA/1200Hx900W/15blocks/LDA_Grid_CRF/F/VA239RN-0410.npy\"\n",
    "label1 = np.load(l1_path)\n",
    "label2 = np.load(l2_path)\n",
    "label3 = np.load(l3_path)\n",
    "label4 = np.load(l4_path)\n",
    "label5 = np.load(l5_path)\n",
    "#label6 = np.load(l6_path)"
   ]
  },
  {
   "cell_type": "code",
   "execution_count": 46,
   "metadata": {
    "collapsed": false
   },
   "outputs": [
    {
     "data": {
      "text/plain": [
       "<matplotlib.image.AxesImage at 0x7f832b687048>"
      ]
     },
     "execution_count": 46,
     "metadata": {},
     "output_type": "execute_result"
    },
    {
     "data": {
      "image/png": "[encoded data removed]",
      "text/plain": [
       "<matplotlib.figure.Figure at 0x7f832b6c14a8>"
      ]
     },
     "metadata": {},
     "output_type": "display_data"
    }
   ],
   "source": [
    "plt.imshow(label6)"
   ]
  },
  {
   "cell_type": "code",
   "execution_count": 47,
   "metadata": {
    "collapsed": false
   },
   "outputs": [],
   "source": [
    "misc.imsave(\"/home/finlay/Documents/struct_pred_poster/20_grid.png\", label6)"
   ]
  },
  {
   "cell_type": "code",
   "execution_count": 34,
   "metadata": {
    "collapsed": false
   },
   "outputs": [
    {
     "data": {
      "text/plain": [
       "<matplotlib.image.AxesImage at 0x7f83ef641b70>"
      ]
     },
     "execution_count": 34,
     "metadata": {},
     "output_type": "execute_result"
    },
    {
     "data": {
      "image/png": "[encoded data removed]",
      "text/plain": [
       "<matplotlib.figure.Figure at 0x7f83ef66f3c8>"
      ]
     },
     "metadata": {},
     "output_type": "display_data"
    }
   ],
   "source": [
    "plt.imshow(std_aye, cmap='gray', interpolation='nearest')"
   ]
  },
  {
   "cell_type": "code",
   "execution_count": null,
   "metadata": {
    "collapsed": true
   },
   "outputs": [],
   "source": [
    "from skimage.segmentation import slic\n",
    "from skimage.segmentation import mark_boundaries\n",
    "from skimage.util import img_as_float\n",
    "from skimage import io\n",
    " "
   ]
  },
  {
   "cell_type": "code",
   "execution_count": 96,
   "metadata": {
    "collapsed": false
   },
   "outputs": [],
   "source": [
    "img_path = \"/home/finlay/HMT/data/VenetusA/1200Hx900W/images/VA027RN-0028.jpg\"\n",
    "img = misc.imread(img_path)\n",
    "\n",
    "segments = slic(norm(img), n_segments=1000, sigma=10)\n",
    "oot_img = mark_boundaries(norm(img), segments)\n",
    "misc.imsave(\"/home/finlay/test_sobel.jpg\", oot_img)"
   ]
  },
  {
   "cell_type": "code",
   "execution_count": 97,
   "metadata": {
    "collapsed": false
   },
   "outputs": [],
   "source": [
    "lab_path = \"/home/finlay/HMT/data/VenetusA/1200Hx900W/labels/VA171RN-0172.png\"\n",
    "img_path = \"/home/finlay/HMT/data/VenetusA/1200Hx900W/images/VA171RN-0172.jpg\"\n",
    "\n",
    "lab = misc.imread(lab_path)"
   ]
  },
  {
   "cell_type": "code",
   "execution_count": 49,
   "metadata": {
    "collapsed": false
   },
   "outputs": [],
   "source": [
    "from msslib.data import *\n"
   ]
  },
  {
   "cell_type": "code",
   "execution_count": 50,
   "metadata": {
    "collapsed": false
   },
   "outputs": [],
   "source": [
    "from msslib.observe import *"
   ]
  },
  {
   "cell_type": "code",
   "execution_count": 69,
   "metadata": {
    "collapsed": false
   },
   "outputs": [
    {
     "name": "stdout",
     "output_type": "stream",
     "text": [
      "(slice(24, 64, None), slice(34, 74, None))\n",
      "(slice(23, 63, None), slice(39, 79, None))\n",
      "(slice(23, 63, None), slice(28, 68, None))\n",
      "(slice(35, 75, None), slice(28, 68, None))\n",
      "(slice(20, 60, None), slice(29, 69, None))\n",
      "(slice(20, 60, None), slice(39, 79, None))\n",
      "(slice(28, 68, None), slice(31, 71, None))\n",
      "(slice(23, 63, None), slice(31, 71, None))\n",
      "(slice(27, 67, None), slice(30, 70, None))\n",
      "(slice(26, 66, None), slice(27, 67, None))\n"
     ]
    }
   ],
   "source": [
    "for i in range(10):\n",
    "    random_point_in_window(np.s_[40:60,40:60])()"
   ]
  },
  {
   "cell_type": "code",
   "execution_count": 89,
   "metadata": {
    "collapsed": false
   },
   "outputs": [
    {
     "name": "stdout",
     "output_type": "stream",
     "text": [
      "(30, 26)\n",
      "(31, 33)\n",
      "(37, 22)\n",
      "(25, 34)\n",
      "(21, 20)\n",
      "(26, 25)\n",
      "(21, 36)\n",
      "(27, 21)\n",
      "(33, 27)\n",
      "(33, 33)\n"
     ]
    },
    {
     "data": {
      "image/png": "[encoded data removed]",
      "text/plain": [
       "<matplotlib.figure.Figure at 0x7f83275b50b8>"
      ]
     },
     "metadata": {},
     "output_type": "display_data"
    }
   ],
   "source": [
    "import matplotlib.pyplot as plt\n",
    "import matplotlib.patches as patches\n",
    "\n",
    "fig1 = plt.figure()\n",
    "ax1 = fig1.add_subplot(111, aspect='equal')\n",
    "ax1.set_ylim([0,100])\n",
    "ax1.set_xlim([0,100])\n",
    "\n",
    "ax1.add_patch(patches.Rectangle((30,30), 20, 20, alpha=1))\n",
    "\n",
    "for i in range(10):\n",
    "    p = random_point_in_window(np.s_[20:40,20:40])()\n",
    "    print(p)\n",
    "    ax1.add_patch(\n",
    "        patches.Rectangle(p, 40, 40, alpha=0.1)\n",
    "    )\n"
   ]
  },
  {
   "cell_type": "code",
   "execution_count": null,
   "metadata": {
    "collapsed": false
   },
   "outputs": [],
   "source": []
  },
  {
   "cell_type": "code",
   "execution_count": null,
   "metadata": {
    "collapsed": false
   },
   "outputs": [],
   "source": []
  },
  {
   "cell_type": "code",
   "execution_count": null,
   "metadata": {
    "collapsed": true
   },
   "outputs": [],
   "source": []
  }
 ],
 "metadata": {
  "kernelspec": {
   "display_name": "Python 3",
   "language": "python",
   "name": "python3"
  },
  "language_info": {
   "codemirror_mode": {
    "name": "ipython",
    "version": 3
   },
   "file_extension": ".py",
   "mimetype": "text/x-python",
   "name": "python",
   "nbconvert_exporter": "python",
   "pygments_lexer": "ipython3",
   "version": "3.5.1"
  }
 },
 "nbformat": 4,
 "nbformat_minor": 0
}
