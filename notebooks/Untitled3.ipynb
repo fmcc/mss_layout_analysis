{
 "cells": [
  {
   "cell_type": "code",
   "execution_count": 1,
   "metadata": {
    "collapsed": true
   },
   "outputs": [],
   "source": [
    "%matplotlib inline"
   ]
  },
  {
   "cell_type": "code",
   "execution_count": 2,
   "metadata": {
    "collapsed": false
   },
   "outputs": [],
   "source": [
    "import numpy as np\n",
    "import matplotlib.pyplot as plt\n",
    "from msslib.utils import *\n",
    "\n",
    "import random\n",
    "\n",
    "from pystruct.models import GridCRF\n",
    "import pystruct.learners as ssvm\n",
    "\n",
    "import datetime\n",
    "\n",
    "\n",
    "crf = GridCRF(neighborhood=4)\n",
    "clf = ssvm.OneSlackSSVM(model=crf,n_jobs=-1, show_loss_every=1)\n"
   ]
  },
  {
   "cell_type": "code",
   "execution_count": 3,
   "metadata": {
    "collapsed": false
   },
   "outputs": [],
   "source": [
    "data_dir = \"/home/finlay/HMT/data/VenetusA/block_samples/LDA_block_samples/\"\n",
    "label_dir = \"/home/finlay/HMT/data/VenetusA/block_samples/block_labels/\"\n",
    "\n",
    "data_paths = sorted(listpaths(data_dir))\n",
    "label_paths = sorted(listpaths(label_dir))\n",
    "\n",
    "train_X = np.asarray([np.load(p) for p in data_paths[:50]])\n",
    "train_Y = np.asarray([np.load(p) for p in label_paths[:50]]) / 10\n",
    "train_Y = train_Y.astype('int')\n"
   ]
  },
  {
   "cell_type": "code",
   "execution_count": 4,
   "metadata": {
    "collapsed": false
   },
   "outputs": [
    {
     "name": "stdout",
     "output_type": "stream",
     "text": [
      "2016-05-27 00:27:17.940020\n"
     ]
    },
    {
     "name": "stderr",
     "output_type": "stream",
     "text": [
      "/usr/lib/python3.5/site-packages/pystruct/learners/one_slack_ssvm.py:409: VisibleDeprecationWarning: using a non-integer number instead of an integer will result in an error in the future\n",
      "  self.w = np.zeros(self.model.size_joint_feature)\n",
      "/usr/lib/python3.5/site-packages/pystruct/learners/one_slack_ssvm.py:415: VisibleDeprecationWarning: using a non-integer number instead of an integer will result in an error in the future\n",
      "  constraints.append((np.zeros(self.model.size_joint_feature), 0))\n",
      "/usr/lib/python3.5/site-packages/pystruct/models/base.py:34: VisibleDeprecationWarning: using a non-integer number instead of an integer will result in an error in the future\n",
      "  joint_feature_ = np.zeros(self.size_joint_feature)\n"
     ]
    },
    {
     "data": {
      "text/plain": [
       "OneSlackSSVM(C=1.0, break_on_bad=False, cache_tol='auto',\n",
       "       check_constraints=False, inactive_threshold=1e-05,\n",
       "       inactive_window=50, inference_cache=0, logger=None, max_iter=10000,\n",
       "       model=GridCRF(n_states: 5, inference_method: ad3), n_jobs=-1,\n",
       "       negativity_constraint=None, show_loss_every=1, switch_to=None,\n",
       "       tol=0.001, verbose=0)"
      ]
     },
     "execution_count": 4,
     "metadata": {},
     "output_type": "execute_result"
    }
   ],
   "source": [
    "print(datetime.datetime.now())\n",
    "clf.fit(train_X, train_Y)\n"
   ]
  },
  {
   "cell_type": "code",
   "execution_count": 5,
   "metadata": {
    "collapsed": false
   },
   "outputs": [
    {
     "name": "stdout",
     "output_type": "stream",
     "text": [
      "2016-05-27 00:04:13.517739\n"
     ]
    }
   ],
   "source": [
    "print(datetime.datetime.now())\n"
   ]
  },
  {
   "cell_type": "code",
   "execution_count": 5,
   "metadata": {
    "collapsed": false
   },
   "outputs": [],
   "source": [
    "test_X = np.asarray([np.load(p) for p in data_paths[50:]])\n",
    "Y_pred = np.array(clf.predict(test_X))\n"
   ]
  },
  {
   "cell_type": "code",
   "execution_count": 6,
   "metadata": {
    "collapsed": false
   },
   "outputs": [],
   "source": [
    "from scipy import misc\n",
    "out_dir ='/home/finlay/test_runs/LDA_SSVM_grid_run/B/'"
   ]
  },
  {
   "cell_type": "code",
   "execution_count": 11,
   "metadata": {
    "collapsed": false
   },
   "outputs": [
    {
     "data": {
      "text/plain": [
       "<matplotlib.image.AxesImage at 0x7fe8ff244400>"
      ]
     },
     "execution_count": 11,
     "metadata": {},
     "output_type": "execute_result"
    },
    {
     "data": {
      "image/png": "[encoded data removed]",
      "text/plain": [
       "<matplotlib.figure.Figure at 0x7fe8ff286c50>"
      ]
     },
     "metadata": {},
     "output_type": "display_data"
    }
   ],
   "source": [
    "plt.imshow(Y_pred[80]*10, interpolation='nearest')"
   ]
  },
  {
   "cell_type": "code",
   "execution_count": 13,
   "metadata": {
    "collapsed": false
   },
   "outputs": [
    {
     "name": "stdout",
     "output_type": "stream",
     "text": [
      "[ 0 10 20 30 40]\n",
      "[ 0 10 20 30 40]\n",
      "[ 0 10 20 30 40]\n",
      "[ 0 10 20 30 40]\n",
      "[ 0 10 20 30 40]\n",
      "[ 0 10 20 30 40]\n",
      "[ 0 10 20 30 40]\n",
      "[ 0 10 20 30 40]\n",
      "[ 0 10 20 30 40]\n",
      "[ 0 10 20 30 40]\n",
      "[ 0 10 20 30 40]\n",
      "[ 0 10 20 30 40]\n",
      "[ 0 10 20 30 40]\n",
      "[ 0 10 20 30 40]\n",
      "[ 0 10 20 30 40]\n",
      "[ 0 10 20 30 40]\n",
      "[ 0 10 20 30 40]\n",
      "[ 0 10 20 30 40]\n",
      "[ 0 10 20 30 40]\n",
      "[ 0 10 20 30 40]\n",
      "[ 0 10 20 30 40]\n",
      "[ 0 10 20 30 40]\n",
      "[ 0 10 20 30 40]\n",
      "[ 0 10 20 30 40]\n",
      "[ 0 10 20 30 40]\n",
      "[ 0 10 20 30 40]\n",
      "[ 0 10 20 30 40]\n",
      "[ 0 10 20 30 40]\n",
      "[ 0 10 20 30 40]\n",
      "[ 0 10 20 30 40]\n",
      "[ 0 10 20 30 40]\n",
      "[ 0 10 20 30 40]\n",
      "[ 0 10 20 30 40]\n",
      "[ 0 10 20 30 40]\n",
      "[ 0 10 20 30 40]\n",
      "[ 0 10 20 30 40]\n",
      "[ 0 10 20 30 40]\n",
      "[ 0 10 20 30 40]\n",
      "[ 0 10 20 30 40]\n",
      "[ 0 10 20 30 40]\n",
      "[ 0 10 20 30 40]\n",
      "[ 0 10 20 30 40]\n",
      "[ 0 10 20 30 40]\n",
      "[ 0 10 20 30 40]\n",
      "[ 0 10 20 30 40]\n",
      "[ 0 10 20 30 40]\n",
      "[ 0 10 20 30 40]\n",
      "[ 0 10 20 30 40]\n",
      "[ 0 10 20 30 40]\n",
      "[ 0 10 20 30 40]\n",
      "[ 0 10 20 30 40]\n",
      "[ 0 10 20 30 40]\n",
      "[ 0 10 20 30 40]\n",
      "[ 0 10 20 30 40]\n",
      "[ 0 10 20 30 40]\n",
      "[ 0 10 20 30 40]\n",
      "[ 0 10 20 30 40]\n",
      "[ 0 10 20 30 40]\n",
      "[ 0 10 20 30 40]\n",
      "[ 0 10 20 30 40]\n",
      "[ 0 10 20 30 40]\n",
      "[ 0 10 20 30 40]\n",
      "[ 0 10 20 30 40]\n",
      "[ 0 10 20 30 40]\n",
      "[ 0 10 20 30 40]\n",
      "[ 0 10 20 30 40]\n",
      "[ 0 10 20 30 40]\n",
      "[ 0 10 20 30 40]\n",
      "[ 0 10 20 30 40]\n",
      "[ 0 10 20 30 40]\n",
      "[ 0 10 20 30 40]\n",
      "[ 0 10 20 30 40]\n",
      "[ 0 10 20 30 40]\n",
      "[ 0 10 20 30 40]\n",
      "[ 0 10 20 30 40]\n",
      "[ 0 10 20 30 40]\n",
      "[ 0 10 30 40]\n",
      "[ 0 10 20 30 40]\n",
      "[ 0 10 20 30 40]\n",
      "[ 0 10 20 30 40]\n",
      "[ 0 10 20 30 40]\n",
      "[ 0 10 20 30 40]\n",
      "[ 0 10 20 30 40]\n",
      "[ 0 10 20 30 40]\n",
      "[ 0 10 20 30 40]\n",
      "[ 0 10 20 30 40]\n",
      "[ 0 10 20 30 40]\n",
      "[ 0 10 20 30 40]\n",
      "[ 0 10 20 30 40]\n",
      "[ 0 10 20 30 40]\n",
      "[ 0 10 20 30 40]\n",
      "[ 0 10 20 30 40]\n",
      "[ 0 10 20 30 40]\n",
      "[ 0 10 20 30 40]\n",
      "[ 0 10 20 30 40]\n",
      "[ 0 10 20 30 40]\n",
      "[ 0 10 20 30 40]\n",
      "[ 0 10 20 30 40]\n",
      "[ 0 10 20 30 40]\n",
      "[ 0 10 20 30 40]\n",
      "[ 0 10 20 30 40]\n",
      "[ 0 10 20 30 40]\n",
      "[ 0 10 20 30 40]\n",
      "[ 0 10 20 30 40]\n",
      "[ 0 10 20 30 40]\n",
      "[ 0 10 20 30 40]\n",
      "[ 0 10 20 30 40]\n",
      "[ 0 10 20 30 40]\n",
      "[ 0 10 20 30 40]\n",
      "[ 0 10 20 30 40]\n",
      "[ 0 10 20 30 40]\n",
      "[ 0 10 20 30 40]\n",
      "[ 0 10 30 40]\n",
      "[ 0 10 20 30 40]\n",
      "[ 0 10 20 30 40]\n",
      "[ 0 10 20 30 40]\n"
     ]
    }
   ],
   "source": [
    "for p,i in zip(data_paths[10:], Y_pred):\n",
    "    p = only_basename(p)\n",
    "    i = i*10\n",
    "    n_image = resize_img(i, (1200,900))\n",
    "    n_image[n_image==64] = 10\n",
    "    #n_image[n_image==45] = 10\n",
    "\n",
    "    n_image[n_image==127] = 20\n",
    "    #n_image[n_image==85] = 20\n",
    "\n",
    "    n_image[n_image==191] = 30\n",
    "    #n_image[n_image==170] = 30\n",
    "    \n",
    "    n_image[n_image==255] = 40\n",
    "    name = p.split(\"_\")[0]\n",
    "    print(np.unique(n_image))\n",
    "    oot= format_path(out_dir, 'png', name)\n",
    "    misc.imsave(oot, n_image)"
   ]
  },
  {
   "cell_type": "code",
   "execution_count": 23,
   "metadata": {
    "collapsed": false
   },
   "outputs": [
    {
     "data": {
      "text/plain": [
       "array([0, 1, 2, 3])"
      ]
     },
     "execution_count": 23,
     "metadata": {},
     "output_type": "execute_result"
    }
   ],
   "source": [
    "np.unique(Y_pred[12])"
   ]
  },
  {
   "cell_type": "code",
   "execution_count": 17,
   "metadata": {
    "collapsed": false
   },
   "outputs": [
    {
     "data": {
      "text/plain": [
       "(60, 45)"
      ]
     },
     "execution_count": 17,
     "metadata": {},
     "output_type": "execute_result"
    }
   ],
   "source": [
    "Y_pred[12].shape"
   ]
  },
  {
   "cell_type": "code",
   "execution_count": 22,
   "metadata": {
    "collapsed": false
   },
   "outputs": [],
   "source": [
    "aye = np.kron(Y_pred[12], np.ones((20,20)))"
   ]
  },
  {
   "cell_type": "code",
   "execution_count": 24,
   "metadata": {
    "collapsed": false
   },
   "outputs": [
    {
     "data": {
      "text/plain": [
       "<matplotlib.image.AxesImage at 0x7fe8ff0d7630>"
      ]
     },
     "execution_count": 24,
     "metadata": {},
     "output_type": "execute_result"
    },
    {
     "data": {
      "image/png": "[encoded data removed]",
      "text/plain": [
       "<matplotlib.figure.Figure at 0x7fe8ff2196a0>"
      ]
     },
     "metadata": {},
     "output_type": "display_data"
    }
   ],
   "source": [
    "plt.imshow(aye)"
   ]
  },
  {
   "cell_type": "code",
   "execution_count": null,
   "metadata": {
    "collapsed": true
   },
   "outputs": [],
   "source": []
  }
 ],
 "metadata": {
  "kernelspec": {
   "display_name": "Python 3",
   "language": "python",
   "name": "python3"
  },
  "language_info": {
   "codemirror_mode": {
    "name": "ipython",
    "version": 3
   },
   "file_extension": ".py",
   "mimetype": "text/x-python",
   "name": "python",
   "nbconvert_exporter": "python",
   "pygments_lexer": "ipython3",
   "version": "3.5.1"
  }
 },
 "nbformat": 4,
 "nbformat_minor": 0
}
